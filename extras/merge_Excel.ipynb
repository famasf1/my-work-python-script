{
 "cells": [
  {
   "cell_type": "code",
   "execution_count": 98,
   "metadata": {},
   "outputs": [],
   "source": [
    "import openpyxl\n",
    "import pandas as pd\n",
    "import os \n",
    "import re\n",
    "import datetime as dt\n",
    "import shutil"
   ]
  },
  {
   "cell_type": "code",
   "execution_count": 116,
   "metadata": {},
   "outputs": [],
   "source": [
    "os.chdir(r\"C:\\Users\\Comseven\\Documents\\DHL\\Completed\\6-66\")\n",
    "main = os.getcwd()\n"
   ]
  },
  {
   "cell_type": "code",
   "execution_count": 94,
   "metadata": {},
   "outputs": [
    {
     "name": "stdout",
     "output_type": "stream",
     "text": [
      "dhl 2023-01-24.xlsx\n",
      "dhl 2023-01-25.xlsx\n",
      "dhl 2023-01-26.xlsx\n",
      "dhl 2023-01-27.xlsx\n",
      "dhl 2023-01-28.xlsx\n",
      "dhl 2023-01-29.xlsx\n",
      "dhl 2023-01-30.xlsx\n",
      "dhl 2023-01-31.xlsx\n"
     ]
    }
   ],
   "source": [
    "for file in os.listdir(main):\n",
    "    print(file)\n",
    "    match = re.findall(r\"[0-9]+-[0-9]+-[0-9]+\", file)\n",
    "    if match:\n",
    "        dt_convert = dt.datetime.strptime(match[0], \"%Y-%m-%d\")\n",
    "        formatted = dt_convert.strftime('%Y-%m-%d')\n",
    "        os.rename(f\"dhl {match[0]}.xlsx\", f\"dhl {formatted}.xls\")\n"
   ]
  },
  {
   "cell_type": "code",
   "execution_count": 117,
   "metadata": {},
   "outputs": [],
   "source": [
    "for file in os.listdir(main):\n",
    "    match = re.findall(r\"DHL [0-9]+-[0-9]+-[0-9]+.xlsx\", file)\n",
    "    if match:\n",
    "        shutil.copyfile(match[0], os.path.join(r\"C:\\Users\\Comseven\\Documents\\DHL\\Completed\\special\", match[0]))\n",
    "    else:\n",
    "        pass\n",
    "    "
   ]
  },
  {
   "cell_type": "code",
   "execution_count": 139,
   "metadata": {},
   "outputs": [
    {
     "ename": "KeyError",
     "evalue": "'POD'",
     "output_type": "error",
     "traceback": [
      "\u001b[1;31m---------------------------------------------------------------------------\u001b[0m",
      "\u001b[1;31mKeyError\u001b[0m                                  Traceback (most recent call last)",
      "File \u001b[1;32mc:\\Users\\Comseven\\AppData\\Local\\Programs\\Python\\Python310\\lib\\site-packages\\pandas\\core\\indexes\\base.py:3621\u001b[0m, in \u001b[0;36mIndex.get_loc\u001b[1;34m(self, key, method, tolerance)\u001b[0m\n\u001b[0;32m   3620\u001b[0m \u001b[39mtry\u001b[39;00m:\n\u001b[1;32m-> 3621\u001b[0m     \u001b[39mreturn\u001b[39;00m \u001b[39mself\u001b[39;49m\u001b[39m.\u001b[39;49m_engine\u001b[39m.\u001b[39;49mget_loc(casted_key)\n\u001b[0;32m   3622\u001b[0m \u001b[39mexcept\u001b[39;00m \u001b[39mKeyError\u001b[39;00m \u001b[39mas\u001b[39;00m err:\n",
      "File \u001b[1;32mc:\\Users\\Comseven\\AppData\\Local\\Programs\\Python\\Python310\\lib\\site-packages\\pandas\\_libs\\index.pyx:136\u001b[0m, in \u001b[0;36mpandas._libs.index.IndexEngine.get_loc\u001b[1;34m()\u001b[0m\n",
      "File \u001b[1;32mc:\\Users\\Comseven\\AppData\\Local\\Programs\\Python\\Python310\\lib\\site-packages\\pandas\\_libs\\index.pyx:163\u001b[0m, in \u001b[0;36mpandas._libs.index.IndexEngine.get_loc\u001b[1;34m()\u001b[0m\n",
      "File \u001b[1;32mpandas\\_libs\\hashtable_class_helper.pxi:5198\u001b[0m, in \u001b[0;36mpandas._libs.hashtable.PyObjectHashTable.get_item\u001b[1;34m()\u001b[0m\n",
      "File \u001b[1;32mpandas\\_libs\\hashtable_class_helper.pxi:5206\u001b[0m, in \u001b[0;36mpandas._libs.hashtable.PyObjectHashTable.get_item\u001b[1;34m()\u001b[0m\n",
      "\u001b[1;31mKeyError\u001b[0m: 'POD'",
      "\nThe above exception was the direct cause of the following exception:\n",
      "\u001b[1;31mKeyError\u001b[0m                                  Traceback (most recent call last)",
      "\u001b[1;32md:\\Workstuff\\my-work-python-script\\extras\\merge_Excel.ipynb Cell 5\u001b[0m in \u001b[0;36m<cell line: 12>\u001b[1;34m()\u001b[0m\n\u001b[0;32m     <a href='vscode-notebook-cell:/d%3A/Workstuff/my-work-python-script/extras/merge_Excel.ipynb#W4sZmlsZQ%3D%3D?line=11'>12</a>\u001b[0m \u001b[39mfor\u001b[39;00m file \u001b[39min\u001b[39;00m os\u001b[39m.\u001b[39mlistdir(new_main):\n\u001b[0;32m     <a href='vscode-notebook-cell:/d%3A/Workstuff/my-work-python-script/extras/merge_Excel.ipynb#W4sZmlsZQ%3D%3D?line=12'>13</a>\u001b[0m     sheet \u001b[39m=\u001b[39m pd\u001b[39m.\u001b[39mread_excel(file, dtype\u001b[39m=\u001b[39m\u001b[39mobject\u001b[39m)\n\u001b[1;32m---> <a href='vscode-notebook-cell:/d%3A/Workstuff/my-work-python-script/extras/merge_Excel.ipynb#W4sZmlsZQ%3D%3D?line=13'>14</a>\u001b[0m     stock \u001b[39m=\u001b[39m sheet[sheet[\u001b[39m\"\u001b[39;49m\u001b[39mPOD\u001b[39;49m\u001b[39m\"\u001b[39;49m]\u001b[39m.\u001b[39misin([\u001b[39m\"\u001b[39m\u001b[39mID33 : คลังสินค้า Service Headoffice\u001b[39m\u001b[39m\"\u001b[39m, \u001b[39m\"\u001b[39m\u001b[39mID49 : สินค้าโยกเข้าคลัง (01/10/2008)\u001b[39m\u001b[39m\"\u001b[39m])]\n\u001b[0;32m     <a href='vscode-notebook-cell:/d%3A/Workstuff/my-work-python-script/extras/merge_Excel.ipynb#W4sZmlsZQ%3D%3D?line=14'>15</a>\u001b[0m     stock_insure \u001b[39m=\u001b[39m sheet[sheet[\u001b[39m\"\u001b[39m\u001b[39mPOD\u001b[39m\u001b[39m\"\u001b[39m]\u001b[39m.\u001b[39misin([\u001b[39m\"\u001b[39m\u001b[39mID33 : คลังสินค้า Service ฝั่ง Insure\u001b[39m\u001b[39m\"\u001b[39m, \u001b[39m\"\u001b[39m\u001b[39mID49 : สินค้า Trade in\u001b[39m\u001b[39m\"\u001b[39m])]\n\u001b[0;32m     <a href='vscode-notebook-cell:/d%3A/Workstuff/my-work-python-script/extras/merge_Excel.ipynb#W4sZmlsZQ%3D%3D?line=15'>16</a>\u001b[0m     \u001b[39mwith\u001b[39;00m pd\u001b[39m.\u001b[39mExcelWriter(\u001b[39mr\u001b[39m\u001b[39m\"\u001b[39m\u001b[39m../special/DHL Jan-Jun-23.xlsx\u001b[39m\u001b[39m\"\u001b[39m, mode\u001b[39m=\u001b[39m\u001b[39m\"\u001b[39m\u001b[39ma\u001b[39m\u001b[39m\"\u001b[39m, engine\u001b[39m=\u001b[39m\u001b[39m\"\u001b[39m\u001b[39mopenpyxl\u001b[39m\u001b[39m\"\u001b[39m, if_sheet_exists\u001b[39m=\u001b[39m\u001b[39m\"\u001b[39m\u001b[39moverlay\u001b[39m\u001b[39m\"\u001b[39m) \u001b[39mas\u001b[39;00m excel_file:\n",
      "File \u001b[1;32mc:\\Users\\Comseven\\AppData\\Local\\Programs\\Python\\Python310\\lib\\site-packages\\pandas\\core\\frame.py:3505\u001b[0m, in \u001b[0;36mDataFrame.__getitem__\u001b[1;34m(self, key)\u001b[0m\n\u001b[0;32m   3503\u001b[0m \u001b[39mif\u001b[39;00m \u001b[39mself\u001b[39m\u001b[39m.\u001b[39mcolumns\u001b[39m.\u001b[39mnlevels \u001b[39m>\u001b[39m \u001b[39m1\u001b[39m:\n\u001b[0;32m   3504\u001b[0m     \u001b[39mreturn\u001b[39;00m \u001b[39mself\u001b[39m\u001b[39m.\u001b[39m_getitem_multilevel(key)\n\u001b[1;32m-> 3505\u001b[0m indexer \u001b[39m=\u001b[39m \u001b[39mself\u001b[39;49m\u001b[39m.\u001b[39;49mcolumns\u001b[39m.\u001b[39;49mget_loc(key)\n\u001b[0;32m   3506\u001b[0m \u001b[39mif\u001b[39;00m is_integer(indexer):\n\u001b[0;32m   3507\u001b[0m     indexer \u001b[39m=\u001b[39m [indexer]\n",
      "File \u001b[1;32mc:\\Users\\Comseven\\AppData\\Local\\Programs\\Python\\Python310\\lib\\site-packages\\pandas\\core\\indexes\\base.py:3623\u001b[0m, in \u001b[0;36mIndex.get_loc\u001b[1;34m(self, key, method, tolerance)\u001b[0m\n\u001b[0;32m   3621\u001b[0m     \u001b[39mreturn\u001b[39;00m \u001b[39mself\u001b[39m\u001b[39m.\u001b[39m_engine\u001b[39m.\u001b[39mget_loc(casted_key)\n\u001b[0;32m   3622\u001b[0m \u001b[39mexcept\u001b[39;00m \u001b[39mKeyError\u001b[39;00m \u001b[39mas\u001b[39;00m err:\n\u001b[1;32m-> 3623\u001b[0m     \u001b[39mraise\u001b[39;00m \u001b[39mKeyError\u001b[39;00m(key) \u001b[39mfrom\u001b[39;00m \u001b[39merr\u001b[39;00m\n\u001b[0;32m   3624\u001b[0m \u001b[39mexcept\u001b[39;00m \u001b[39mTypeError\u001b[39;00m:\n\u001b[0;32m   3625\u001b[0m     \u001b[39m# If we have a listlike key, _check_indexing_error will raise\u001b[39;00m\n\u001b[0;32m   3626\u001b[0m     \u001b[39m#  InvalidIndexError. Otherwise we fall through and re-raise\u001b[39;00m\n\u001b[0;32m   3627\u001b[0m     \u001b[39m#  the TypeError.\u001b[39;00m\n\u001b[0;32m   3628\u001b[0m     \u001b[39mself\u001b[39m\u001b[39m.\u001b[39m_check_indexing_error(key)\n",
      "\u001b[1;31mKeyError\u001b[0m: 'POD'"
     ]
    }
   ],
   "source": [
    "#now combine it\n",
    "new_main = os.chdir(r\"C:\\Users\\Comseven\\Documents\\DHL\\Completed\\special\")\n",
    "new_wb = openpyxl.Workbook()\n",
    "new_wb.save(f\"DHL Jan-Jun-23.xlsx\")\n",
    "load_new_wb = openpyxl.load_workbook(os.path.join(r\"C:\\Users\\Comseven\\Documents\\DHL\\Completed\\special\", \"DHL Jan-Jun-23.xlsx\"), data_only=True)\n",
    "sheet = load_new_wb[\"Sheet\"]\n",
    "sheet.title = \"Stock Out 33-49\"\n",
    "load_new_wb.create_sheet(\"Stock Out Insure 33-49\")\n",
    "load_new_wb.save(f\"DHL Jan-Jun-23.xlsx\")\n",
    "\n",
    "\n",
    "for file in os.listdir(new_main):\n",
    "    sheet = pd.read_excel(file, dtype=object)\n",
    "    stock = sheet[sheet[\"POD\"].isin([\"ID33 : คลังสินค้า Service Headoffice\", \"ID49 : สินค้าโยกเข้าคลัง (01/10/2008)\"])]\n",
    "    stock_insure = sheet[sheet[\"POD\"].isin([\"ID33 : คลังสินค้า Service ฝั่ง Insure\", \"ID49 : สินค้า Trade in\"])]\n",
    "    with pd.ExcelWriter(r\"../special/DHL Jan-Jun-23.xlsx\", mode=\"a\", engine=\"openpyxl\", if_sheet_exists=\"overlay\") as excel_file:\n",
    "        excel_file.number_format = openpyxl.styles.numbers.FORMAT_TEXT\n",
    "        stock.to_excel(excel_file, sheet_name=\"Stock Out 33-49\", header=False, index=False, startrow=excel_file.sheets[\"Stock Out 33-49\"].max_row)\n",
    "        stock_insure.to_excel(excel_file, sheet_name=\"Stock Out Insure 33-49\", header=False, index=False, startrow=excel_file.sheets[\"Stock Out Insure 33-49\"].max_row)\n",
    "\n",
    "    \n",
    "    #with pd.ExcelWriter(r\"..//DHL Jan-Jun-23.xlsx\", mode=\"a\", if_sheet_exists=\"overlay\", engine=\"openpyxl\") as excel_file:\n",
    "    #    excel_file.number_format = openpyxl.styles.numbers.FORMAT_TEXT\n"
   ]
  },
  {
   "cell_type": "code",
   "execution_count": null,
   "metadata": {},
   "outputs": [],
   "source": []
  }
 ],
 "metadata": {
  "kernelspec": {
   "display_name": "Python 3",
   "language": "python",
   "name": "python3"
  },
  "language_info": {
   "codemirror_mode": {
    "name": "ipython",
    "version": 3
   },
   "file_extension": ".py",
   "mimetype": "text/x-python",
   "name": "python",
   "nbconvert_exporter": "python",
   "pygments_lexer": "ipython3",
   "version": "3.10.6"
  },
  "orig_nbformat": 4
 },
 "nbformat": 4,
 "nbformat_minor": 2
}
