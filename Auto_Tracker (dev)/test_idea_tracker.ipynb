{
 "cells": [
  {
   "cell_type": "code",
   "execution_count": 5,
   "metadata": {},
   "outputs": [],
   "source": [
    "import pandas as pd\n",
    "import auto_checktrack\n",
    "import openpyxl\n",
    "\n",
    "df_data = pd.DataFrame(pd.read_clipboard(sep='\\t'))\n",
    "\n",
    "header = list(df_data.columns)\n",
    "donotdrop = ['Doc Date','Branch (Name)','Branch To (Name)','Booking ID']\n"
   ]
  },
  {
   "cell_type": "code",
   "execution_count": 6,
   "metadata": {},
   "outputs": [
    {
     "name": "stderr",
     "output_type": "stream",
     "text": [
      "C:\\Users\\jambo\\AppData\\Local\\Temp\\ipykernel_8948\\3705055300.py:2: SettingWithCopyWarning: \n",
      "A value is trying to be set on a copy of a slice from a DataFrame.\n",
      "Try using .loc[row_indexer,col_indexer] = value instead\n",
      "\n",
      "See the caveats in the documentation: https://pandas.pydata.org/pandas-docs/stable/user_guide/indexing.html#returning-a-view-versus-a-copy\n",
      "  new_data['Booking ID'] = new_data['Booking ID'].str.replace('Booking-DHL ID : ','')\n"
     ]
    }
   ],
   "source": [
    "new_data = df_data[donotdrop]\n",
    "new_data['Booking ID'] = new_data['Booking ID'].str.replace('Booking-DHL ID : ','')"
   ]
  },
  {
   "cell_type": "code",
   "execution_count": 14,
   "metadata": {},
   "outputs": [],
   "source": [
    "new = new_data.dropna()['Booking ID']   #.to_csv('retrieve_tracking.txt', header=None, index=None)\n",
    "new = pd.DataFrame(new)\n",
    "new['Booking ID'] = new.apply(lambda x: x['Booking ID'].split(' , '), axis=1)\n",
    "new.explode('Booking ID').to_csv('retrieve_tracking.txt', header=None, index=None)"
   ]
  },
  {
   "cell_type": "code",
   "execution_count": 21,
   "metadata": {},
   "outputs": [],
   "source": []
  },
  {
   "cell_type": "code",
   "execution_count": null,
   "metadata": {},
   "outputs": [],
   "source": []
  }
 ],
 "metadata": {
  "kernelspec": {
   "display_name": "Python 3.10.5 64-bit",
   "language": "python",
   "name": "python3"
  },
  "language_info": {
   "codemirror_mode": {
    "name": "ipython",
    "version": 3
   },
   "file_extension": ".py",
   "mimetype": "text/x-python",
   "name": "python",
   "nbconvert_exporter": "python",
   "pygments_lexer": "ipython3",
   "version": "3.10.5"
  },
  "orig_nbformat": 4,
  "vscode": {
   "interpreter": {
    "hash": "bda2d7e1d8ce3e9d9eb4845ce2bf2d2cd8b95573ee5d31a32a74e85678cbafe3"
   }
  }
 },
 "nbformat": 4,
 "nbformat_minor": 2
}
