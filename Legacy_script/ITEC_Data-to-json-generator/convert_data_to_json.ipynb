{
 "cells": [
  {
   "cell_type": "code",
   "execution_count": 1,
   "metadata": {},
   "outputs": [],
   "source": [
    "#import\n",
    "\n",
    "import pandas as pd"
   ]
  },
  {
   "cell_type": "code",
   "execution_count": null,
   "metadata": {},
   "outputs": [],
   "source": [
    "\n",
    "# read clipboard\n",
    "#option 1 : get the whole thing in clipboard, easier but doesn't work in remote env\n",
    "df = pd.read_clipboard(sep='\\t')\n",
    "#option 2 : get the whole thing from excel\n",
    "\n",
    "#took option 1"
   ]
  },
  {
   "cell_type": "code",
   "execution_count": 4,
   "metadata": {},
   "outputs": [],
   "source": [
    "#concat PHYID\n",
    "\n",
    "data_concat = pd.DataFrame(df['ID'] + \"-\" + df['Branch (ID)']).rename(columns={0: 'PHYID'}, inplace=False)\n",
    "data_concat = data_concat.PHYID.str.replace(\",\",\"\")"
   ]
  },
  {
   "cell_type": "code",
   "execution_count": 5,
   "metadata": {},
   "outputs": [],
   "source": [
    "#then concat 2 frames\n",
    "\n",
    "frames = [df, data_concat]\n",
    "new_frame = pd.concat(frames, axis=1) #level=PHYID"
   ]
  },
  {
   "cell_type": "code",
   "execution_count": 6,
   "metadata": {},
   "outputs": [],
   "source": [
    "# create a new grouped frame, sum all items and set new index before dumping JSON\n",
    "\n",
    "required = ['PHYID','Product (Code)','Product (Name)','Serial','Number']\n",
    "new_frame = pd.DataFrame(new_frame[required])\n",
    "grouped = new_frame.groupby(['PHYID', 'Product (Code)', 'Product (Name)', 'Serial'], as_index=False, dropna=False).agg({'Number' : 'sum'}).fillna(\"NULL\").set_index(keys=['PHYID','Product (Code)'])\n"
   ]
  },
  {
   "cell_type": "code",
   "execution_count": 77,
   "metadata": {},
   "outputs": [],
   "source": [
    "#Create nested dict using defaultdict and loop\n",
    "#thanks to : https://stackoverflow.com/questions/46205399/how-to-generate-n-level-hierarchical-json-from-pandas-dataframe\n",
    "\n",
    "from collections import defaultdict\n",
    "import json\n",
    "nested_dict = lambda: defaultdict(dict)\n",
    "nested = nested_dict()\n",
    "\n",
    "for row in grouped.itertuples():\n",
    "    nested[row.Index[0]][row.Index[1]] = {'Product (Code)' : row.Index[1],'Product (Name)' : row._1, 'Serial' : row.Serial, 'Number' : row.Number}\n",
    "\n",
    "with open(\"stockout_data.json\",\"w+\") as file:\n",
    "    json.dump(nested, file, indent=3)\n",
    "\n",
    "#with open(\"readable_dup_allow.xlsx\", 'wb') as file:\n",
    "    #grouped.to_excel(file, sheet_name=\"1\", index=True)\n",
    "\n"
   ]
  },
  {
   "cell_type": "markdown",
   "metadata": {
    "tags": []
   },
   "source": [
    "<H2>LEGACY CODE</H2>"
   ]
  },
  {
   "cell_type": "code",
   "execution_count": null,
   "metadata": {},
   "outputs": [],
   "source": [
    "#my_df = df #df or df_excel\n",
    "\n",
    "data_concat = pd.DataFrame(df['Stock Out (ID)'] + \"-\" + df['Branch (ID)']).rename(columns={0 : 'PHYID'}, inplace=False)\n",
    "data_concat = data_concat['PHYID'].str.replace(\",\",\"\")"
   ]
  },
  {
   "cell_type": "code",
   "execution_count": null,
   "metadata": {},
   "outputs": [],
   "source": [
    "#read clipboard\n",
    "\n",
    "\n",
    "\n",
    "data_cat = pd.concat([df,data_concat], axis=1)\n",
    "result = data_cat.set_index('PHYID').rename(columns={'Good/Bad' : 'Good | Bad'}, inplace=False)\n",
    "##need Booking ID, Stockout-ID, Branch ID,  Branch To Name, Comment\n",
    "required = ['Booking ID','Stock Out (ID)','Branch (ID)','Branch To (Name)','Comment']\n",
    "result['Booking ID'] = result['Booking ID'].str.replace('Booking-DHL ID : ','')\n",
    "result = pd.DataFrame(result[required])"
   ]
  },
  {
   "cell_type": "code",
   "execution_count": 29,
   "metadata": {},
   "outputs": [
    {
     "name": "stdout",
     "output_type": "stream",
     "text": [
      "ID33_Headoffice.json\n"
     ]
    }
   ],
   "source": [
    "# 0 = ID33_Headoffice\n",
    "# 1 = ID33_insure\n",
    "# 2 = ID49\n",
    "# 3 = ID49_Tradein\n",
    "\n",
    "filedict = {0 : 'ID33_Headoffice', 1 : 'ID33_insure', 2 : 'ID49', 3 : 'ID49_Tradein'}\n"
   ]
  },
  {
   "cell_type": "code",
   "execution_count": 45,
   "metadata": {},
   "outputs": [],
   "source": [
    "get_filedict = 3\n",
    "\n",
    "with open(f'{filedict.get(get_filedict)}.json','w+', encoding='utf-8',) as file:\n",
    "    result.to_json(file,orient='index',index=True, force_ascii=False, indent=2)"
   ]
  },
  {
   "cell_type": "code",
   "execution_count": null,
   "metadata": {},
   "outputs": [],
   "source": [
    "import firebase_admin as fb\n",
    "from firebase_admin import firestore\n",
    "import pandas as pd\n",
    "\n",
    "cred = fb.credentials.Certificate(rf\"C:\\ITEC_Support\\my-work-python-script\\Database_in_pandas\\serviceAccount.json\")\n",
    "default_app = fb.initialize_app(cred)\n",
    "db = firestore.client()\n",
    "\n"
   ]
  },
  {
   "cell_type": "code",
   "execution_count": 18,
   "metadata": {},
   "outputs": [],
   "source": [
    "result = result.to_dict(orient='index')"
   ]
  },
  {
   "cell_type": "code",
   "execution_count": null,
   "metadata": {},
   "outputs": [],
   "source": [
    "my_doc_Ref = db.collection(\"Data\").document(\"ID:33_Insure\")\n",
    "my_doc_Ref.set(result)"
   ]
  },
  {
   "cell_type": "code",
   "execution_count": null,
   "metadata": {},
   "outputs": [],
   "source": []
  }
 ],
 "metadata": {
  "kernelspec": {
   "display_name": "Python 3.10.6 64-bit",
   "language": "python",
   "name": "python3"
  },
  "language_info": {
   "codemirror_mode": {
    "name": "ipython",
    "version": 3
   },
   "file_extension": ".py",
   "mimetype": "text/x-python",
   "name": "python",
   "nbconvert_exporter": "python",
   "pygments_lexer": "ipython3",
   "version": "3.10.6 (tags/v3.10.6:9c7b4bd, Aug  1 2022, 21:53:49) [MSC v.1932 64 bit (AMD64)]"
  },
  "orig_nbformat": 4,
  "vscode": {
   "interpreter": {
    "hash": "1ef56a61dee2f6ac1a5ec28cfc093844d4b9ae4f3bee2866e0bdd69f097e7c38"
   }
  }
 },
 "nbformat": 4,
 "nbformat_minor": 2
}
