{
 "cells": [
  {
   "cell_type": "code",
   "execution_count": 30,
   "metadata": {},
   "outputs": [],
   "source": [
    "#BLOCK 117\n",
    "\n",
    "import openpyxl\n",
    "import os, glob, shutil\n",
    "from tkinter import Tk, filedialog\n",
    "import itertools\n",
    "import natsort as ns\n",
    "\n",
    "asset_dir = os.path.join(r\"D:\\Workstuff\\my-work-python-script\\project_bebephone\", r\"Asset\")\n",
    "\n",
    "root = Tk()\n",
    "\n",
    "#get asset\n",
    "asset_dir_117 = os.path.join(asset_dir, r\"block117template.xlsm\")\n",
    "block117_wb = openpyxl.load_workbook(asset_dir_117, data_only=True, keep_vba=True)\n",
    "block117_ws = block117_wb.sheetnames\n",
    "block117 = block117_wb[block117_ws[0]]\n",
    "\n",
    "#get data\n",
    "get_wb = filedialog.askopenfilename(title=\"เลือกไฟล์ Excel\", filetypes=([(\"*Excel Files\", \"*.xlsx\"), (\"All Files\", \"*.*\")]))\n",
    "data_wb = openpyxl.load_workbook(get_wb, data_only=True)\n",
    "data_sheet = data_wb.sheetnames\n",
    "sheet = data_wb[data_sheet[0]]\n",
    "new_dir = os.path.join(os.getcwd(), \"excel\")\n",
    "\n",
    "\n",
    "def movefiletofolder(filenameid):\n",
    "    def grouper(S, n): #https://stackoverflow.com/questions/12559055/for-every-x-number-of-files-create-new-directory-and-move-files-using-python\n",
    "        iterator = iter(S)\n",
    "        while True:\n",
    "            item = list(itertools.islice(iterator, n))\n",
    "            print(item)\n",
    "            if len(item) == 0:\n",
    "                break\n",
    "            yield item\n",
    "\n",
    "    os.chdir(rf\"D:\\Workstuff\\my-work-python-script\\project_bebephone\\excel\\{filenameid}\")\n",
    "    fnames = ns.natsorted(glob.glob('*.xlsm'))\n",
    "    for i, fnames in enumerate(grouper(fnames,10)):\n",
    "        print(i)\n",
    "        print(fnames)\n",
    "        dirname = f\"{i + 1}\"\n",
    "        try:\n",
    "            os.mkdir(dirname)\n",
    "        except FileExistsError:\n",
    "            pass\n",
    "        for fname in fnames:\n",
    "            shutil.move(fname, dirname)"
   ]
  },
  {
   "cell_type": "code",
   "execution_count": 3,
   "metadata": {},
   "outputs": [],
   "source": [
    "bebe_startrow = 2\n",
    "com7barcode_startrow = 3\n",
    "com7barcodetext_startrow=4\n",
    "filename = sheet.cell(row=1, column=3).value\n",
    "roundset = 1\n",
    "os.chdir(rf\"D:\\Workstuff\\my-work-python-script\\project_bebephone\\excel\")"
   ]
  },
  {
   "cell_type": "code",
   "execution_count": 50,
   "metadata": {},
   "outputs": [
    {
     "name": "stdout",
     "output_type": "stream",
     "text": [
      "1\n",
      "2\n"
     ]
    },
    {
     "ename": "",
     "evalue": "",
     "output_type": "error",
     "traceback": [
      "\u001b[1;31mThe Kernel crashed while executing code in the the current cell or a previous cell. Please review the code in the cell(s) to identify a possible cause of the failure. Click <a href='https://aka.ms/vscodeJupyterKernelCrash'>here</a> for more info. View Jupyter <a href='command:jupyter.viewOutput'>log</a> for further details."
     ]
    }
   ],
   "source": []
  },
  {
   "cell_type": "code",
   "execution_count": null,
   "metadata": {},
   "outputs": [],
   "source": []
  }
 ],
 "metadata": {
  "kernelspec": {
   "display_name": "Python 3",
   "language": "python",
   "name": "python3"
  },
  "language_info": {
   "codemirror_mode": {
    "name": "ipython",
    "version": 3
   },
   "file_extension": ".py",
   "mimetype": "text/x-python",
   "name": "python",
   "nbconvert_exporter": "python",
   "pygments_lexer": "ipython3",
   "version": "3.10.6 (tags/v3.10.6:9c7b4bd, Aug  1 2022, 21:53:49) [MSC v.1932 64 bit (AMD64)]"
  },
  "orig_nbformat": 4,
  "vscode": {
   "interpreter": {
    "hash": "1ef56a61dee2f6ac1a5ec28cfc093844d4b9ae4f3bee2866e0bdd69f097e7c38"
   }
  }
 },
 "nbformat": 4,
 "nbformat_minor": 2
}
