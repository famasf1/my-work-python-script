{
 "cells": [
  {
   "cell_type": "code",
   "execution_count": 1,
   "metadata": {},
   "outputs": [],
   "source": [
    "import openpyxl \n",
    "import os\n",
    "import pandas as pd"
   ]
  },
  {
   "cell_type": "code",
   "execution_count": 5,
   "metadata": {},
   "outputs": [],
   "source": [
    "data = openpyxl.load_workbook(r\"C:\\Users\\Comseven\\Downloads\\ข้อมูล 33 สาขา BeBe update 16-1.xlsx\")\n",
    "data_ws = data.sheetnames\n",
    "all_data = data[data_ws[0]]\n",
    "df = pd.read_excel(r\"C:\\Users\\Comseven\\Downloads\\ข้อมูล 33 สาขา BeBe update 16-1.xlsx\", header=4, index_col=False, dtype=object)\n",
    "df2 = pd.read_excel(r\"D:\\Workstuff\\my-work-python-script\\project_bebephone\\Asset\\33-branch.xlsx\")"
   ]
  },
  {
   "cell_type": "code",
   "execution_count": 6,
   "metadata": {},
   "outputs": [
    {
     "name": "stdout",
     "output_type": "stream",
     "text": [
      "1935\n",
      "1939\n",
      "1911\n",
      "1875\n",
      "1852\n",
      "1854\n",
      "1890\n",
      "1885\n",
      "1946\n",
      "1918\n",
      "1903\n",
      "1904\n",
      "1905\n",
      "1933\n",
      "1873\n",
      "1927\n",
      "1880\n",
      "1867\n",
      "1872\n",
      "1923\n",
      "1895\n",
      "1864\n",
      "1870\n",
      "1886\n",
      "1896\n",
      "1915\n",
      "1830\n",
      "1837\n",
      "1843\n",
      "1877\n",
      "1909\n",
      "1934\n",
      "1945\n",
      "Unnamed: 38\n"
     ]
    },
    {
     "ename": "ValueError",
     "evalue": "Invalid character : found in sheet title",
     "output_type": "error",
     "traceback": [
      "\u001b[1;31m---------------------------------------------------------------------------\u001b[0m",
      "\u001b[1;31mValueError\u001b[0m                                Traceback (most recent call last)",
      "\u001b[1;32md:\\Workstuff\\my-work-python-script\\project_bebephone\\getiddata.ipynb Cell 3\u001b[0m in \u001b[0;36m<cell line: 11>\u001b[1;34m()\u001b[0m\n\u001b[0;32m     <a href='vscode-notebook-cell:/d%3A/Workstuff/my-work-python-script/project_bebephone/getiddata.ipynb#W2sZmlsZQ%3D%3D?line=19'>20</a>\u001b[0m new__wb\u001b[39m.\u001b[39msave(\u001b[39mf\u001b[39m\u001b[39m\"\u001b[39m\u001b[39m{\u001b[39;00mi\u001b[39m}\u001b[39;00m\u001b[39m.xlsx\u001b[39m\u001b[39m\"\u001b[39m)\n\u001b[0;32m     <a href='vscode-notebook-cell:/d%3A/Workstuff/my-work-python-script/project_bebephone/getiddata.ipynb#W2sZmlsZQ%3D%3D?line=22'>23</a>\u001b[0m \u001b[39mwith\u001b[39;00m pd\u001b[39m.\u001b[39mExcelWriter(\u001b[39mf\u001b[39m\u001b[39m\"\u001b[39m\u001b[39m{\u001b[39;00mi\u001b[39m}\u001b[39;00m\u001b[39m.xlsx\u001b[39m\u001b[39m\"\u001b[39m, mode\u001b[39m=\u001b[39m\u001b[39m\"\u001b[39m\u001b[39ma\u001b[39m\u001b[39m\"\u001b[39m,if_sheet_exists\u001b[39m=\u001b[39m\u001b[39m\"\u001b[39m\u001b[39moverlay\u001b[39m\u001b[39m\"\u001b[39m, engine\u001b[39m=\u001b[39m\u001b[39m\"\u001b[39m\u001b[39mopenpyxl\u001b[39m\u001b[39m\"\u001b[39m) \u001b[39mas\u001b[39;00m excel:\n\u001b[1;32m---> <a href='vscode-notebook-cell:/d%3A/Workstuff/my-work-python-script/project_bebephone/getiddata.ipynb#W2sZmlsZQ%3D%3D?line=23'>24</a>\u001b[0m     new_df\u001b[39m.\u001b[39;49mto_excel(excel, index\u001b[39m=\u001b[39;49m\u001b[39mFalse\u001b[39;49;00m, sheet_name\u001b[39m=\u001b[39;49m\u001b[39mf\u001b[39;49m\u001b[39m\"\u001b[39;49m\u001b[39m{\u001b[39;49;00mi\u001b[39m}\u001b[39;49;00m\u001b[39m\"\u001b[39;49m)\n\u001b[0;32m     <a href='vscode-notebook-cell:/d%3A/Workstuff/my-work-python-script/project_bebephone/getiddata.ipynb#W2sZmlsZQ%3D%3D?line=24'>25</a>\u001b[0m load_new_wb \u001b[39m=\u001b[39m openpyxl\u001b[39m.\u001b[39mload_workbook(\u001b[39mf\u001b[39m\u001b[39m\"\u001b[39m\u001b[39m{\u001b[39;00mi\u001b[39m}\u001b[39;00m\u001b[39m.xlsx\u001b[39m\u001b[39m\"\u001b[39m, data_only\u001b[39m=\u001b[39m\u001b[39mTrue\u001b[39;00m)\n\u001b[0;32m     <a href='vscode-notebook-cell:/d%3A/Workstuff/my-work-python-script/project_bebephone/getiddata.ipynb#W2sZmlsZQ%3D%3D?line=25'>26</a>\u001b[0m sheet_ws \u001b[39m=\u001b[39m load_new_wb\u001b[39m.\u001b[39msheetnames\n",
      "File \u001b[1;32mc:\\Users\\Comseven\\AppData\\Local\\Programs\\Python\\Python310\\lib\\site-packages\\pandas\\core\\generic.py:2345\u001b[0m, in \u001b[0;36mNDFrame.to_excel\u001b[1;34m(self, excel_writer, sheet_name, na_rep, float_format, columns, header, index, index_label, startrow, startcol, engine, merge_cells, encoding, inf_rep, verbose, freeze_panes, storage_options)\u001b[0m\n\u001b[0;32m   2332\u001b[0m \u001b[39mfrom\u001b[39;00m \u001b[39mpandas\u001b[39;00m\u001b[39m.\u001b[39;00m\u001b[39mio\u001b[39;00m\u001b[39m.\u001b[39;00m\u001b[39mformats\u001b[39;00m\u001b[39m.\u001b[39;00m\u001b[39mexcel\u001b[39;00m \u001b[39mimport\u001b[39;00m ExcelFormatter\n\u001b[0;32m   2334\u001b[0m formatter \u001b[39m=\u001b[39m ExcelFormatter(\n\u001b[0;32m   2335\u001b[0m     df,\n\u001b[0;32m   2336\u001b[0m     na_rep\u001b[39m=\u001b[39mna_rep,\n\u001b[1;32m   (...)\u001b[0m\n\u001b[0;32m   2343\u001b[0m     inf_rep\u001b[39m=\u001b[39minf_rep,\n\u001b[0;32m   2344\u001b[0m )\n\u001b[1;32m-> 2345\u001b[0m formatter\u001b[39m.\u001b[39;49mwrite(\n\u001b[0;32m   2346\u001b[0m     excel_writer,\n\u001b[0;32m   2347\u001b[0m     sheet_name\u001b[39m=\u001b[39;49msheet_name,\n\u001b[0;32m   2348\u001b[0m     startrow\u001b[39m=\u001b[39;49mstartrow,\n\u001b[0;32m   2349\u001b[0m     startcol\u001b[39m=\u001b[39;49mstartcol,\n\u001b[0;32m   2350\u001b[0m     freeze_panes\u001b[39m=\u001b[39;49mfreeze_panes,\n\u001b[0;32m   2351\u001b[0m     engine\u001b[39m=\u001b[39;49mengine,\n\u001b[0;32m   2352\u001b[0m     storage_options\u001b[39m=\u001b[39;49mstorage_options,\n\u001b[0;32m   2353\u001b[0m )\n",
      "File \u001b[1;32mc:\\Users\\Comseven\\AppData\\Local\\Programs\\Python\\Python310\\lib\\site-packages\\pandas\\io\\formats\\excel.py:894\u001b[0m, in \u001b[0;36mExcelFormatter.write\u001b[1;34m(self, writer, sheet_name, startrow, startcol, freeze_panes, engine, storage_options)\u001b[0m\n\u001b[0;32m    891\u001b[0m     need_save \u001b[39m=\u001b[39m \u001b[39mTrue\u001b[39;00m\n\u001b[0;32m    893\u001b[0m \u001b[39mtry\u001b[39;00m:\n\u001b[1;32m--> 894\u001b[0m     writer\u001b[39m.\u001b[39;49mwrite_cells(\n\u001b[0;32m    895\u001b[0m         formatted_cells,\n\u001b[0;32m    896\u001b[0m         sheet_name,\n\u001b[0;32m    897\u001b[0m         startrow\u001b[39m=\u001b[39;49mstartrow,\n\u001b[0;32m    898\u001b[0m         startcol\u001b[39m=\u001b[39;49mstartcol,\n\u001b[0;32m    899\u001b[0m         freeze_panes\u001b[39m=\u001b[39;49mfreeze_panes,\n\u001b[0;32m    900\u001b[0m     )\n\u001b[0;32m    901\u001b[0m \u001b[39mfinally\u001b[39;00m:\n\u001b[0;32m    902\u001b[0m     \u001b[39m# make sure to close opened file handles\u001b[39;00m\n\u001b[0;32m    903\u001b[0m     \u001b[39mif\u001b[39;00m need_save:\n",
      "File \u001b[1;32mc:\\Users\\Comseven\\AppData\\Local\\Programs\\Python\\Python310\\lib\\site-packages\\pandas\\io\\excel\\_openpyxl.py:452\u001b[0m, in \u001b[0;36mOpenpyxlWriter.write_cells\u001b[1;34m(self, cells, sheet_name, startrow, startcol, freeze_panes)\u001b[0m\n\u001b[0;32m    450\u001b[0m \u001b[39melse\u001b[39;00m:\n\u001b[0;32m    451\u001b[0m     wks \u001b[39m=\u001b[39m \u001b[39mself\u001b[39m\u001b[39m.\u001b[39mbook\u001b[39m.\u001b[39mcreate_sheet()\n\u001b[1;32m--> 452\u001b[0m     wks\u001b[39m.\u001b[39;49mtitle \u001b[39m=\u001b[39m sheet_name\n\u001b[0;32m    453\u001b[0m     \u001b[39mself\u001b[39m\u001b[39m.\u001b[39msheets[sheet_name] \u001b[39m=\u001b[39m wks\n\u001b[0;32m    455\u001b[0m \u001b[39mif\u001b[39;00m validate_freeze_panes(freeze_panes):\n",
      "File \u001b[1;32mc:\\Users\\Comseven\\AppData\\Local\\Programs\\Python\\Python310\\lib\\site-packages\\openpyxl\\workbook\\child.py:93\u001b[0m, in \u001b[0;36m_WorkbookChild.title\u001b[1;34m(self, value)\u001b[0m\n\u001b[0;32m     91\u001b[0m \u001b[39mif\u001b[39;00m m:\n\u001b[0;32m     92\u001b[0m     msg \u001b[39m=\u001b[39m \u001b[39m\"\u001b[39m\u001b[39mInvalid character \u001b[39m\u001b[39m{0}\u001b[39;00m\u001b[39m found in sheet title\u001b[39m\u001b[39m\"\u001b[39m\u001b[39m.\u001b[39mformat(m\u001b[39m.\u001b[39mgroup(\u001b[39m0\u001b[39m))\n\u001b[1;32m---> 93\u001b[0m     \u001b[39mraise\u001b[39;00m \u001b[39mValueError\u001b[39;00m(msg)\n\u001b[0;32m     95\u001b[0m \u001b[39mif\u001b[39;00m \u001b[39mself\u001b[39m\u001b[39m.\u001b[39mtitle \u001b[39mis\u001b[39;00m \u001b[39mnot\u001b[39;00m \u001b[39mNone\u001b[39;00m \u001b[39mand\u001b[39;00m \u001b[39mself\u001b[39m\u001b[39m.\u001b[39mtitle \u001b[39m!=\u001b[39m value:\n\u001b[0;32m     96\u001b[0m     value \u001b[39m=\u001b[39m avoid_duplicate_name(\u001b[39mself\u001b[39m\u001b[39m.\u001b[39mparent\u001b[39m.\u001b[39msheetnames, value)\n",
      "\u001b[1;31mValueError\u001b[0m: Invalid character : found in sheet title"
     ]
    }
   ],
   "source": [
    "try:\n",
    "    os.mkdir('data')\n",
    "except FileExistsError:\n",
    "    pass\n",
    "os.chdir(r\"D:\\Workstuff\\my-work-python-script\\project_bebephone\\data\")\n",
    "datafile = openpyxl.load_workbook(r\"D:\\Workstuff\\my-work-python-script\\project_bebephone\\Asset\\33-branch.xlsx\", data_only=True, keep_vba=True)\n",
    "data_wb = datafile.sheetnames\n",
    "datasheet = datafile[data_wb[0]]\n",
    "collection = 1\n",
    "#separate all files\n",
    "for i in df.columns[5:]:\n",
    "    print(i)\n",
    "    bebecode = df2['Bebe code']\n",
    "    productcode = df2['Product code#2']\n",
    "\n",
    "    frames = [bebecode, productcode]\n",
    "    new_df = pd.concat(frames, axis=1)\n",
    "    new_df = new_df.dropna()\n",
    "    new__wb = openpyxl.Workbook()\n",
    "    new__wb.save(f\"{i}.xlsx\")\n",
    "\n",
    "    \n",
    "    with pd.ExcelWriter(f\"{i}.xlsx\", mode=\"a\",if_sheet_exists=\"overlay\", engine=\"openpyxl\") as excel:\n",
    "        new_df.to_excel(excel, index=False, sheet_name=f\"{i}\")\n",
    "    load_new_wb = openpyxl.load_workbook(f\"{i}.xlsx\", data_only=True)\n",
    "    sheet_ws = load_new_wb.sheetnames\n",
    "    if 'Sheet' in sheet_ws:\n",
    "        load_new_wb.remove(load_new_wb['Sheet'])\n",
    "    sheet = load_new_wb[sheet_ws[1]]\n",
    "    sheet.cell(row=1, column=3).value = \"Block 117\"\n",
    "    sheet.cell(row=1, column=4).value = \"ชุดที่\"\n",
    "    for row in range(2, sheet.max_row+1):\n",
    "        sheet.cell(row=row, column=3).value = datasheet.cell(row=row, column=3).value\n",
    "        sheet.cell(row=row, column=4).value = collection\n",
    "        if row % 8 == 0:\n",
    "            collection += 1\n",
    "    collection = 1\n",
    "    load_new_wb.save(f\"{i}.xlsx\")\n"
   ]
  },
  {
   "cell_type": "code",
   "execution_count": null,
   "metadata": {},
   "outputs": [],
   "source": []
  },
  {
   "cell_type": "code",
   "execution_count": null,
   "metadata": {},
   "outputs": [],
   "source": []
  }
 ],
 "metadata": {
  "kernelspec": {
   "display_name": "Python 3",
   "language": "python",
   "name": "python3"
  },
  "language_info": {
   "codemirror_mode": {
    "name": "ipython",
    "version": 3
   },
   "file_extension": ".py",
   "mimetype": "text/x-python",
   "name": "python",
   "nbconvert_exporter": "python",
   "pygments_lexer": "ipython3",
   "version": "3.10.6 (tags/v3.10.6:9c7b4bd, Aug  1 2022, 21:53:49) [MSC v.1932 64 bit (AMD64)]"
  },
  "orig_nbformat": 4,
  "vscode": {
   "interpreter": {
    "hash": "1ef56a61dee2f6ac1a5ec28cfc093844d4b9ae4f3bee2866e0bdd69f097e7c38"
   }
  }
 },
 "nbformat": 4,
 "nbformat_minor": 2
}
