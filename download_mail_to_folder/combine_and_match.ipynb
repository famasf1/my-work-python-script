{
 "cells": [
  {
   "attachments": {},
   "cell_type": "markdown",
   "metadata": {},
   "source": [
    "<H1>LOAD MAIL AND PUT INTO EXCEL</H1>\n"
   ]
  },
  {
   "cell_type": "code",
   "execution_count": null,
   "metadata": {},
   "outputs": [],
   "source": [
    "from load_mail import main\n",
    "\n",
    "main()"
   ]
  },
  {
   "attachments": {},
   "cell_type": "markdown",
   "metadata": {},
   "source": [
    "<H1>COMBINE ALL EXCEL</H1>"
   ]
  },
  {
   "cell_type": "code",
   "execution_count": 1,
   "metadata": {},
   "outputs": [],
   "source": [
    "import openpyxl\n",
    "import os\n",
    "import pandas as pd\n",
    "from datetime import date, datetime, timedelta\n",
    "\n",
    "############### DAYS #############\n",
    "# if monday, set 3 = friday, 2 = saturday, 1 = sunday\n",
    "daystime = 1\n",
    "\n",
    "EXCEL_READ_FILEPATH = r\"D:\\Workstuff\\my-work-python-script\\download_mail_to_folder\\xlsx\"\n",
    "EXCEL_WRITE_FILEPATH = r\"D:\\Workstuff\\my-work-python-script\\download_mail_to_folder\\Result_archiev\"\n",
    "yesterday = date.today() - timedelta(days=daystime)"
   ]
  },
  {
   "cell_type": "code",
   "execution_count": 2,
   "metadata": {},
   "outputs": [],
   "source": [
    "#Create excel\n",
    "os.chdir(EXCEL_WRITE_FILEPATH)\n",
    "new_wb = openpyxl.Workbook()\n",
    "new_wb.save(f\"Parcel Pickup {yesterday}.xlsx\")\n",
    "load_new_wb = openpyxl.load_workbook(os.path.join(EXCEL_WRITE_FILEPATH, f\"Parcel Pickup {yesterday}.xlsx\"), data_only=True)\n",
    "sheet = load_new_wb['Sheet']\n",
    "sheet.cell(row=1,column=1).value = \"Tracking\"\n",
    "sheet.cell(row=1,column=2).value = \"Time\"\n",
    "sheet.title = f\"{yesterday}\"\n",
    "load_new_wb.save(filename=f\"Parcel Pickup {yesterday}.xlsx\")\n"
   ]
  },
  {
   "cell_type": "code",
   "execution_count": 3,
   "metadata": {},
   "outputs": [],
   "source": [
    "#Combine all into one\n",
    "import warnings\n",
    "\n",
    "os.chdir(EXCEL_READ_FILEPATH)\n",
    "with warnings.catch_warnings(record=True):\n",
    "    warnings.simplefilter(\"always\")\n",
    "    for file in os.listdir(EXCEL_READ_FILEPATH):\n",
    "        data = pd.read_excel(file, dtype=object) ##turn excel into dataframe\n",
    "        with pd.ExcelWriter(f\"..//Result_archiev//Parcel Pickup {yesterday}.xlsx\", mode=\"a\", if_sheet_exists=\"overlay\", engine=\"openpyxl\") as excel_file:\n",
    "            excel_file.number_format = openpyxl.styles.numbers.FORMAT_TEXT\n",
    "            data.to_excel(excel_file, sheet_name=f\"{yesterday}\", header=False, index=False, startrow=excel_file.sheets[f\"{yesterday}\"].max_row)\n"
   ]
  },
  {
   "cell_type": "code",
   "execution_count": 4,
   "metadata": {},
   "outputs": [],
   "source": [
    "#Load file and convert time to 24h format\n",
    "os.chdir(EXCEL_WRITE_FILEPATH)\n",
    "load_time = pd.read_excel(f\"Parcel Pickup {yesterday}.xlsx\")\n",
    "shipment_number = pd.DataFrame(load_time['Tracking'])\n",
    "\n",
    "time_column_shipment = pd.DataFrame(load_time['Time'].str.split(\"([\\d][\\d][:][\\d][\\d] [A-Z][A-Z])\", expand=True, regex=True))\n",
    "frames = [shipment_number, time_column_shipment]\n",
    "new_data = pd.concat(frames, axis=1)\n",
    "with pd.ExcelWriter(f\"Parcel Pickup {yesterday}.xlsx\", mode=\"a\", if_sheet_exists=\"replace\", engine=\"openpyxl\") as excel_file:\n",
    "    new_data.to_excel(excel_file,sheet_name=f\"{yesterday}\", header=False, index=False, startrow=1)\n",
    "\n",
    "#time_column = pd.DataFrame(excel_file['Time'].str.split(\" \", expand = True))"
   ]
  },
  {
   "attachments": {},
   "cell_type": "markdown",
   "metadata": {},
   "source": [
    "<h1>LOAD ALL DATA FROM STOCKOUT</h1>"
   ]
  },
  {
   "cell_type": "code",
   "execution_count": 6,
   "metadata": {},
   "outputs": [],
   "source": [
    "#stockout\n",
    "\n",
    "stockout = pd.read_clipboard(sep='\\t', dtype={'0' : 'string','16' : 'string', '11' : 'string', '15' : 'string', '18' : 'string', '21' : 'string'})\n",
    "stockoutid = stockout[\"Stock Out (ID)\"]\n",
    "branchid = stockout[\"Branch (ID)\"]\n",
    "booking_id = stockout[\"Booking ID\"].str.rstrip().str.replace(\"Booking-DHL ID : \",\"\").str.split(\" , \", expand=True)\n",
    "\n",
    "frames = [stockoutid, branchid, booking_id]\n",
    "data = pd.concat(frames, axis=1)"
   ]
  },
  {
   "cell_type": "code",
   "execution_count": 5,
   "metadata": {},
   "outputs": [],
   "source": [
    "#stockout_insure\n",
    "\n",
    "stockout_insure = pd.read_clipboard(sep='\\t')\n",
    "stockoutid_insure = stockout_insure[\"Stock Out (ID)\"]\n",
    "branchid_insure = stockout_insure[\"Branch (ID)\"] #\n",
    "booking_id_insure = stockout_insure[\"Booking ID\"].str.rstrip().str.replace(\"Booking-DHL ID : \",\"\").str.split(\" , \", expand=True)\n",
    "\n",
    "frames_insure = [stockoutid_insure, branchid_insure, booking_id_insure]\n",
    "data_insure = pd.concat(frames_insure, axis=1)"
   ]
  },
  {
   "cell_type": "code",
   "execution_count": 11,
   "metadata": {},
   "outputs": [
    {
     "data": {
      "text/html": [
       "<div>\n",
       "<style scoped>\n",
       "    .dataframe tbody tr th:only-of-type {\n",
       "        vertical-align: middle;\n",
       "    }\n",
       "\n",
       "    .dataframe tbody tr th {\n",
       "        vertical-align: top;\n",
       "    }\n",
       "\n",
       "    .dataframe thead th {\n",
       "        text-align: right;\n",
       "    }\n",
       "</style>\n",
       "<table border=\"1\" class=\"dataframe\">\n",
       "  <thead>\n",
       "    <tr style=\"text-align: right;\">\n",
       "      <th></th>\n",
       "      <th>Stock Out (ID)</th>\n",
       "      <th>Branch (ID)</th>\n",
       "      <th>0</th>\n",
       "    </tr>\n",
       "  </thead>\n",
       "  <tbody>\n",
       "    <tr>\n",
       "      <th>0</th>\n",
       "      <td>138,641</td>\n",
       "      <td>33</td>\n",
       "      <td>7024023962903073</td>\n",
       "    </tr>\n",
       "    <tr>\n",
       "      <th>1</th>\n",
       "      <td>1,495</td>\n",
       "      <td>44</td>\n",
       "      <td>NaN</td>\n",
       "    </tr>\n",
       "    <tr>\n",
       "      <th>2</th>\n",
       "      <td>1,496</td>\n",
       "      <td>44</td>\n",
       "      <td>NaN</td>\n",
       "    </tr>\n",
       "    <tr>\n",
       "      <th>3</th>\n",
       "      <td>364</td>\n",
       "      <td>255</td>\n",
       "      <td>7023024523696473</td>\n",
       "    </tr>\n",
       "    <tr>\n",
       "      <th>4</th>\n",
       "      <td>82</td>\n",
       "      <td>1,076</td>\n",
       "      <td>7024024516023673</td>\n",
       "    </tr>\n",
       "    <tr>\n",
       "      <th>...</th>\n",
       "      <td>...</td>\n",
       "      <td>...</td>\n",
       "      <td>...</td>\n",
       "    </tr>\n",
       "    <tr>\n",
       "      <th>5813</th>\n",
       "      <td>532</td>\n",
       "      <td>246</td>\n",
       "      <td>NaN</td>\n",
       "    </tr>\n",
       "    <tr>\n",
       "      <th>5814</th>\n",
       "      <td>213</td>\n",
       "      <td>1,086</td>\n",
       "      <td>NaN</td>\n",
       "    </tr>\n",
       "    <tr>\n",
       "      <th>5815</th>\n",
       "      <td>115</td>\n",
       "      <td>271</td>\n",
       "      <td>NaN</td>\n",
       "    </tr>\n",
       "    <tr>\n",
       "      <th>5816</th>\n",
       "      <td>322</td>\n",
       "      <td>797</td>\n",
       "      <td>NaN</td>\n",
       "    </tr>\n",
       "    <tr>\n",
       "      <th>5817</th>\n",
       "      <td>1,442</td>\n",
       "      <td>114</td>\n",
       "      <td>NaN</td>\n",
       "    </tr>\n",
       "  </tbody>\n",
       "</table>\n",
       "<p>5818 rows × 3 columns</p>\n",
       "</div>"
      ],
      "text/plain": [
       "     Stock Out (ID) Branch (ID)                 0\n",
       "0           138,641          33  7024023962903073\n",
       "1             1,495          44               NaN\n",
       "2             1,496          44               NaN\n",
       "3               364         255  7023024523696473\n",
       "4                82       1,076  7024024516023673\n",
       "...             ...         ...               ...\n",
       "5813            532         246               NaN\n",
       "5814            213       1,086               NaN\n",
       "5815            115         271               NaN\n",
       "5816            322         797               NaN\n",
       "5817          1,442         114               NaN\n",
       "\n",
       "[5818 rows x 3 columns]"
      ]
     },
     "execution_count": 11,
     "metadata": {},
     "output_type": "execute_result"
    }
   ],
   "source": [
    "data_insure"
   ]
  },
  {
   "attachments": {},
   "cell_type": "markdown",
   "metadata": {},
   "source": [
    "<h1>INSERT DATAFRAME TO EXCEL THEN INDEX/MATCH</h1>"
   ]
  },
  {
   "cell_type": "code",
   "execution_count": 7,
   "metadata": {},
   "outputs": [],
   "source": [
    "with pd.ExcelWriter(f\"Parcel Pickup {yesterday}.xlsx\", mode=\"a\", if_sheet_exists=\"overlay\", engine=\"openpyxl\") as excel_file:\n",
    "    data.to_excel(excel_file, sheet_name=\"stockout\")\n",
    "    data_insure.to_excel(excel_file, sheet_name=\"stockout_insure\")"
   ]
  },
  {
   "cell_type": "code",
   "execution_count": 8,
   "metadata": {},
   "outputs": [],
   "source": [
    "#time convert algorithm\n",
    "\n",
    "def convert24(str1):\n",
    "    #check if am and equal 12\n",
    "    if str1[-2:] == \"AM\" and str1[:2] == \"12\":\n",
    "        return \"00\" + str1[2:-2]\n",
    "\n",
    "    #otherwise just remove AM\n",
    "    elif str1[-2:] == \"AM\":\n",
    "        return str1[:-2]\n",
    "    \n",
    "    #but if it's pm and equal 12\n",
    "    elif str1[-2:] == \"PM\" and str1[:2] == \"12\":\n",
    "        return str1[:-2]\n",
    "\n",
    "    else:\n",
    "        return str(int(str1[:2]) + 12) + str1[2:5]\n",
    "    "
   ]
  },
  {
   "cell_type": "code",
   "execution_count": 9,
   "metadata": {},
   "outputs": [],
   "source": [
    "load_wb = openpyxl.load_workbook(os.path.join(EXCEL_WRITE_FILEPATH, f\"Parcel Pickup {yesterday}.xlsx\"), data_only=True)\n",
    "load_sheet = load_wb.sheetnames\n",
    "shipment_data = load_wb[load_sheet[0]]\n",
    "stockout_normal = load_wb[load_sheet[1]]\n",
    "stockout_insurance = load_wb[load_sheet[2]]\n",
    "\n",
    "for row in range(2,shipment_data.max_row+1):\n",
    "    shipment_data.cell(row=row, column=3).value = convert24(shipment_data.cell(row=row, column=3).value)\n",
    "    shipment_data.cell(row=row, column=4).value = f'''=IF(ISNUMBER(MATCH({openpyxl.utils.quote_sheetname(shipment_data.title)}!A{row},stockout!D:D,0)),INDEX(stockout!B:B,MATCH({openpyxl.utils.quote_sheetname(shipment_data.title)}!A{row},stockout!D:D,0)),IF(ISNUMBER(MATCH({openpyxl.utils.quote_sheetname(shipment_data.title)}!A{row},stockout_insure!D:D,0)),INDEX(stockout_insure!B:B,MATCH({openpyxl.utils.quote_sheetname(shipment_data.title)}!A{row},stockout_insure!D:D,0)),\"\"))'''\n",
    "    shipment_data.cell(row=row, column=5).value = f'''=IF(ISNUMBER(MATCH({openpyxl.utils.quote_sheetname(shipment_data.title)}!A{row},stockout!D:D,0)),INDEX(stockout!C:C,MATCH({openpyxl.utils.quote_sheetname(shipment_data.title)}!A{row},stockout!D:D,0)),IF(ISNUMBER(MATCH({openpyxl.utils.quote_sheetname(shipment_data.title)}!A{row},stockout_insure!D:D,0)),INDEX(stockout_insure!C:C,MATCH({openpyxl.utils.quote_sheetname(shipment_data.title)}!A{row},stockout_insure!D:D,0)),\"\"))'''\n",
    "    shipment_data.cell(row=row, column=6).value = f'''=IF(ISNUMBER(MATCH({openpyxl.utils.quote_sheetname(shipment_data.title)}!A{row},stockout!D:D,0)),\"Stockout\",IF(ISNUMBER(MATCH({openpyxl.utils.quote_sheetname(shipment_data.title)}!A{row},stockout_insure!D:D,0)),\"Stockout_Insure\",\"\"))'''\n",
    "load_wb.save(f\"Parcel Pickup {yesterday}.xlsx\")"
   ]
  },
  {
   "cell_type": "code",
   "execution_count": null,
   "metadata": {},
   "outputs": [],
   "source": [
    "##LEGACY crap\n",
    "\n",
    "import win32com.client as win32\n",
    "\n",
    "def openWorkbook(xlapp, xlfile):\n",
    "    try:\n",
    "        xlwb = xlapp.Workbooks(xlfile)\n",
    "    except Exception as e:\n",
    "        try:\n",
    "            xlwb = xlapp.Workbooks.Open(xlfile)\n",
    "        except Exception as e:\n",
    "            print(e)\n",
    "            xlwb = None\n",
    "    return(xlwb)\n",
    "\n",
    "try:\n",
    "    excel = win32.gencache.EnsureDispatch('Excel.Application')\n",
    "    wb = openWorkbook(excel, os.path.join(EXCEL_READ_FILEPATH, f\"Parcel Pickup {yesterday}.xlsx\"))\n",
    "    ws = wb.Worksheets(yesterday)\n",
    "    excel.Visible = True\n",
    "\n",
    "except Exception as e:\n",
    "    print(e)\n",
    "\n",
    "finally:\n",
    "    ws = None\n",
    "    wb = None\n",
    "    excel = None"
   ]
  },
  {
   "cell_type": "code",
   "execution_count": null,
   "metadata": {},
   "outputs": [],
   "source": []
  }
 ],
 "metadata": {
  "kernelspec": {
   "display_name": "Python 3.10.6 64-bit",
   "language": "python",
   "name": "python3"
  },
  "language_info": {
   "codemirror_mode": {
    "name": "ipython",
    "version": 3
   },
   "file_extension": ".py",
   "mimetype": "text/x-python",
   "name": "python",
   "nbconvert_exporter": "python",
   "pygments_lexer": "ipython3",
   "version": "3.10.6"
  },
  "orig_nbformat": 4,
  "vscode": {
   "interpreter": {
    "hash": "1ef56a61dee2f6ac1a5ec28cfc093844d4b9ae4f3bee2866e0bdd69f097e7c38"
   }
  }
 },
 "nbformat": 4,
 "nbformat_minor": 2
}
