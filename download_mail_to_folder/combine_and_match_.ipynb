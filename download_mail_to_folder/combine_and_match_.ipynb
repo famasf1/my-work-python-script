{
 "cells": [
  {
   "attachments": {},
   "cell_type": "markdown",
   "metadata": {},
   "source": [
    "<H1>LOAD MAIL AND PUT INTO EXCEL</H1>\n"
   ]
  },
  {
   "cell_type": "code",
   "execution_count": null,
   "metadata": {},
   "outputs": [],
   "source": [
    "from load_mail import main\n",
    "\n",
    "main()"
   ]
  },
  {
   "attachments": {},
   "cell_type": "markdown",
   "metadata": {},
   "source": [
    "<H1>COMBINE ALL EXCEL</H1>"
   ]
  },
  {
   "cell_type": "code",
   "execution_count": 8,
   "metadata": {},
   "outputs": [],
   "source": [
    "import openpyxl\n",
    "import os\n",
    "import pandas as pd\n",
    "from datetime import date, datetime, timedelta\n",
    "\n",
    "############### DAYS #############\n",
    "# if monday, set 3 = friday, 2 = saturday, 1 = sunday\n",
    "daystime = 1\n",
    "\n",
    "EXCEL_READ_FILEPATH = r\"D:\\Workstuff\\my-work-python-script\\download_mail_to_folder\\xlsx\"\n",
    "EXCEL_WRITE_FILEPATH = r\"D:\\Workstuff\\my-work-python-script\\download_mail_to_folder\\Result_archiev\"\n",
    "yesterday = date.today() - timedelta(days=daystime)"
   ]
  },
  {
   "cell_type": "code",
   "execution_count": 9,
   "metadata": {},
   "outputs": [],
   "source": [
    "#Create excel\n",
    "os.chdir(EXCEL_WRITE_FILEPATH)\n",
    "new_wb = openpyxl.Workbook()\n",
    "new_wb.save(f\"Parcel Pickup {yesterday}.xlsx\")\n",
    "load_new_wb = openpyxl.load_workbook(os.path.join(EXCEL_WRITE_FILEPATH, f\"Parcel Pickup {yesterday}.xlsx\"), data_only=True)\n",
    "sheet = load_new_wb['Sheet']\n",
    "sheet.cell(row=1,column=1).value = \"Tracking\"\n",
    "sheet.cell(row=1,column=2).value = \"Time\"\n",
    "sheet.title = f\"{yesterday}\"\n",
    "load_new_wb.save(filename=f\"Parcel Pickup {yesterday}.xlsx\")\n"
   ]
  },
  {
   "cell_type": "code",
   "execution_count": 10,
   "metadata": {},
   "outputs": [],
   "source": [
    "#Combine all into one\n",
    "import warnings\n",
    "\n",
    "os.chdir(EXCEL_READ_FILEPATH)\n",
    "with warnings.catch_warnings(record=True):\n",
    "    warnings.simplefilter(\"always\")\n",
    "    for file in os.listdir(EXCEL_READ_FILEPATH):\n",
    "        data = pd.read_excel(file, dtype=object) ##turn excel into dataframe\n",
    "        with pd.ExcelWriter(f\"..//Result_archiev//Parcel Pickup {yesterday}.xlsx\", mode=\"a\", if_sheet_exists=\"overlay\", engine=\"openpyxl\") as excel_file:\n",
    "            excel_file.number_format = openpyxl.styles.numbers.FORMAT_TEXT\n",
    "            data.to_excel(excel_file, sheet_name=f\"{yesterday}\", header=False, index=False, startrow=excel_file.sheets[f\"{yesterday}\"].max_row)\n"
   ]
  },
  {
   "cell_type": "code",
   "execution_count": 11,
   "metadata": {},
   "outputs": [],
   "source": [
    "#Load file and convert time to 24h format\n",
    "#time convert algorithm\n",
    "\n",
    "def convert24(str1):\n",
    "    #check if am and equal 12\n",
    "    if str1[-2:] == \"AM\" and str1[:2] == \"12\":\n",
    "        return \"00\" + str1[2:-2]\n",
    "\n",
    "    #otherwise just remove AM\n",
    "    elif str1[-2:] == \"AM\":\n",
    "        return str1[:-2]\n",
    "    \n",
    "    #but if it's pm and equal 12\n",
    "    elif str1[-2:] == \"PM\" and str1[:2] == \"12\":\n",
    "        return str1[:-2]\n",
    "\n",
    "    else:\n",
    "        return str(int(str1[:2]) + 12) + str1[2:5]\n",
    "\n",
    "os.chdir(EXCEL_WRITE_FILEPATH)\n",
    "load_time = pd.read_excel(f\"Parcel Pickup {yesterday}.xlsx\")\n",
    "shipment_number = pd.DataFrame(load_time['Tracking'])\n",
    "\n",
    "time_column_shipment = pd.DataFrame(load_time['Time'].str.split(\"([\\d][\\d][:][\\d][\\d] [A-Z][A-Z])\", expand=True, regex=True))\n",
    "frames = [shipment_number, time_column_shipment]\n",
    "new_data = pd.concat(frames, axis=1)\n",
    "with pd.ExcelWriter(f\"Parcel Pickup {yesterday}.xlsx\", mode=\"a\", if_sheet_exists=\"replace\", engine=\"openpyxl\") as excel_file:\n",
    "    new_data.to_excel(excel_file,sheet_name=f\"{yesterday}\", header=False, index=False, startrow=1)\n",
    "\n",
    "#time_column = pd.DataFrame(excel_file['Time'].str.split(\" \", expand = True))"
   ]
  },
  {
   "attachments": {},
   "cell_type": "markdown",
   "metadata": {},
   "source": [
    "<h1>LOAD ALL DATA FROM STOCKOUT</h1>"
   ]
  },
  {
   "cell_type": "code",
   "execution_count": 12,
   "metadata": {},
   "outputs": [
    {
     "name": "stderr",
     "output_type": "stream",
     "text": [
      "C:\\Users\\Comseven\\AppData\\Local\\Temp\\ipykernel_5932\\3566943831.py:3: DtypeWarning: Columns (3,11) have mixed types. Specify dtype option on import or set low_memory=False.\n",
      "  stockout = pd.read_clipboard(sep='\\t', dtype={'0' : 'string','16' : 'string', '11' : 'string', '15' : 'string', '18' : 'string', '21' : 'string'})\n"
     ]
    }
   ],
   "source": [
    "#stockout\n",
    "\n",
    "stockout = pd.read_clipboard(sep='\\t', dtype={'0' : 'string','16' : 'string', '11' : 'string', '15' : 'string', '18' : 'string', '21' : 'string'})\n",
    "stockoutid = stockout[\"Stock Out (ID)\"]\n",
    "branchid = stockout[\"Branch (ID)\"]\n",
    "booking_id = stockout[\"Booking ID\"].str.rstrip().str.replace(\"Booking-DHL ID : \",\"\") #.str.split(\" , \", expand=True)\n",
    "\n",
    "frames = [stockoutid, branchid, booking_id]\n",
    "data = pd.concat(frames, axis=1)\n",
    "\n",
    "data = data.set_index(['Stock Out (ID)', 'Branch (ID)'])\n",
    "data = data['Booking ID'].str.split(' , ', expand=True).stack().reset_index(level=2, drop=True).reset_index(name='Booking ID')\n",
    "data = pd.DataFrame(data)\n",
    "\n",
    "# group the DataFrame by columns ID2 and ID3, count the number of occurrences, and reset the index\n",
    "counts_df = data.groupby(['Stock Out (ID)', 'Branch (ID)']).size().reset_index(name='Count')\n",
    "\n",
    "# merge the counts DataFrame with the original DataFrame on columns ID2 and ID3\n",
    "result_df = pd.merge(data, counts_df, on=['Stock Out (ID)', 'Branch (ID)'])\n",
    "\n",
    "# drop duplicates of ID1 and the counted columns to keep only the first occurrence of each group\n",
    "data = pd.DataFrame(result_df.drop_duplicates(subset=['Stock Out (ID)', 'Branch (ID)', 'Booking ID', 'Count'], keep='first'))\n",
    "\n"
   ]
  },
  {
   "cell_type": "code",
   "execution_count": 13,
   "metadata": {},
   "outputs": [],
   "source": [
    "#stockout_insure\n",
    "\n",
    "stockout_insure = pd.read_clipboard(sep='\\t')\n",
    "stockoutid_insure = stockout_insure[\"Stock Out (ID)\"]\n",
    "branchid_insure = stockout_insure[\"Branch (ID)\"] #\n",
    "booking_id_insure = stockout_insure[\"Booking ID\"].str.rstrip().str.replace(\"Booking-DHL ID : \",\"\") #.str.split(\" , \", expand=True)\n",
    "\n",
    "frames_insure = [stockoutid_insure, branchid_insure, booking_id_insure]\n",
    "data_insure = pd.concat(frames_insure, axis=1)\n",
    "\n",
    "data_insure = data_insure.set_index(['Stock Out (ID)', 'Branch (ID)'])\n",
    "data_insure = data_insure['Booking ID'].str.split(' , ', expand=True).stack().reset_index(level=2, drop=True).reset_index(name='Booking ID')\n",
    "data_insure = pd.DataFrame(data_insure)\n",
    "\n",
    "# group the DataFrame by columns ID2 and ID3, count the number of occurrences, and reset the index\n",
    "counts_df = data_insure.groupby(['Stock Out (ID)', 'Branch (ID)']).size().reset_index(name='Count')\n",
    "\n",
    "# merge the counts DataFrame with the original DataFrame on columns ID2 and ID3\n",
    "result_df = pd.merge(data_insure, counts_df, on=['Stock Out (ID)', 'Branch (ID)'])\n",
    "\n",
    "# drop duplicates of ID1 and the counted columns to keep only the first occurrence of each group\n",
    "data_insure = pd.DataFrame(result_df.drop_duplicates(subset=['Stock Out (ID)', 'Branch (ID)', 'Booking ID', 'Count'], keep='first'))"
   ]
  },
  {
   "attachments": {},
   "cell_type": "markdown",
   "metadata": {},
   "source": [
    "<h1>INSERT DATAFRAME TO EXCEL THEN INDEX/MATCH</h1>"
   ]
  },
  {
   "cell_type": "code",
   "execution_count": 14,
   "metadata": {},
   "outputs": [],
   "source": [
    "with pd.ExcelWriter(f\"Parcel Pickup {yesterday}.xlsx\", mode=\"a\", if_sheet_exists=\"overlay\", engine=\"openpyxl\") as excel_file:\n",
    "    data.to_excel(excel_file, sheet_name=\"stockout\")\n",
    "    data_insure.to_excel(excel_file, sheet_name=\"stockout_insure\")\n",
    "\n",
    "load_wb = openpyxl.load_workbook(os.path.join(EXCEL_WRITE_FILEPATH, f\"Parcel Pickup {yesterday}.xlsx\"), data_only=True)\n",
    "load_sheet = load_wb.sheetnames\n",
    "shipment_data = load_wb[load_sheet[0]]\n",
    "stockout_normal = load_wb[load_sheet[1]]\n",
    "stockout_insurance = load_wb[load_sheet[2]]\n",
    "\n",
    "for row in range(2,shipment_data.max_row+1):\n",
    "    #convert time\n",
    "    shipment_data.cell(row=row, column=3).value = convert24(shipment_data.cell(row=row, column=3).value)\n",
    "    #Stockout\n",
    "    shipment_data.cell(row=row, column=4).value = f'''=IF(ISNUMBER(MATCH({openpyxl.utils.quote_sheetname(shipment_data.title)}!A{row},stockout!D:D,0)),INDEX(stockout!B:B,MATCH({openpyxl.utils.quote_sheetname(shipment_data.title)}!A{row},stockout!D:D,0)),IF(ISNUMBER(MATCH({openpyxl.utils.quote_sheetname(shipment_data.title)}!A{row},stockout_insure!D:D,0)),INDEX(stockout_insure!B:B,MATCH({openpyxl.utils.quote_sheetname(shipment_data.title)}!A{row},stockout_insure!D:D,0)),\"\"))'''\n",
    "    #Branch ID\n",
    "    shipment_data.cell(row=row, column=5).value = f'''=IF(ISNUMBER(MATCH({openpyxl.utils.quote_sheetname(shipment_data.title)}!A{row},stockout!D:D,0)),INDEX(stockout!C:C,MATCH({openpyxl.utils.quote_sheetname(shipment_data.title)}!A{row},stockout!D:D,0)),IF(ISNUMBER(MATCH({openpyxl.utils.quote_sheetname(shipment_data.title)}!A{row},stockout_insure!D:D,0)),INDEX(stockout_insure!C:C,MATCH({openpyxl.utils.quote_sheetname(shipment_data.title)}!A{row},stockout_insure!D:D,0)),\"\"))'''\n",
    "    #type\n",
    "    shipment_data.cell(row=row, column=6).value = f'''=IF(ISNUMBER(MATCH({openpyxl.utils.quote_sheetname(shipment_data.title)}!A{row},stockout!D:D,0)),\"Stockout\",IF(ISNUMBER(MATCH({openpyxl.utils.quote_sheetname(shipment_data.title)}!A{row},stockout_insure!D:D,0)),\"Stockout_Insure\",\"\"))'''\n",
    "    #quantity\n",
    "    shipment_data.cell(row=row, column=7).value = f'''=IF(ISNUMBER(MATCH({openpyxl.utils.quote_sheetname(shipment_data.title)}!A{row},stockout!D:D,0)),INDEX(stockout!E:E,MATCH({openpyxl.utils.quote_sheetname(shipment_data.title)}!A{row},stockout!D:D,0)),IF(ISNUMBER(MATCH({openpyxl.utils.quote_sheetname(shipment_data.title)}!A{row},stockout_insure!D:D,0)),INDEX(stockout_insure!E:E,MATCH({openpyxl.utils.quote_sheetname(shipment_data.title)}!A{row},stockout_insure!D:D,0)),\"\"))'''\n",
    "\n",
    "load_wb.save(f\"Parcel Pickup {yesterday}.xlsx\")"
   ]
  },
  {
   "cell_type": "code",
   "execution_count": null,
   "metadata": {},
   "outputs": [],
   "source": [
    "##LEGACY crap\n",
    "\n",
    "import win32com.client as win32\n",
    "\n",
    "def openWorkbook(xlapp, xlfile):\n",
    "    try:\n",
    "        xlwb = xlapp.Workbooks(xlfile)\n",
    "    except Exception as e:\n",
    "        try:\n",
    "            xlwb = xlapp.Workbooks.Open(xlfile)\n",
    "        except Exception as e:\n",
    "            print(e)\n",
    "            xlwb = None\n",
    "    return(xlwb)\n",
    "\n",
    "try:\n",
    "    excel = win32.gencache.EnsureDispatch('Excel.Application')\n",
    "    wb = openWorkbook(excel, os.path.join(EXCEL_READ_FILEPATH, f\"Parcel Pickup {yesterday}.xlsx\"))\n",
    "    ws = wb.Worksheets(yesterday)\n",
    "    excel.Visible = True\n",
    "\n",
    "except Exception as e:\n",
    "    print(e)\n",
    "\n",
    "finally:\n",
    "    ws = None\n",
    "    wb = None\n",
    "    excel = None"
   ]
  },
  {
   "cell_type": "code",
   "execution_count": null,
   "metadata": {},
   "outputs": [],
   "source": [
    "data_insure"
   ]
  },
  {
   "cell_type": "code",
   "execution_count": null,
   "metadata": {},
   "outputs": [],
   "source": []
  }
 ],
 "metadata": {
  "kernelspec": {
   "display_name": "Python 3.10.6 64-bit",
   "language": "python",
   "name": "python3"
  },
  "language_info": {
   "codemirror_mode": {
    "name": "ipython",
    "version": 3
   },
   "file_extension": ".py",
   "mimetype": "text/x-python",
   "name": "python",
   "nbconvert_exporter": "python",
   "pygments_lexer": "ipython3",
   "version": "3.10.6"
  },
  "orig_nbformat": 4,
  "vscode": {
   "interpreter": {
    "hash": "1ef56a61dee2f6ac1a5ec28cfc093844d4b9ae4f3bee2866e0bdd69f097e7c38"
   }
  }
 },
 "nbformat": 4,
 "nbformat_minor": 2
}
