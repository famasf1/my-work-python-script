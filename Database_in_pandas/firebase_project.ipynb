{
 "cells": [
  {
   "cell_type": "code",
   "execution_count": 1,
   "metadata": {},
   "outputs": [],
   "source": [
    "import pandas as pd\n",
    "\n"
   ]
  },
  {
   "cell_type": "code",
   "execution_count": 6,
   "metadata": {},
   "outputs": [],
   "source": [
    "df = pd.read_clipboard(sep='\\t')"
   ]
  },
  {
   "cell_type": "code",
   "execution_count": 23,
   "metadata": {},
   "outputs": [
    {
     "data": {
      "text/plain": [
       "Index(['Doc No', 'Branch (ID)', 'Branch (Name)', 'Doc Ref', 'Doc Date',\n",
       "       'Product (Code)', 'Product (Name)', 'Serial', 'Category Name',\n",
       "       'Stock Zone', 'Number', 'Sum Number', 'ID', 'Stock In (ID)',\n",
       "       'Branch To (ID)', 'Finish Time', 'ราคาก่อน Vat', 'ราคาหลัง Vat',\n",
       "       'Officer (ID)', 'Officer (Name)', 'Comment', 'Status', 'Log In (ID)',\n",
       "       'Log In (Name)', 'Create Time', 'Update (ID)', 'Update (Name)',\n",
       "       'Update Time', 'Replicate Time', 'Counter'],\n",
       "      dtype='object')"
      ]
     },
     "execution_count": 23,
     "metadata": {},
     "output_type": "execute_result"
    }
   ],
   "source": [
    "df.columns"
   ]
  },
  {
   "cell_type": "code",
   "execution_count": 78,
   "metadata": {},
   "outputs": [
    {
     "data": {
      "text/html": [
       "<div>\n",
       "<style scoped>\n",
       "    .dataframe tbody tr th:only-of-type {\n",
       "        vertical-align: middle;\n",
       "    }\n",
       "\n",
       "    .dataframe tbody tr th {\n",
       "        vertical-align: top;\n",
       "    }\n",
       "\n",
       "    .dataframe thead th {\n",
       "        text-align: right;\n",
       "    }\n",
       "</style>\n",
       "<table border=\"1\" class=\"dataframe\">\n",
       "  <thead>\n",
       "    <tr style=\"text-align: right;\">\n",
       "      <th></th>\n",
       "      <th>PHYID</th>\n",
       "      <th>Product (Code)</th>\n",
       "      <th>Product (Name)</th>\n",
       "      <th>Serial</th>\n",
       "      <th>Number</th>\n",
       "    </tr>\n",
       "    <tr>\n",
       "      <th>PHYID</th>\n",
       "      <th></th>\n",
       "      <th></th>\n",
       "      <th></th>\n",
       "      <th></th>\n",
       "      <th></th>\n",
       "    </tr>\n",
       "  </thead>\n",
       "  <tbody>\n",
       "    <tr>\n",
       "      <th>172846-33</th>\n",
       "      <td>172846-33</td>\n",
       "      <td>3410411216254</td>\n",
       "      <td>Anitech Joy Pad J235 Black</td>\n",
       "      <td>NULL</td>\n",
       "      <td>1</td>\n",
       "    </tr>\n",
       "    <tr>\n",
       "      <th>172846-33</th>\n",
       "      <td>172846-33</td>\n",
       "      <td>3410411217688</td>\n",
       "      <td>Anitech Wired Mouse Optical Sensor USB A534 Black</td>\n",
       "      <td>NULL</td>\n",
       "      <td>1</td>\n",
       "    </tr>\n",
       "    <tr>\n",
       "      <th>172846-33</th>\n",
       "      <td>172846-33</td>\n",
       "      <td>8859221705216</td>\n",
       "      <td>Anitech Wireless Mouse W213 Black</td>\n",
       "      <td>NULL</td>\n",
       "      <td>1</td>\n",
       "    </tr>\n",
       "    <tr>\n",
       "      <th>172846-33</th>\n",
       "      <td>172846-33</td>\n",
       "      <td>8859221705216</td>\n",
       "      <td>Anitech Wireless Mouse W213 Black</td>\n",
       "      <td>NULL</td>\n",
       "      <td>1</td>\n",
       "    </tr>\n",
       "    <tr>\n",
       "      <th>172846-33</th>\n",
       "      <td>172846-33</td>\n",
       "      <td>8859221707562</td>\n",
       "      <td>Anitech Wireless Mouse W214 Red</td>\n",
       "      <td>NULL</td>\n",
       "      <td>1</td>\n",
       "    </tr>\n",
       "    <tr>\n",
       "      <th>...</th>\n",
       "      <td>...</td>\n",
       "      <td>...</td>\n",
       "      <td>...</td>\n",
       "      <td>...</td>\n",
       "      <td>...</td>\n",
       "    </tr>\n",
       "    <tr>\n",
       "      <th>4658607-4</th>\n",
       "      <td>4658607-4</td>\n",
       "      <td>MGTF3TH/A</td>\n",
       "      <td>Apple iMac 24 with Retina 4.5K display/M1 chip...</td>\n",
       "      <td>SC02HX1CJQ7GN</td>\n",
       "      <td>1</td>\n",
       "    </tr>\n",
       "    <tr>\n",
       "      <th>4665690-4</th>\n",
       "      <td>4665690-4</td>\n",
       "      <td>Z15Y0002J</td>\n",
       "      <td>Apple MacBook Air 13 : M2 chip 8C CPU/8C GPU/8...</td>\n",
       "      <td>SGRK29QTKXQ</td>\n",
       "      <td>1</td>\n",
       "    </tr>\n",
       "    <tr>\n",
       "      <th>4665690-4</th>\n",
       "      <td>4665690-4</td>\n",
       "      <td>Z15Y0002J</td>\n",
       "      <td>Apple MacBook Air 13 : M2 chip 8C CPU/8C GPU/8...</td>\n",
       "      <td>SRY7CTX5QGL</td>\n",
       "      <td>1</td>\n",
       "    </tr>\n",
       "    <tr>\n",
       "      <th>4669002-4</th>\n",
       "      <td>4669002-4</td>\n",
       "      <td>194252796832</td>\n",
       "      <td>Apple iPad Air 10.9-inch Wi-Fi 256GB Space Gra...</td>\n",
       "      <td>SXJFC2JWPL7</td>\n",
       "      <td>1</td>\n",
       "    </tr>\n",
       "    <tr>\n",
       "      <th>4668955-4</th>\n",
       "      <td>4668955-4</td>\n",
       "      <td>MLY33TH/A</td>\n",
       "      <td>Apple MacBook Air 13 : M2 chip 8C CPU/8C GPU/8...</td>\n",
       "      <td>SH69MCQR17X</td>\n",
       "      <td>1</td>\n",
       "    </tr>\n",
       "  </tbody>\n",
       "</table>\n",
       "<p>20431 rows × 5 columns</p>\n",
       "</div>"
      ],
      "text/plain": [
       "               PHYID Product (Code)  \\\n",
       "PHYID                                 \n",
       "172846-33  172846-33  3410411216254   \n",
       "172846-33  172846-33  3410411217688   \n",
       "172846-33  172846-33  8859221705216   \n",
       "172846-33  172846-33  8859221705216   \n",
       "172846-33  172846-33  8859221707562   \n",
       "...              ...            ...   \n",
       "4658607-4  4658607-4      MGTF3TH/A   \n",
       "4665690-4  4665690-4      Z15Y0002J   \n",
       "4665690-4  4665690-4      Z15Y0002J   \n",
       "4669002-4  4669002-4   194252796832   \n",
       "4668955-4  4668955-4      MLY33TH/A   \n",
       "\n",
       "                                              Product (Name)         Serial  \\\n",
       "PHYID                                                                         \n",
       "172846-33                         Anitech Joy Pad J235 Black           NULL   \n",
       "172846-33  Anitech Wired Mouse Optical Sensor USB A534 Black           NULL   \n",
       "172846-33                  Anitech Wireless Mouse W213 Black           NULL   \n",
       "172846-33                  Anitech Wireless Mouse W213 Black           NULL   \n",
       "172846-33                    Anitech Wireless Mouse W214 Red           NULL   \n",
       "...                                                      ...            ...   \n",
       "4658607-4  Apple iMac 24 with Retina 4.5K display/M1 chip...  SC02HX1CJQ7GN   \n",
       "4665690-4  Apple MacBook Air 13 : M2 chip 8C CPU/8C GPU/8...    SGRK29QTKXQ   \n",
       "4665690-4  Apple MacBook Air 13 : M2 chip 8C CPU/8C GPU/8...    SRY7CTX5QGL   \n",
       "4669002-4  Apple iPad Air 10.9-inch Wi-Fi 256GB Space Gra...    SXJFC2JWPL7   \n",
       "4668955-4  Apple MacBook Air 13 : M2 chip 8C CPU/8C GPU/8...    SH69MCQR17X   \n",
       "\n",
       "          Number  \n",
       "PHYID             \n",
       "172846-33      1  \n",
       "172846-33      1  \n",
       "172846-33      1  \n",
       "172846-33      1  \n",
       "172846-33      1  \n",
       "...          ...  \n",
       "4658607-4      1  \n",
       "4665690-4      1  \n",
       "4665690-4      1  \n",
       "4669002-4      1  \n",
       "4668955-4      1  \n",
       "\n",
       "[20431 rows x 5 columns]"
      ]
     },
     "execution_count": 78,
     "metadata": {},
     "output_type": "execute_result"
    }
   ],
   "source": [
    "PHYID = pd.DataFrame(df['ID'] + \"-\" + df['Branch (ID)']).rename(columns={0 : 'PHYID'}, inplace=False)\n",
    "PHYID = PHYID['PHYID'].str.replace(\",\",\"\")\n",
    "data_cat = pd.concat([df,PHYID], axis=1)\n",
    "column_needed = ['PHYID','Product (Code)', 'Product (Name)', 'Serial','Number']\n",
    "result_df = pd.DataFrame(data_cat[column_needed],).fillna('NULL').set_index('PHYID',drop=False)\n",
    "#result_df = result_df[~result_df.index.duplicated(keep='last')]\n",
    "result_df"
   ]
  },
  {
   "cell_type": "code",
   "execution_count": 82,
   "metadata": {},
   "outputs": [
    {
     "ename": "ValueError",
     "evalue": "DataFrame index must be unique for orient='columns'.",
     "output_type": "error",
     "traceback": [
      "\u001b[1;31m---------------------------------------------------------------------------\u001b[0m",
      "\u001b[1;31mValueError\u001b[0m                                Traceback (most recent call last)",
      "\u001b[1;32md:\\Workstuff\\my-work-python-script\\Database_in_pandas\\firebase_project.ipynb Cell 5\u001b[0m in \u001b[0;36m<cell line: 1>\u001b[1;34m()\u001b[0m\n\u001b[0;32m      <a href='vscode-notebook-cell:/d%3A/Workstuff/my-work-python-script/Database_in_pandas/firebase_project.ipynb#W4sZmlsZQ%3D%3D?line=0'>1</a>\u001b[0m \u001b[39mwith\u001b[39;00m \u001b[39mopen\u001b[39m(\u001b[39m'\u001b[39m\u001b[39m49_return_data.json\u001b[39m\u001b[39m'\u001b[39m,\u001b[39m'\u001b[39m\u001b[39mw+\u001b[39m\u001b[39m'\u001b[39m, encoding\u001b[39m=\u001b[39m\u001b[39m'\u001b[39m\u001b[39mutf-8\u001b[39m\u001b[39m'\u001b[39m,) \u001b[39mas\u001b[39;00m file:\n\u001b[1;32m----> <a href='vscode-notebook-cell:/d%3A/Workstuff/my-work-python-script/Database_in_pandas/firebase_project.ipynb#W4sZmlsZQ%3D%3D?line=1'>2</a>\u001b[0m     result_df\u001b[39m.\u001b[39;49mto_json(file,orient\u001b[39m=\u001b[39;49m\u001b[39m'\u001b[39;49m\u001b[39mcolumns\u001b[39;49m\u001b[39m'\u001b[39;49m,index\u001b[39m=\u001b[39;49m\u001b[39mTrue\u001b[39;49;00m, force_ascii\u001b[39m=\u001b[39;49m\u001b[39mFalse\u001b[39;49;00m, indent\u001b[39m=\u001b[39;49m\u001b[39m2\u001b[39;49m)\n",
      "File \u001b[1;32mc:\\Users\\Comseven\\AppData\\Local\\Programs\\Python\\Python310\\lib\\site-packages\\pandas\\core\\generic.py:2621\u001b[0m, in \u001b[0;36mNDFrame.to_json\u001b[1;34m(self, path_or_buf, orient, date_format, double_precision, force_ascii, date_unit, default_handler, lines, compression, index, indent, storage_options)\u001b[0m\n\u001b[0;32m   2618\u001b[0m config\u001b[39m.\u001b[39mis_nonnegative_int(indent)\n\u001b[0;32m   2619\u001b[0m indent \u001b[39m=\u001b[39m indent \u001b[39mor\u001b[39;00m \u001b[39m0\u001b[39m\n\u001b[1;32m-> 2621\u001b[0m \u001b[39mreturn\u001b[39;00m json\u001b[39m.\u001b[39;49mto_json(\n\u001b[0;32m   2622\u001b[0m     path_or_buf\u001b[39m=\u001b[39;49mpath_or_buf,\n\u001b[0;32m   2623\u001b[0m     obj\u001b[39m=\u001b[39;49m\u001b[39mself\u001b[39;49m,\n\u001b[0;32m   2624\u001b[0m     orient\u001b[39m=\u001b[39;49morient,\n\u001b[0;32m   2625\u001b[0m     date_format\u001b[39m=\u001b[39;49mdate_format,\n\u001b[0;32m   2626\u001b[0m     double_precision\u001b[39m=\u001b[39;49mdouble_precision,\n\u001b[0;32m   2627\u001b[0m     force_ascii\u001b[39m=\u001b[39;49mforce_ascii,\n\u001b[0;32m   2628\u001b[0m     date_unit\u001b[39m=\u001b[39;49mdate_unit,\n\u001b[0;32m   2629\u001b[0m     default_handler\u001b[39m=\u001b[39;49mdefault_handler,\n\u001b[0;32m   2630\u001b[0m     lines\u001b[39m=\u001b[39;49mlines,\n\u001b[0;32m   2631\u001b[0m     compression\u001b[39m=\u001b[39;49mcompression,\n\u001b[0;32m   2632\u001b[0m     index\u001b[39m=\u001b[39;49mindex,\n\u001b[0;32m   2633\u001b[0m     indent\u001b[39m=\u001b[39;49mindent,\n\u001b[0;32m   2634\u001b[0m     storage_options\u001b[39m=\u001b[39;49mstorage_options,\n\u001b[0;32m   2635\u001b[0m )\n",
      "File \u001b[1;32mc:\\Users\\Comseven\\AppData\\Local\\Programs\\Python\\Python310\\lib\\site-packages\\pandas\\io\\json\\_json.py:110\u001b[0m, in \u001b[0;36mto_json\u001b[1;34m(path_or_buf, obj, orient, date_format, double_precision, force_ascii, date_unit, default_handler, lines, compression, index, indent, storage_options)\u001b[0m\n\u001b[0;32m    107\u001b[0m \u001b[39melse\u001b[39;00m:\n\u001b[0;32m    108\u001b[0m     \u001b[39mraise\u001b[39;00m \u001b[39mNotImplementedError\u001b[39;00m(\u001b[39m\"\u001b[39m\u001b[39m'\u001b[39m\u001b[39mobj\u001b[39m\u001b[39m'\u001b[39m\u001b[39m should be a Series or a DataFrame\u001b[39m\u001b[39m\"\u001b[39m)\n\u001b[1;32m--> 110\u001b[0m s \u001b[39m=\u001b[39m writer(\n\u001b[0;32m    111\u001b[0m     obj,\n\u001b[0;32m    112\u001b[0m     orient\u001b[39m=\u001b[39;49morient,\n\u001b[0;32m    113\u001b[0m     date_format\u001b[39m=\u001b[39;49mdate_format,\n\u001b[0;32m    114\u001b[0m     double_precision\u001b[39m=\u001b[39;49mdouble_precision,\n\u001b[0;32m    115\u001b[0m     ensure_ascii\u001b[39m=\u001b[39;49mforce_ascii,\n\u001b[0;32m    116\u001b[0m     date_unit\u001b[39m=\u001b[39;49mdate_unit,\n\u001b[0;32m    117\u001b[0m     default_handler\u001b[39m=\u001b[39;49mdefault_handler,\n\u001b[0;32m    118\u001b[0m     index\u001b[39m=\u001b[39;49mindex,\n\u001b[0;32m    119\u001b[0m     indent\u001b[39m=\u001b[39;49mindent,\n\u001b[0;32m    120\u001b[0m )\u001b[39m.\u001b[39mwrite()\n\u001b[0;32m    122\u001b[0m \u001b[39mif\u001b[39;00m lines:\n\u001b[0;32m    123\u001b[0m     s \u001b[39m=\u001b[39m convert_to_line_delimits(s)\n",
      "File \u001b[1;32mc:\\Users\\Comseven\\AppData\\Local\\Programs\\Python\\Python310\\lib\\site-packages\\pandas\\io\\json\\_json.py:165\u001b[0m, in \u001b[0;36mWriter.__init__\u001b[1;34m(self, obj, orient, date_format, double_precision, ensure_ascii, date_unit, index, default_handler, indent)\u001b[0m\n\u001b[0;32m    162\u001b[0m \u001b[39mself\u001b[39m\u001b[39m.\u001b[39mindent \u001b[39m=\u001b[39m indent\n\u001b[0;32m    164\u001b[0m \u001b[39mself\u001b[39m\u001b[39m.\u001b[39mis_copy \u001b[39m=\u001b[39m \u001b[39mNone\u001b[39;00m\n\u001b[1;32m--> 165\u001b[0m \u001b[39mself\u001b[39;49m\u001b[39m.\u001b[39;49m_format_axes()\n",
      "File \u001b[1;32mc:\\Users\\Comseven\\AppData\\Local\\Programs\\Python\\Python310\\lib\\site-packages\\pandas\\io\\json\\_json.py:222\u001b[0m, in \u001b[0;36mFrameWriter._format_axes\u001b[1;34m(self)\u001b[0m\n\u001b[0;32m    218\u001b[0m \u001b[39m\"\"\"\u001b[39;00m\n\u001b[0;32m    219\u001b[0m \u001b[39mTry to format axes if they are datelike.\u001b[39;00m\n\u001b[0;32m    220\u001b[0m \u001b[39m\"\"\"\u001b[39;00m\n\u001b[0;32m    221\u001b[0m \u001b[39mif\u001b[39;00m \u001b[39mnot\u001b[39;00m \u001b[39mself\u001b[39m\u001b[39m.\u001b[39mobj\u001b[39m.\u001b[39mindex\u001b[39m.\u001b[39mis_unique \u001b[39mand\u001b[39;00m \u001b[39mself\u001b[39m\u001b[39m.\u001b[39morient \u001b[39min\u001b[39;00m (\u001b[39m\"\u001b[39m\u001b[39mindex\u001b[39m\u001b[39m\"\u001b[39m, \u001b[39m\"\u001b[39m\u001b[39mcolumns\u001b[39m\u001b[39m\"\u001b[39m):\n\u001b[1;32m--> 222\u001b[0m     \u001b[39mraise\u001b[39;00m \u001b[39mValueError\u001b[39;00m(\n\u001b[0;32m    223\u001b[0m         \u001b[39mf\u001b[39m\u001b[39m\"\u001b[39m\u001b[39mDataFrame index must be unique for orient=\u001b[39m\u001b[39m'\u001b[39m\u001b[39m{\u001b[39;00m\u001b[39mself\u001b[39m\u001b[39m.\u001b[39morient\u001b[39m}\u001b[39;00m\u001b[39m'\u001b[39m\u001b[39m.\u001b[39m\u001b[39m\"\u001b[39m\n\u001b[0;32m    224\u001b[0m     )\n\u001b[0;32m    225\u001b[0m \u001b[39mif\u001b[39;00m \u001b[39mnot\u001b[39;00m \u001b[39mself\u001b[39m\u001b[39m.\u001b[39mobj\u001b[39m.\u001b[39mcolumns\u001b[39m.\u001b[39mis_unique \u001b[39mand\u001b[39;00m \u001b[39mself\u001b[39m\u001b[39m.\u001b[39morient \u001b[39min\u001b[39;00m (\n\u001b[0;32m    226\u001b[0m     \u001b[39m\"\u001b[39m\u001b[39mindex\u001b[39m\u001b[39m\"\u001b[39m,\n\u001b[0;32m    227\u001b[0m     \u001b[39m\"\u001b[39m\u001b[39mcolumns\u001b[39m\u001b[39m\"\u001b[39m,\n\u001b[0;32m    228\u001b[0m     \u001b[39m\"\u001b[39m\u001b[39mrecords\u001b[39m\u001b[39m\"\u001b[39m,\n\u001b[0;32m    229\u001b[0m ):\n\u001b[0;32m    230\u001b[0m     \u001b[39mraise\u001b[39;00m \u001b[39mValueError\u001b[39;00m(\n\u001b[0;32m    231\u001b[0m         \u001b[39mf\u001b[39m\u001b[39m\"\u001b[39m\u001b[39mDataFrame columns must be unique for orient=\u001b[39m\u001b[39m'\u001b[39m\u001b[39m{\u001b[39;00m\u001b[39mself\u001b[39m\u001b[39m.\u001b[39morient\u001b[39m}\u001b[39;00m\u001b[39m'\u001b[39m\u001b[39m.\u001b[39m\u001b[39m\"\u001b[39m\n\u001b[0;32m    232\u001b[0m     )\n",
      "\u001b[1;31mValueError\u001b[0m: DataFrame index must be unique for orient='columns'."
     ]
    }
   ],
   "source": [
    "with open('49_return_data.json','w+', encoding='utf-8',) as file:\n",
    "    result_df.to_json(file,orient='columns',index=True, force_ascii=False, indent=2)"
   ]
  },
  {
   "cell_type": "code",
   "execution_count": null,
   "metadata": {},
   "outputs": [],
   "source": []
  }
 ],
 "metadata": {
  "kernelspec": {
   "display_name": "Python 3.10.6 64-bit",
   "language": "python",
   "name": "python3"
  },
  "language_info": {
   "codemirror_mode": {
    "name": "ipython",
    "version": 3
   },
   "file_extension": ".py",
   "mimetype": "text/x-python",
   "name": "python",
   "nbconvert_exporter": "python",
   "pygments_lexer": "ipython3",
   "version": "3.10.6"
  },
  "orig_nbformat": 4,
  "vscode": {
   "interpreter": {
    "hash": "1ef56a61dee2f6ac1a5ec28cfc093844d4b9ae4f3bee2866e0bdd69f097e7c38"
   }
  }
 },
 "nbformat": 4,
 "nbformat_minor": 2
}
