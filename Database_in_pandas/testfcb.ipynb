{
 "cells": [
  {
   "cell_type": "code",
   "execution_count": 2,
   "metadata": {},
   "outputs": [],
   "source": [
    "import pandas as pd\n",
    "from tkinter import Tk, filedialog"
   ]
  },
  {
   "cell_type": "code",
   "execution_count": 5,
   "metadata": {},
   "outputs": [
    {
     "name": "stdout",
     "output_type": "stream",
     "text": [
      "C:/Users/Comseven/Documents/DHL/Completed/DHL 08-12-22.xlsx\n"
     ]
    }
   ],
   "source": [
    "source = Tk()\n",
    "source.excel = filedialog.askopenfilename(title='Open DHL file',filetypes=[('Excel Files', '*.xlsx'), ('All Files' , '*.*')])\n",
    "print(source.excel)\n",
    "source.withdraw()\n",
    "\n",
    "\n",
    "sheet = pd.read_excel(source.excel, dtype=pd.StringDtype())"
   ]
  },
  {
   "cell_type": "code",
   "execution_count": null,
   "metadata": {},
   "outputs": [],
   "source": [
    "only_fcb = df_source[df_source[\"Branch\"].str.contains(\"(^2)...\", regex=True)]\n",
    "only_fcb"
   ]
  },
  {
   "cell_type": "code",
   "execution_count": 10,
   "metadata": {},
   "outputs": [
    {
     "name": "stderr",
     "output_type": "stream",
     "text": [
      "C:\\Users\\Comseven\\AppData\\Local\\Temp\\ipykernel_12636\\2106954939.py:9: UserWarning: This pattern is interpreted as a regular expression, and has match groups. To actually get the groups, use str.extract.\n",
      "  only_fcb_out = sheet[sheet[\"Branch\"].str.contains(\"(^2)...\", regex=True, na=False)]\n"
     ]
    }
   ],
   "source": [
    "def FCB_only():\n",
    "\n",
    "    '''\n",
    "    Separate only FCB Branch\n",
    "    '''\n",
    "    #filter only FCB branch\n",
    "    global sheet_fcb_only\n",
    "\n",
    "    only_fcb_out = sheet[sheet[\"Branch\"].str.contains(\"(^2)...\", regex=True, na=False)]\n",
    "    only_fcb_out_phyid = only_fcb_out[\"CCN\"].replace(['PHYID'],'',regex=True).str.split('-')\n",
    "\n",
    "    df_only_fcb_out = pd.DataFrame(only_fcb_out_phyid)\n",
    "\n",
    "    #try:\n",
    "    #    df_only_fcb_as_table = df_only_fcb[['ID','Branch','Box Num']] = pd.DataFrame(df_only_fcb.CCN.to_list(), index=df_only_fcb.index)\n",
    "    #except:\n",
    "    #    pass\n",
    "\n",
    "    frames = [only_fcb_out, df_only_fcb_out]\n",
    "    sheet_fcb_only = pd.concat(frames, axis=1)\n",
    "FCB_only()"
   ]
  },
  {
   "cell_type": "code",
   "execution_count": 32,
   "metadata": {},
   "outputs": [
    {
     "data": {
      "text/plain": [
       "'C:\\\\Users\\\\Comseven\\\\Documents\\\\DHL\\\\Completed\\\\11-65\\\\All_Nov.xlsx'"
      ]
     },
     "execution_count": 32,
     "metadata": {},
     "output_type": "execute_result"
    }
   ],
   "source": [
    "import os\n",
    "import openpyxl as pyxl\n",
    "\n",
    "listfile = os.listdir(rf\"C:\\Users\\Comseven\\Documents\\DHL\\Completed\\11-65\")\n",
    "\n",
    "\n",
    "for i in range(0,len(listfile)):\n",
    "    file_name = os.path.join(rf\"C:\\Users\\Comseven\\Documents\\DHL\\Completed\\11-65\",listfile[i])\n",
    "    workbook = pd.read_excel(file_name)\n",
    "\n",
    "    with pd.ExcelWriter(rf\"C:\\Users\\Comseven\\Documents\\DHL\\Completed\\11-65\\All_Nov.xlsx\", engine=\"openpyxl\", mode=\"a\", if_sheet_exists=\"overlay\") as file:\n",
    "        workbook.to_excel(file, startrow=file.sheets['Sheet1'].max_row, header=None)\n"
   ]
  },
  {
   "cell_type": "code",
   "execution_count": null,
   "metadata": {},
   "outputs": [],
   "source": []
  }
 ],
 "metadata": {
  "kernelspec": {
   "display_name": "Python 3.10.6 64-bit",
   "language": "python",
   "name": "python3"
  },
  "language_info": {
   "codemirror_mode": {
    "name": "ipython",
    "version": 3
   },
   "file_extension": ".py",
   "mimetype": "text/x-python",
   "name": "python",
   "nbconvert_exporter": "python",
   "pygments_lexer": "ipython3",
   "version": "3.10.6"
  },
  "orig_nbformat": 4,
  "vscode": {
   "interpreter": {
    "hash": "1ef56a61dee2f6ac1a5ec28cfc093844d4b9ae4f3bee2866e0bdd69f097e7c38"
   }
  }
 },
 "nbformat": 4,
 "nbformat_minor": 2
}
