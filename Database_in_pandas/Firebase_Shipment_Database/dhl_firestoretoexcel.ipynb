{
 "cells": [
  {
   "cell_type": "code",
   "execution_count": 1,
   "metadata": {},
   "outputs": [],
   "source": [
    "import pandas as pd\n",
    "import json\n",
    "from collections import defaultdict\n",
    "import requests\n",
    "import os\n",
    "import firebase_admin\n",
    "from firebase_admin import credentials, auth\n",
    "from firebase_admin import db, firestore\n",
    "from tkinter import Tk,  filedialog\n",
    "import datetime\n",
    "import openpyxl\n",
    "import argparse"
   ]
  },
  {
   "cell_type": "code",
   "execution_count": 2,
   "metadata": {},
   "outputs": [],
   "source": [
    "cred = credentials.Certificate(r\"D:\\Workstuff\\my-work-python-script\\Database_in_pandas\\Firebase_Shipment_Database\\json_secret\\logistec-firebase-adminsdk-mz58b-63b513fce5.json\")\n",
    "\n",
    "firebase_admin.initialize_app(cred, {\n",
    "    'databaseURL' : 'https://logistec-default-rtdb.asia-southeast1.firebasedatabase.app/',\\\n",
    "    \n",
    "})\n",
    "firestore_db = firestore.client()"
   ]
  },
  {
   "cell_type": "code",
   "execution_count": 74,
   "metadata": {},
   "outputs": [],
   "source": [
    "def getdataBranch(branch, carRound):\n",
    "    year = str(datetime.datetime.today().year)\n",
    "    month = str(datetime.datetime.today().month)\n",
    "    day = str(datetime.datetime.today().day)\n",
    "\n",
    "    data = firestore_db.collection(\"Scanned_Total_Shipment\").document(\"Year\").collection(year).document(\"Month\").collection(month).document(\"Day\").collection(day).document(\"Branch\").collection(branch).document(\"Data\")\n",
    "    snapshot = data.get().to_dict()\n",
    "    return pd.DataFrame(snapshot[carRound])\n",
    "\n",
    "df = getdataBranch(\"ID33: คลัง Service Headoffice - Insure\", \"2\")"
   ]
  },
  {
   "cell_type": "code",
   "execution_count": 76,
   "metadata": {},
   "outputs": [
    {
     "name": "stdout",
     "output_type": "stream",
     "text": [
      "ID33: คลัง Service Headoffice - Insure\n"
     ]
    }
   ],
   "source": [
    "branch = \"ID33: คลัง Service Headoffice - Insure\"\n",
    "print(branch)"
   ]
  },
  {
   "cell_type": "code",
   "execution_count": 80,
   "metadata": {},
   "outputs": [],
   "source": [
    "def convert_to_excel(DataFrame, branch, carRound):\n",
    "    today = datetime.datetime.today().strftime(\"%d-%m-%Y\")\n",
    "    filepath = fr\"D:\\Workstuff\\my-work-python-script\\Database_in_pandas\\Firebase_Shipment_Database\\{branch.replace(':', '')} - {today} - {carRound}.xlsx\"\n",
    "    writer = pd.ExcelWriter(filepath, engine=\"xlsxwriter\")\n",
    "    writer.close()\n",
    "    with pd.ExcelWriter(filepath, mode=\"w\", engine=\"xlsxwriter\") as excel_file:\n",
    "        DataFrame.to_excel(excel_file, sheet_name=today, header=True, index=False)\n",
    "\n",
    "convert_to_excel(df,\"ID33: คลัง Service Headoffice - Insure\", \"2\")"
   ]
  },
  {
   "cell_type": "code",
   "execution_count": 85,
   "metadata": {},
   "outputs": [
    {
     "data": {
      "text/plain": [
       "'C:\\\\Users\\\\Comseven\\\\AppData\\\\Roaming'"
      ]
     },
     "execution_count": 85,
     "metadata": {},
     "output_type": "execute_result"
    }
   ],
   "source": [
    "import sendgrid as sg\n",
    "from sendgrid.helpers.mail import *\n",
    "f'ทดสอบส่งไฟล์ {branch.replace(\":\", \"\")} ประจำวันที่ {today} - รอบที่ {carRound}'\n"
   ]
  },
  {
   "cell_type": "code",
   "execution_count": null,
   "metadata": {},
   "outputs": [],
   "source": [
    "Attachment(\n",
    "    FileName(file_name=f\"/home/dadvader/firestore-python-script/excel_data/{branch.replace(':', '')} - {today} - รอบที่ {carRound}.xlsx\", ),\n",
    ")"
   ]
  }
 ],
 "metadata": {
  "kernelspec": {
   "display_name": "Python 3",
   "language": "python",
   "name": "python3"
  },
  "language_info": {
   "codemirror_mode": {
    "name": "ipython",
    "version": 3
   },
   "file_extension": ".py",
   "mimetype": "text/x-python",
   "name": "python",
   "nbconvert_exporter": "python",
   "pygments_lexer": "ipython3",
   "version": "3.10.6"
  },
  "orig_nbformat": 4
 },
 "nbformat": 4,
 "nbformat_minor": 2
}
