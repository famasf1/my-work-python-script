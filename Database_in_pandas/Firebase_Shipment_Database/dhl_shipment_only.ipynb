{
 "cells": [
  {
   "cell_type": "code",
   "execution_count": 1,
   "metadata": {},
   "outputs": [],
   "source": [
    "import pandas as pd\n",
    "import json\n",
    "from collections import defaultdict\n",
    "import requests\n",
    "import os\n"
   ]
  },
  {
   "cell_type": "code",
   "execution_count": 16,
   "metadata": {},
   "outputs": [],
   "source": [
    "data = pd.read_clipboard(sep='\\t')\n",
    "\n",
    "clean_booking_id = data['Booking ID'].str.replace(\"Booking-DHL ID : \", \"\").str.split(\" , \", expand=False)\n",
    "clean_booking_id = pd.DataFrame(clean_booking_id)\n",
    "\n",
    "stockoutid = data['Stock Out (ID)']\n",
    "branchid = data['Branch (ID)']\n",
    "id_concat = pd.DataFrame(stockoutid + \"-\" + branchid).rename(columns={0: \"PHYID\"}, inplace=False).PHYID.str.replace(\",\",\"\")\n",
    "\n",
    "frames = [id_concat, clean_booking_id]\n",
    "new_data = pd.concat(frames, axis=1)\n",
    "new_data = new_data.dropna().explode(column='Booking ID').set_index(keys='Booking ID')"
   ]
  },
  {
   "cell_type": "code",
   "execution_count": null,
   "metadata": {},
   "outputs": [],
   "source": []
  },
  {
   "cell_type": "code",
   "execution_count": 17,
   "metadata": {},
   "outputs": [],
   "source": [
    "nested_dict = lambda: defaultdict(dict)\n",
    "nested = nested_dict()\n",
    "\n",
    "for row in new_data.itertuples():\n",
    "    nested[row.Index] = {'PHYID' : row.PHYID}\n",
    "\n",
    "with open(\"shipment_data.json\", \"w+\") as jsonfile:\n",
    "    json.dump(nested, jsonfile, indent=3)\n",
    "    #write to my firebase\n",
    "\n"
   ]
  },
  {
   "cell_type": "code",
   "execution_count": null,
   "metadata": {},
   "outputs": [],
   "source": []
  },
  {
   "cell_type": "code",
   "execution_count": null,
   "metadata": {},
   "outputs": [],
   "source": []
  }
 ],
 "metadata": {
  "kernelspec": {
   "display_name": "Python 3",
   "language": "python",
   "name": "python3"
  },
  "language_info": {
   "codemirror_mode": {
    "name": "ipython",
    "version": 3
   },
   "file_extension": ".py",
   "mimetype": "text/x-python",
   "name": "python",
   "nbconvert_exporter": "python",
   "pygments_lexer": "ipython3",
   "version": "3.10.6"
  },
  "orig_nbformat": 4,
  "vscode": {
   "interpreter": {
    "hash": "1ef56a61dee2f6ac1a5ec28cfc093844d4b9ae4f3bee2866e0bdd69f097e7c38"
   }
  }
 },
 "nbformat": 4,
 "nbformat_minor": 2
}
