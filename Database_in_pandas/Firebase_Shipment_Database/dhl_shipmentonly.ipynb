{
 "cells": [
  {
   "cell_type": "code",
   "execution_count": 1,
   "metadata": {},
   "outputs": [],
   "source": [
    "import pandas as pd\n",
    "import json\n",
    "from collections import defaultdict\n",
    "import requests\n",
    "import os\n",
    "import firebase_admin\n",
    "from firebase_admin import credentials, auth\n",
    "from firebase_admin import db, firestore\n",
    "from tkinter import Tk,  filedialog\n",
    "import datetime\n",
    "import openpyxl"
   ]
  },
  {
   "cell_type": "code",
   "execution_count": null,
   "metadata": {},
   "outputs": [],
   "source": [
    "cred = credentials.Certificate(r\"D:\\Workstuff\\my-work-python-script\\Database_in_pandas\\Firebase_Shipment_Database\\json_secret\\logistec-firebase-adminsdk-mz58b-63b513fce5.json\")\n",
    "\n",
    "firebase_admin.initialize_app(cred, {\n",
    "    'databaseURL' : 'https://logistec-default-rtdb.asia-southeast1.firebasedatabase.app/',\\\n",
    "    \n",
    "})\n",
    "firestore_db = firestore.client()\n",
    "ref = db.reference('DHL_Shipment_Database')\n",
    "id33 = ref.child('Stockout_33')\n",
    "id49 = ref.child('Stockout_49')\n",
    "id49_insure = ref.child('Stockout49_Insure')\n",
    "id1607 = ref.child('Stockout_1607')\n",
    "id32 = ref.child('Stockout_32')"
   ]
  },
  {
   "cell_type": "code",
   "execution_count": 14,
   "metadata": {},
   "outputs": [],
   "source": [
    "data = pd.read_clipboard(sep='\\t')\n",
    "\n",
    "stockoutid = data['Stock Out (ID)'].astype(str)\n",
    "branchid = data['Branch (ID)'].astype(str)\n",
    "doc_date =  pd.to_datetime(data['Doc Date'], dayfirst=True).dt.strftime(\"%d/%m/%y\")\n",
    "branchto = data['Branch To (Name)']\n",
    "clean_booking_id = data['Booking ID'].str.rstrip().str.replace(\"Booking-DHL ID : \", \"\")\n",
    "id_concat = pd.DataFrame(stockoutid + \"-\" + branchid).rename(columns={0: \"PHYID\",}, inplace=False).PHYID.str.replace(\",\",\"\")\n",
    "\n",
    "frames = [id_concat, clean_booking_id, branchto, doc_date]\n",
    "\n",
    "new_data = pd.concat(frames, axis=1).rename(columns={0: \"PHYID\", 1: \"Booking ID\", 2: \"Branch To\", 3: \"Doc Date\"})\n",
    "new_new_data = new_data.set_index(['PHYID', 'Branch To (Name)', 'Doc Date'])\n",
    "new_new_data = new_new_data['Booking ID'].str.split(\" , \" , expand=True).stack().reset_index(level=3, drop=True).reset_index(name='Tracking_index')\n",
    "new_df = pd.DataFrame(new_new_data)\n",
    "new_df['Tracking'] = new_df.loc[:, 'Tracking_index']\n",
    "new_df = pd.DataFrame(new_df).set_index('Tracking')\n",
    "#new_new_data = pd.concat(phyid_col, booking_id_col, branch_to_col).set_index('Booking ID')\n",
    "#new_new_data = new_data.set_index(['Stock Out (ID)', 'Branch (ID)'])\n",
    "#new_new_data = new_data['Booking ID'].str.split(' , ', expand=True).stack().reset_index(level=1, drop=True).reset_index(name='Booking-ID')\n",
    "#new_new_data = pd.DataFrame(new_new_data,)\n",
    "nested_dict = lambda: defaultdict(dict)\n",
    "nested = nested_dict()\n",
    "\n",
    "for row in new_df.itertuples():\n",
    "    nested[row.Index] = {'PHYID' : row.PHYID, 'Branch To' : row[2], 'Tracking' : row[4],'Doc Date' : row[3]}"
   ]
  },
  {
   "cell_type": "code",
   "execution_count": null,
   "metadata": {},
   "outputs": [],
   "source": [
    "for data in nested.values():\n",
    "    try:\n",
    "        print(data[\"Branch To\"])\n",
    "        break\n",
    "    except KeyError:\n",
    "        pass\n",
    "\n",
    "for data2 in nested.values():\n",
    "    print(data2) \n"
   ]
  },
  {
   "attachments": {},
   "cell_type": "markdown",
   "metadata": {},
   "source": [
    "<H1>ID33 Head Office - Insure</H1>"
   ]
  },
  {
   "cell_type": "code",
   "execution_count": 6,
   "metadata": {},
   "outputs": [
    {
     "name": "stdout",
     "output_type": "stream",
     "text": [
      "Data Sent\n"
     ]
    }
   ],
   "source": [
    "#firestore\n",
    "today = datetime.datetime.today().strftime(\"%d-%m-%Y\")\n",
    "id33 = firestore_db.collection('DHL_shipments_data').document('ID33: คลัง Service Headoffice - Insure')\n",
    "for data in nested.values():\n",
    "    branch = data[\"Branch To\"]\n",
    "if branch == 'ID33: คลัง Service Headoffice' or 'ID33: คลังสินค้า Service ฝั่ง Insure':\n",
    "    try:\n",
    "        id33.set(nested,merge=True)\n",
    "    except KeyError:\n",
    "        pass\n",
    "    print(\"Data Sent\")\n"
   ]
  },
  {
   "cell_type": "code",
   "execution_count": null,
   "metadata": {},
   "outputs": [],
   "source": [
    "#RTDB\n",
    "id33.update(nested)"
   ]
  },
  {
   "attachments": {},
   "cell_type": "markdown",
   "metadata": {},
   "source": [
    "<H1>ID49</h1>"
   ]
  },
  {
   "cell_type": "code",
   "execution_count": 8,
   "metadata": {},
   "outputs": [
    {
     "name": "stdout",
     "output_type": "stream",
     "text": [
      "Data Sent\n"
     ]
    }
   ],
   "source": [
    "today = datetime.datetime.today().strftime(\"%d-%m-%Y\")\n",
    "id49 = firestore_db.collection('DHL_shipments_data').document('ID49: สินค้าโยกเข้าคลัง')\n",
    "for data in nested.values():\n",
    "    branch = data[\"Branch To\"]\n",
    "if branch == \"ID49 : สินค้าโยกเข้าคลัง (01/10/2008)\":\n",
    "    try:\n",
    "        id49.set(nested,merge=True)\n",
    "    except KeyError:\n",
    "        pass\n",
    "    print(\"Data Sent\")\n"
   ]
  },
  {
   "cell_type": "code",
   "execution_count": null,
   "metadata": {},
   "outputs": [],
   "source": [
    "id49.update(nested)"
   ]
  },
  {
   "attachments": {},
   "cell_type": "markdown",
   "metadata": {},
   "source": [
    "<H1>ID49 - Insure</h1>"
   ]
  },
  {
   "cell_type": "code",
   "execution_count": 10,
   "metadata": {},
   "outputs": [
    {
     "name": "stdout",
     "output_type": "stream",
     "text": [
      "Data Sent\n"
     ]
    }
   ],
   "source": [
    "today = datetime.datetime.today().strftime(\"%d-%m-%Y\")\n",
    "id49_insure = firestore_db.collection('DHL_shipments_data').document('ID49: สินค้า Trade-in')\n",
    "for data in nested.values():\n",
    "    branch = data[\"Branch To\"]\n",
    "if branch == 'ID49 : สินค้า Trade in':\n",
    "    try:\n",
    "        id49_insure.set(nested,merge=True)\n",
    "    except KeyError:\n",
    "        pass\n",
    "    print(\"Data Sent\")\n"
   ]
  },
  {
   "cell_type": "code",
   "execution_count": null,
   "metadata": {},
   "outputs": [],
   "source": [
    "id49_insure.update(nested)"
   ]
  },
  {
   "attachments": {},
   "cell_type": "markdown",
   "metadata": {},
   "source": [
    "<H1>ID1607</H1>"
   ]
  },
  {
   "cell_type": "code",
   "execution_count": 12,
   "metadata": {},
   "outputs": [
    {
     "name": "stdout",
     "output_type": "stream",
     "text": [
      "Data Sent\n"
     ]
    }
   ],
   "source": [
    "today = datetime.datetime.today().strftime(\"%d-%m-%Y\")\n",
    "id1607 = firestore_db.collection('DHL_shipments_data').document('ID1607: สินค้า Spare ทำคืนลูกค้า')\n",
    "for data in nested.values():\n",
    "    branch = data[\"Branch To\"]\n",
    "if branch == \"ID1607 : คลังสินค้า Service Headoffice (Spare)\":\n",
    "    try:\n",
    "        id1607.set(nested,merge=True)\n",
    "    except KeyError:\n",
    "        pass\n",
    "    print(\"Data Sent\")\n"
   ]
  },
  {
   "cell_type": "code",
   "execution_count": null,
   "metadata": {},
   "outputs": [],
   "source": [
    "id1607.update(nested)"
   ]
  },
  {
   "attachments": {},
   "cell_type": "markdown",
   "metadata": {},
   "source": [
    "<H1>ID32</>"
   ]
  },
  {
   "cell_type": "code",
   "execution_count": 15,
   "metadata": {},
   "outputs": [
    {
     "name": "stdout",
     "output_type": "stream",
     "text": [
      "Data Sent\n"
     ]
    }
   ],
   "source": [
    "today = datetime.datetime.today().strftime(\"%d-%m-%Y\")\n",
    "id32 = firestore_db.collection('DHL_shipments_data').document('ID32 : คลัง Service เครื่องใช้ไฟฟ้า Index')\n",
    "for data in nested.values():\n",
    "    branch = data[\"Branch To\"]\n",
    "if branch == 'ID32 : คลัง Service เครื่องใช้ไฟฟ้า Index':\n",
    "    try:\n",
    "        id32.set(nested,merge=True)\n",
    "        #id32.set({})\n",
    "    except KeyError:\n",
    "        pass\n",
    "    print(\"Data Sent\")"
   ]
  },
  {
   "cell_type": "code",
   "execution_count": null,
   "metadata": {},
   "outputs": [],
   "source": []
  },
  {
   "attachments": {},
   "cell_type": "markdown",
   "metadata": {},
   "source": [
    "<H1>unused (for now)</h1>"
   ]
  },
  {
   "cell_type": "code",
   "execution_count": null,
   "metadata": {},
   "outputs": [],
   "source": [
    "\n",
    "\n",
    "with open(\"shipment_data_1.json\", \"w+\",) as jsonfile:\n",
    "    json.dump(nested, jsonfile, indent=3)\n",
    "    #write to my firebase\n",
    "\n"
   ]
  },
  {
   "attachments": {},
   "cell_type": "markdown",
   "metadata": {},
   "source": [
    "<H1>Send data through email</H1>"
   ]
  },
  {
   "cell_type": "code",
   "execution_count": 39,
   "metadata": {},
   "outputs": [],
   "source": [
    "today = datetime.datetime.today() - datetime.timedelta(days=0)\n",
    "formatted_today = today.strftime(\"%d-%m-%Y\")\n",
    "user_jirayuth = auth.get_user(\"j1L0LVOQdLR2bJTWbgNCMikILX22\")\n",
    "user_tum = auth.get_user(\"RTn6E1WAjqW99UM0TMciWV50Dkh2\")\n",
    "user_kitikun = auth.get_user(\"zImuJrq1GNZuFbvdSOmGgFJbDzF2\")\n",
    "\n",
    "round = '2' ##รอบรถ2\n",
    "ID33 = \"ID33: คลัง Service Headoffice - Insure\"\n",
    "ID49INSURE = \"ID49: สินค้า Trade-in\"\n",
    "ID49 = \"ID49: สินค้าโยกเข้าคลัง\"\n",
    "\n",
    "data = firestore_db.collection('Scanned_ShipmentData').document(formatted_today).collection(user_jirayuth.uid).document(ID49).get() ###.document(user_jirayuth.uid).get()\n",
    "doc_data = data.to_dict()[round]\n",
    "df = pd.DataFrame.from_dict(doc_data)\n"
   ]
  },
  {
   "cell_type": "code",
   "execution_count": 36,
   "metadata": {},
   "outputs": [],
   "source": [
    "\n",
    "EXCEL_READ_FILEPATH = r\"D:\\Workstuff\\my-work-python-script\\Database_in_pandas\\Firebase_Shipment_Database\\excel\"\n",
    "os.chdir(EXCEL_READ_FILEPATH)\n",
    "\n",
    "new_wb = openpyxl.Workbook()\n",
    "try:\n",
    "    new_wb.save(f\"Parcel Pickup {formatted_today} รอบที่ {round}.xlsx\")\n",
    "    \n",
    "except FileExistsError:\n",
    "\n",
    "    new_wb.save(f\"Parcel Pickup {formatted_today} รอบที่ {round}.xlsx\")\n",
    "\n",
    "with pd.ExcelWriter(os.path.join(EXCEL_READ_FILEPATH, f\"Parcel Pickup {formatted_today} รอบที่ {round}.xlsx\"), mode=\"a\", if_sheet_exists=\"replace\", engine=\"openpyxl\") as excel_file:\n",
    "    df.to_excel(excel_file, index=False,)### startrow=excel_file.sheets[f\"{formatted_today}\"].max_row)\n",
    "    excel_file.save()"
   ]
  },
  {
   "cell_type": "code",
   "execution_count": null,
   "metadata": {},
   "outputs": [],
   "source": [
    "root = Tk()\n",
    "load_json = filedialog.askopenfilename(title=\"เลือกไฟล์ JSON\", filetypes={(\"*.json\" , \"JSON\")})\n",
    "data = pd.read_json(load_json)"
   ]
  },
  {
   "cell_type": "code",
   "execution_count": null,
   "metadata": {},
   "outputs": [],
   "source": []
  }
 ],
 "metadata": {
  "kernelspec": {
   "display_name": "Python 3",
   "language": "python",
   "name": "python3"
  },
  "language_info": {
   "codemirror_mode": {
    "name": "ipython",
    "version": 3
   },
   "file_extension": ".py",
   "mimetype": "text/x-python",
   "name": "python",
   "nbconvert_exporter": "python",
   "pygments_lexer": "ipython3",
   "version": "3.10.6"
  },
  "orig_nbformat": 4,
  "vscode": {
   "interpreter": {
    "hash": "1ef56a61dee2f6ac1a5ec28cfc093844d4b9ae4f3bee2866e0bdd69f097e7c38"
   }
  }
 },
 "nbformat": 4,
 "nbformat_minor": 2
}
