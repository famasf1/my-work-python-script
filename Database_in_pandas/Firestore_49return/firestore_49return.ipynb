{
 "cells": [
  {
   "cell_type": "code",
   "execution_count": 1,
   "metadata": {},
   "outputs": [],
   "source": [
    "import pandas as pd\n",
    "import json \n",
    "from collections import defaultdict\n",
    "import firebase_admin\n",
    "from firebase_admin import credentials, auth \n",
    "from firebase_admin import db, firestore \n",
    "import datetime\n",
    "import numpy as np"
   ]
  },
  {
   "attachments": {},
   "cell_type": "markdown",
   "metadata": {},
   "source": [
    "<h1>Firebase\n",
    " "
   ]
  },
  {
   "cell_type": "code",
   "execution_count": 2,
   "metadata": {},
   "outputs": [],
   "source": [
    "cred = credentials.Certificate(r\"D:\\Workstuff\\my-work-python-script\\Database_in_pandas\\Firebase_Shipment_Database\\json_secret\\logistec-firebase-adminsdk-mz58b-63b513fce5.json\")\n",
    "firebase_admin.initialize_app(cred, {})\n",
    "\n",
    "firestore_db = firestore.client()"
   ]
  },
  {
   "attachments": {},
   "cell_type": "markdown",
   "metadata": {},
   "source": [
    "<h1>UTIL_49"
   ]
  },
  {
   "cell_type": "code",
   "execution_count": 15,
   "metadata": {},
   "outputs": [],
   "source": [
    "#read clipboard\n",
    "data = pd.read_clipboard(sep='\\t')\n",
    "\n",
    "#create new dataframe with selected columns\n",
    "stockout_id = data[\"ID\"].astype(str).str.replace(\",\",\"\")\n",
    "branchid = data[\"Branch (ID)\"].astype(str).str.replace(\",\",\"\")\n",
    "branchname = data[\"Branch (Name)\"]\n",
    "phyid = pd.DataFrame(stockout_id + \"-\" + branchid).rename(columns={0: \"PHYID\"}, inplace=False)\n",
    "docdate = pd.to_datetime(data[\"Doc Date\"], dayfirst=True).dt.strftime(\"%d/%m/%y\")\n",
    "productcode = data[\"Product (Code)\"]\n",
    "productname = data[\"Product (Name)\"]\n",
    "totalnumber = data[\"Number\"]\n",
    "cat_name = data[\"Category Name\"]\n",
    "serial = data[\"Serial\"].replace({np.nan: \"null\"})\n",
    "\n",
    "frames = [docdate,branchname, phyid, productcode, productname, serial, totalnumber, cat_name ]\n",
    "new_frames = pd.concat(frames, axis=1)\n",
    "\n",
    "#grouping every columns again to sum all duplicates + set new index.\n",
    "grouped = new_frames.groupby(['Doc Date', 'Branch (Name)', 'PHYID', 'Product (Code)', 'Product (Name)', 'Serial', 'Category Name'], as_index=False, dropna=False).agg({'Number' : 'sum'}).set_index([\"PHYID\", 'Product (Code)'], drop=False)\n",
    "grouped_phyidonly = new_frames[\"PHYID\"].unique()\n",
    "\n",
    "#convert into dictionary (maps) for firestore\n",
    "nested_dict = lambda: defaultdict(dict)\n",
    "nested = nested_dict()\n",
    "\n",
    "for row2 in grouped.itertuples():\n",
    "    nested[row2.Index[0]][str(row2.Index[1])] = {'PHYID' : row2.Index[0], 'Doc Date' : row2._1, 'Branch' : row2._2, 'Product Code' : row2.Index[1], 'Product Name' : row2._5, 'Serial' : row2.Serial, 'Number' :row2.Number, 'Category Name' : row2._7}\n"
   ]
  },
  {
   "attachments": {},
   "cell_type": "markdown",
   "metadata": {},
   "source": [
    "<H1>SEND DATA"
   ]
  },
  {
   "cell_type": "code",
   "execution_count": null,
   "metadata": {},
   "outputs": [],
   "source": [
    "#send to firestore\n",
    "print(len(nested))\n",
    "today = datetime.datetime.today()\n",
    "batch = firestore_db.batch()\n",
    "\n",
    "#batch_size = 500\n",
    "for number, field in enumerate(grouped_phyidonly):\n",
    "    return49_data = firestore_db.collection(\"Return49_Data\").document(\"Year\").collection(str(today.year)).document(\"Month\").collection(str(today.month - 1)).document(field)\n",
    "    if number % 500 == 499:\n",
    "        batch.commit()\n",
    "        batch = firestore_db.batch()\n",
    "    batch.set(return49_data, nested[field],merge=True)\n",
    "batch.commit()"
   ]
  },
  {
   "cell_type": "code",
   "execution_count": null,
   "metadata": {},
   "outputs": [],
   "source": []
  }
 ],
 "metadata": {
  "kernelspec": {
   "display_name": "Python 3",
   "language": "python",
   "name": "python3"
  },
  "language_info": {
   "codemirror_mode": {
    "name": "ipython",
    "version": 3
   },
   "file_extension": ".py",
   "mimetype": "text/x-python",
   "name": "python",
   "nbconvert_exporter": "python",
   "pygments_lexer": "ipython3",
   "version": "3.10.6"
  },
  "orig_nbformat": 4
 },
 "nbformat": 4,
 "nbformat_minor": 2
}
