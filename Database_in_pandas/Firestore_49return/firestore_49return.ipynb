{
 "cells": [
  {
   "cell_type": "code",
   "execution_count": null,
   "metadata": {},
   "outputs": [],
   "source": [
    "import pandas as pd\n",
    "import json\n",
    "from collections import defaultdict\n",
    "import firebase_admin\n",
    "from firebase_admin import credentials, auth\n",
    "from firebase_admin import db, firestore\n",
    "import datetime\n",
    "import numpy as np\n"
   ]
  },
  {
   "attachments": {},
   "cell_type": "markdown",
   "metadata": {},
   "source": [
    "<h1>Firebase\n",
    " "
   ]
  },
  {
   "cell_type": "code",
   "execution_count": null,
   "metadata": {},
   "outputs": [],
   "source": [
    "cred = credentials.Certificate(\n",
    "    r\"D:\\Workstuff\\my-work-python-script\\Database_in_pandas\\Firebase_Shipment_Database\\json_secret\\logistec-firebase-adminsdk-mz58b-63b513fce5.json\")\n",
    "firebase_admin.initialize_app(cred, {})\n",
    "\n",
    "firestore_db = firestore.client()\n"
   ]
  },
  {
   "attachments": {},
   "cell_type": "markdown",
   "metadata": {},
   "source": [
    "<h1>UTIL_49"
   ]
  },
  {
   "cell_type": "code",
   "execution_count": null,
   "metadata": {},
   "outputs": [],
   "source": [
    "# read clipboard\n",
    "data = pd.read_clipboard(sep='\\t')\n",
    "\n",
    "# create new dataframe with selected columns\n",
    "stockout_id = data[\"ID\"].astype(str).str.replace(\",\", \"\")\n",
    "branchid = data[\"Branch (ID)\"].astype(str).str.replace(\",\", \"\")\n",
    "branchname = data[\"Branch (Name)\"]\n",
    "phyid = pd.DataFrame(stockout_id + \"-\" +\n",
    "                     branchid).rename(columns={0: \"PHYID\"}, inplace=False)\n",
    "docdate = pd.to_datetime(\n",
    "    data[\"Doc Date\"], dayfirst=True).dt.strftime(\"%d/%m/%y\")\n",
    "productcode = data[\"Product (Code)\"].astype(str)\n",
    "productname = data[\"Product (Name)\"]\n",
    "totalnumber = data[\"Number\"]\n",
    "cat_name = data[\"Category Name\"]\n",
    "serial = data[\"Serial\"].fillna(data.pop('Product (Code)')).astype(str)\n",
    "\n",
    "frames = [docdate, branchname, phyid, productcode,\n",
    "          productname, serial, totalnumber, cat_name]\n",
    "new_frames = pd.concat(frames, axis=1)\n",
    "\n",
    "# grouping every columns again to sum all duplicates + set new index.\n",
    "grouped = new_frames.groupby(['Doc Date', 'Branch (Name)', 'PHYID', 'Product (Code)', 'Product (Name)', 'Serial', 'Category Name'],\n",
    "                             as_index=False, dropna=False).agg({'Number': 'sum'}).set_index([\"PHYID\", 'Product (Code)', 'Serial'], drop=False)\n",
    "grouped_phyidonly = new_frames[\"PHYID\"].unique()\n",
    "grouped_serialonly = new_frames[\"Serial\"].unique()\n",
    "\n",
    "# convert into dictionary (maps) for firestore\n",
    "\n",
    "\n",
    "def nested_dict(): return defaultdict(dict)\n",
    "def nested_list(): return defaultdict(list)\n",
    "\n",
    "\n",
    "nested = nested_list()\n",
    "nested_header = nested_dict()\n",
    "nested_product = nested_dict()\n",
    "nested2 = nested_dict()\n",
    "product_list = []\n",
    "\n",
    "total_phyid = grouped[\"PHYID\"].nunique()\n",
    "total_items = sum(grouped[\"Number\"])\n",
    "\n",
    "nested2 = {'Total_Bill': total_phyid, 'Total_Items': total_items}\n",
    "# create some kind of metadata first\n",
    "\n",
    "#\n",
    "\n",
    "for nested_row in grouped.itertuples():\n",
    "    nested[nested_row.Index[0]].append({'Product Code': str(nested_row.Index[1]), 'Product Name': nested_row._5, 'Serial': str(\n",
    "        nested_row.Index[2]), 'Number': nested_row.Number, 'Category Name': nested_row._7})\n",
    "    nested_header[nested_row.Index[0]] = {\n",
    "        'PHYID': nested_row.Index[0], 'Doc Date': nested_row._1, 'Branch': nested_row._2, }\n",
    "    nested_product[nested_row.Index[0]][str(nested_row.Index[2])] = {'Product Code': str(\n",
    "        nested_row.Index[1]), 'Product Name': nested_row._5, 'Serial': str(nested_row.Index[2]), 'Number': nested_row.Number, 'Category Name': nested_row._7}\n",
    "\n",
    "new_nested = {}\n",
    "product_nested = {}\n",
    "for key, value in nested_header.items():\n",
    "    if key in nested:\n",
    "        new_nested[key] = {\n",
    "            'PHYID': value['PHYID'],\n",
    "            'Doc Date': value['Doc Date'],\n",
    "            'Branch': value['Branch'],\n",
    "            'Products': nested[key],\n",
    "        }\n",
    "        product_nested[key] = nested_product[key]\n"
   ]
  },
  {
   "cell_type": "code",
   "execution_count": null,
   "metadata": {},
   "outputs": [],
   "source": [
    "product_nested"
   ]
  },
  {
   "attachments": {},
   "cell_type": "markdown",
   "metadata": {},
   "source": [
    "<H1>SEND DATA"
   ]
  },
  {
   "cell_type": "code",
   "execution_count": null,
   "metadata": {},
   "outputs": [],
   "source": [
    "\n",
    "\n",
    "# send to firestore\n",
    "print(len(nested))\n",
    "today = datetime.datetime.today()\n",
    "batch = firestore_db.batch()\n",
    "transaction = firestore_db.transaction()\n",
    "\n",
    "#batch_size = 500\n",
    "# write bill data\n",
    "for number, field in enumerate(grouped_phyidonly):\n",
    "    if today.day >= 15:\n",
    "        return49_data = firestore_db.collection(\"Return49_Data\").document(\"Year\").collection(\n",
    "            str(today.year)).document(\"Month\").collection(str(today.month)).document(field)\n",
    "    else:\n",
    "        return49_data = firestore_db.collection(\"Return49_Data\").document(\"Year\").collection(\n",
    "            str(today.year)).document(\"Month\").collection(str(today.month - 1)).document(field)\n",
    "    if number % 500 == 499:\n",
    "        batch.commit()\n",
    "        batch = firestore_db.batch()\n",
    "    batch.set(return49_data, new_nested[field], merge=True)\n",
    "batch.commit()\n",
    "\n",
    "\n",
    "for number, field in enumerate(grouped_phyidonly):\n",
    "    if today.day >= 15:\n",
    "        return49Product = firestore_db.collection(\"Return49_Data\").document(\"Year\").collection(str(today.year)).document(\n",
    "            \"Month\").collection(str(today.month)).document(field).collection(\"Products\").document(field)\n",
    "    else:\n",
    "        return49Product = firestore_db.collection(\"Return49_Data\").document(\"Year\").collection(str(today.year)).document(\n",
    "            \"Month\").collection(str(today.month - 1)).document(field).collection(\"Products\").document(field)\n",
    "    if number % 500 == 300:\n",
    "        batch.commit()\n",
    "        batch = firestore_db.batch()\n",
    "    batch.set(return49Product, product_nested[field], merge=True)\n",
    "batch.commit()\n",
    "\n",
    "# for number, field in enumerate(grouped_phyidonly):\n",
    "# if today.day >= 15:\n",
    "##            return49_data = firestore_db.collection(\"Return49_Data\").document(\"Year\").collection(str(today.year)).document(\"Month\").collection(str(today.month)).document(field).collection(\"Products\")\n",
    "# else:\n",
    "##            return49_data = firestore_db.collection(\"Return49_Data\").document(\"Year\").collection(str(today.year)).document(\"Month\").collection(str(today.month - 1)).document(field).collection(\"Products\")\n",
    "\n",
    "# write total data\n",
    "if today.day >= 15:\n",
    "    return49_data_util = firestore_db.collection(\"Return49_Data_Util\").document(\"Year\").collection(\n",
    "        str(today.year)).document(\"Month\").collection(str(today.month)).document(\"Total_return49_data\")\n",
    "else:\n",
    "    return49_data_util = firestore_db.collection(\"Return49_Data_Util\").document(\"Year\").collection(\n",
    "        str(today.year)).document(\"Month\").collection(str(today.month - 1)).document(\"Total_return49_data\")\n",
    "\n",
    "\n",
    "@firestore.transactional\n",
    "def update_in_transaction(transaction, return49_data_util):\n",
    "    snapshot = return49_data_util.get(transaction=transaction)\n",
    "    if snapshot.exists:\n",
    "        transaction.update(return49_data_util, {'Total_Bill': snapshot.get(\n",
    "            'Total_Bill') + nested2['Total_Bill'], 'Total_Items': snapshot.get('Total_Items') + nested2['Total_Items']})\n",
    "    else:\n",
    "        transaction.set(return49_data_util, {\n",
    "                        'Total_Bill': nested2['Total_Bill'], 'Total_Items': nested2['Total_Items']}, merge=True)\n",
    "\n",
    "\n",
    "update_in_transaction(transaction, return49_data_util)\n"
   ]
  },
  {
   "cell_type": "code",
   "execution_count": null,
   "metadata": {},
   "outputs": [],
   "source": [
    "with pd.ExcelWriter(\"test.xlsx\", mode=\"a\", engine=\"openpyxl\", if_sheet_exists=\"replace\",) as excel:\n",
    "    grouped.to_excel(excel, sheet_name=\"test\")\n"
   ]
  },
  {
   "cell_type": "code",
   "execution_count": null,
   "metadata": {},
   "outputs": [],
   "source": [
    "nested2['Total Bill']\n"
   ]
  },
  {
   "cell_type": "code",
   "execution_count": null,
   "metadata": {},
   "outputs": [],
   "source": []
  }
 ],
 "metadata": {
  "kernelspec": {
   "display_name": "Python 3",
   "language": "python",
   "name": "python3"
  },
  "language_info": {
   "codemirror_mode": {
    "name": "ipython",
    "version": 3
   },
   "file_extension": ".py",
   "mimetype": "text/x-python",
   "name": "python",
   "nbconvert_exporter": "python",
   "pygments_lexer": "ipython3",
   "version": "3.10.6"
  },
  "orig_nbformat": 4
 },
 "nbformat": 4,
 "nbformat_minor": 2
}
