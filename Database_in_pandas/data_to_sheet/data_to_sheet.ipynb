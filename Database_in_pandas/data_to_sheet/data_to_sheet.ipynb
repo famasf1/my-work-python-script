{
 "cells": [
  {
   "cell_type": "code",
   "execution_count": 4,
   "metadata": {},
   "outputs": [],
   "source": [
    "from oauth2client.service_account import ServiceAccountCredentials\n",
    "import google.auth\n",
    "import pandas as pd\n",
    "import os\n",
    "import pygsheets\n",
    "\n",
    "### sheet link database\n",
    "database_sheet_link = \"1YUl7bKLzLs_M5pXeNH4KYsDfPvu61X5uFqWzhLNOohA\"\n"
   ]
  },
  {
   "cell_type": "code",
   "execution_count": 5,
   "metadata": {},
   "outputs": [],
   "source": [
    "# Read API\n",
    "#with open(r\"D:\\Workstuff\\my-work-python-script\\Database_in_pandas\\data_to_sheet\\api_key.txt\", mode=\"r\") as api_key:\n",
    "#    creds = Credentials.from_auth\n",
    "\n",
    "#define scope and then authorize JSON key\n",
    "scope_app = ['https://spreadsheets.google.com/feeds', 'https://www.googleapis.cp,/auth/drive']\n",
    "\n",
    "get_json_key = 'itecdatabase-b286a-2c2408acc426.json'\n",
    "\n",
    "if get_json_key in os.listdir():\n",
    "    spreadsheet = pygsheets.authorize(service_account_file=get_json_key)\n",
    "else:\n",
    "    print(\"missing JSON API key\")\n",
    "\n",
    "#open sheet\n",
    "sheet = spreadsheet.open(\"Util + Techhead Database\")\n",
    "\n",
    "#define each sheet id and specify them\n",
    "util_report_reverse_sheetid = \"159831093\"\n",
    "stock_report_reverse_sheetid = \"1230520539\"\n",
    "stockout_33_sheetid = \"1207464290\"\n",
    "stockout_33insure_sheetid = \"248451430\"\n",
    "stockout_32_sheetid = \"1481078986\"\n",
    "stockout_49insure_sheetid = \"1044969533\"\n",
    "stockout_49_sheetid = \"1411033047\"\n",
    "        #####           #####           #####\n",
    "util_report_reverse = sheet.worksheet('id', value=util_report_reverse_sheetid)\n",
    "stock_report_reverse = sheet.worksheet('id', value=stock_report_reverse_sheetid)\n",
    "stockout_33 = sheet.worksheet('id', value = stockout_33_sheetid)\n",
    "stockout_33insure = sheet.worksheet('id', value=stockout_33insure_sheetid)\n",
    "stockout_32 = sheet.worksheet('id', value=stockout_32_sheetid)\n",
    "stockout_49insure = sheet.worksheet('id', value=stockout_49insure_sheetid)\n",
    "stockout_49 = sheet.worksheet('id', value=stockout_49_sheetid)\n"
   ]
  },
  {
   "cell_type": "markdown",
   "metadata": {},
   "source": [
    "<H1>READ CLIPBOARD</H1>"
   ]
  },
  {
   "cell_type": "markdown",
   "metadata": {},
   "source": [
    "<h1>Util Report Reverse</h1>\n"
   ]
  },
  {
   "cell_type": "code",
   "execution_count": 3,
   "metadata": {},
   "outputs": [],
   "source": [
    "#read clipboard\n",
    "clipboard = pd.read_clipboard(sep='\\t')\n",
    "\n",
    "util_report_reverse.set_dataframe(clipboard, copy_index=False, copy_head=False, extend=True, start=(util_report_reverse.rows+1, 1))"
   ]
  },
  {
   "cell_type": "markdown",
   "metadata": {},
   "source": [
    "<H1>Stock Report Reverse</h1>"
   ]
  },
  {
   "cell_type": "code",
   "execution_count": 6,
   "metadata": {},
   "outputs": [],
   "source": [
    "#read clipboard\n",
    "clipboard = pd.read_clipboard(sep='\\t')\n",
    "\n",
    "stock_report_reverse.set_dataframe(clipboard, copy_head=False, copy_index=False, extend=True, start=(stock_report_reverse.rows+1,1))"
   ]
  },
  {
   "cell_type": "markdown",
   "metadata": {},
   "source": [
    "<h1>Stock Out 33</h1>"
   ]
  },
  {
   "cell_type": "code",
   "execution_count": 9,
   "metadata": {},
   "outputs": [],
   "source": [
    "#read clipboard\n",
    "clipboard = pd.read_clipboard(sep='\\t')\n",
    "\n",
    "stockout_33.set_dataframe(clipboard, copy_head=False, copy_index=False, extend=True, start=(stockout_33.rows+1, 1))"
   ]
  },
  {
   "cell_type": "markdown",
   "metadata": {},
   "source": [
    "<H1>Stock out 33 Insure</h1>"
   ]
  },
  {
   "cell_type": "code",
   "execution_count": 7,
   "metadata": {},
   "outputs": [],
   "source": [
    "#read clipboard\n",
    "clipboard = pd.read_clipboard(sep='\\t')\n",
    "\n",
    "stockout_33insure.set_dataframe(clipboard, copy_head=False, copy_index=False, extend=True, start=(stockout_33insure.rows+1,1))"
   ]
  },
  {
   "cell_type": "markdown",
   "metadata": {},
   "source": [
    "<H1>Stock out 32</H1>"
   ]
  },
  {
   "cell_type": "code",
   "execution_count": 7,
   "metadata": {},
   "outputs": [],
   "source": [
    "#read clipboard\n",
    "clipboard = pd.read_clipboard(sep='\\t')\n",
    "\n",
    "stockout_32.set_dataframe(clipboard, copy_index=False, copy_head=False, extend=True, start=(stockout_32.rows+1, 1))"
   ]
  },
  {
   "cell_type": "markdown",
   "metadata": {},
   "source": [
    "<h1>Stock Out 49</h1>"
   ]
  },
  {
   "cell_type": "code",
   "execution_count": 10,
   "metadata": {},
   "outputs": [],
   "source": [
    "#read clipboard\n",
    "clipboard = pd.read_clipboard(sep='\\t')\n",
    "\n",
    "stockout_49.set_dataframe(clipboard, copy_index=False, copy_head=False, extend=True, start=(stockout_49.rows+1, 1))"
   ]
  },
  {
   "cell_type": "markdown",
   "metadata": {},
   "source": [
    "<h1>Stock Out 49 Insure</h1>"
   ]
  },
  {
   "cell_type": "code",
   "execution_count": 8,
   "metadata": {},
   "outputs": [],
   "source": [
    "#read clipboard\n",
    "clipboard = pd.read_clipboard(sep='\\t')\n",
    "\n",
    "stockout_49insure.set_dataframe(clipboard, copy_index=False, copy_head=False, extend=True, start=(stockout_49insure.rows+1, 1))"
   ]
  },
  {
   "cell_type": "code",
   "execution_count": null,
   "metadata": {},
   "outputs": [],
   "source": []
  }
 ],
 "metadata": {
  "kernelspec": {
   "display_name": "Python 3.10.6 64-bit",
   "language": "python",
   "name": "python3"
  },
  "language_info": {
   "codemirror_mode": {
    "name": "ipython",
    "version": 3
   },
   "file_extension": ".py",
   "mimetype": "text/x-python",
   "name": "python",
   "nbconvert_exporter": "python",
   "pygments_lexer": "ipython3",
   "version": "3.10.6"
  },
  "orig_nbformat": 4,
  "vscode": {
   "interpreter": {
    "hash": "1ef56a61dee2f6ac1a5ec28cfc093844d4b9ae4f3bee2866e0bdd69f097e7c38"
   }
  }
 },
 "nbformat": 4,
 "nbformat_minor": 2
}
