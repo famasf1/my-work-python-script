{
 "cells": [
  {
   "cell_type": "code",
   "execution_count": 1,
   "metadata": {},
   "outputs": [],
   "source": [
    "from oauth2client.service_account import ServiceAccountCredentials\n",
    "import google.auth\n",
    "import pandas as pd\n",
    "import os\n",
    "import pygsheets\n",
    "import openpyxl\n",
    "\n",
    "### sheet link to รับสินค้าเข้า DHL\n",
    "database_sheet_link = \"1IuaS4S45dgBRpUb3lqJf3VxESDUMIB3hgBRhHUmRrf0\"\n"
   ]
  },
  {
   "cell_type": "code",
   "execution_count": 2,
   "metadata": {},
   "outputs": [],
   "source": [
    "#define scope and then authorize JSON key\n",
    "scope_app = ['https://spreadsheets.google.com/feeds', 'https://www.googleapis.cp,/auth/drive']\n",
    "\n",
    "get_json_key = 'itecdatabase-b286a-2c2408acc426.json'\n",
    "\n",
    "if get_json_key in os.listdir():\n",
    "    spreadsheet = pygsheets.authorize(service_account_file=get_json_key)\n",
    "else:\n",
    "    try:\n",
    "        os.chdir(\"D:\\Workstuff\\my-work-python-script\\Database_in_pandas\\data_to_sheet\")\n",
    "        spreadsheet = pygsheets.authorize(service_account_file=get_json_key)\n",
    "    except:\n",
    "        print(\"missing JSON API key\")\n",
    "\n",
    "#open sheet\n",
    "sheet = spreadsheet.open(\"รับสินค้าเข้า (DHL&Zone)\")"
   ]
  },
  {
   "cell_type": "code",
   "execution_count": 3,
   "metadata": {},
   "outputs": [],
   "source": [
    "getdata = sheet.worksheet('id', value=1591433816)"
   ]
  },
  {
   "cell_type": "code",
   "execution_count": 8,
   "metadata": {},
   "outputs": [],
   "source": [
    "\n",
    "days = 1 # 1 = yesterday, 2 = day before yesterday etc etc you know it.\n",
    "formula_33 = f'''=QUERY('รับ'!B:N,\"SELECT B,F,G,J WHERE B CONTAINS date '\"&TEXT(DATEVALUE(TODAY()-{days}),\"yyyy-mm-dd\")&\"' AND H MATCHES '33 Service Headoffice' AND J MATCHES '.*Zone.*|.*Pantip.*' \",1)'''\n",
    "formula_33ins = f'''=QUERY('รับ'!B:N,\"SELECT B,F,G,J WHERE B CONTAINS date '\"&TEXT(DATEVALUE(TODAY()-{days}),\"yyyy-mm-dd\")&\"' AND H MATCHES '33 Insure' AND J MATCHES '.*Zone.*|.*Pantip.*' \",1)'''\n",
    "formula_49ins = f'''=QUERY('รับ'!B:N,\"SELECT B,F,G,J WHERE B CONTAINS date '\"&TEXT(DATEVALUE(TODAY()-{days}),\"yyyy-mm-dd\")&\"' AND H MATCHES '49 Trade In' AND J MATCHES '.*Zone.*|.*Pantip.*' \",1)'''\n",
    "formula_49 = f'''=QUERY('รับ'!B:N,\"SELECT B,F,G,J WHERE B CONTAINS date '\"&TEXT(DATEVALUE(TODAY()-{days}),\"yyyy-mm-dd\")&\"' AND H MATCHES '49 Return' AND J MATCHES '.*Zone.*|.*Pantip.*' \",1)'''\n",
    "\n",
    "# 29 cols\n",
    "#stockout 33\n",
    "getdata.update_value('A1', formula_33)\n",
    "stockout_33 = pd.DataFrame(getdata.get_values(('A2'), (getdata.rows,getdata.cols-25)))\n",
    "\n",
    "#stockout33_ins\n",
    "getdata.update_value('F1', formula_33ins)\n",
    "stockout_33ins = pd.DataFrame(getdata.get_values('F2', (getdata.rows,getdata.cols-20)))\n",
    "\n",
    "#stockout49_ins\n",
    "getdata.update_value('K1', formula_49ins)\n",
    "stockout_49ins = pd.DataFrame(getdata.get_values('K2', (getdata.rows,getdata.cols-15)))\n",
    "\n",
    "#stockout49\n",
    "getdata.update_value('P1', formula_49)\n",
    "stockout_49 = pd.DataFrame(getdata.get_values('P2', (getdata.rows,getdata.cols-10)))\n"
   ]
  },
  {
   "cell_type": "markdown",
   "metadata": {},
   "source": [
    "<H1>REPLACE</h1>"
   ]
  },
  {
   "cell_type": "code",
   "execution_count": 5,
   "metadata": {},
   "outputs": [],
   "source": [
    "excel_dir = os.chdir(r\"D:\\Workstuff\\my-work-python-script\\Docref\")\n",
    "\n",
    "excel_file = \"bitly+ready.xlsx\"\n",
    "\n",
    "if excel_file in os.listdir():\n",
    "    with pd.ExcelWriter(excel_file, engine=\"openpyxl\", mode=\"a\", if_sheet_exists=\"replace\") as file:\n",
    "        stockout_33.to_excel(file, sheet_name=\"33_BKK\", index=False, header=False)\n",
    "        stockout_33ins.to_excel(file, sheet_name=\"33_INS_BKK\", index=False, header=False)\n",
    "        stockout_49ins.to_excel(file, sheet_name=\"49TradeBKK\", index=False, header=False)\n",
    "        stockout_49.to_excel(file, sheet_name=\"49RETURN+747+37-BKK\", index=False, header=False)"
   ]
  },
  {
   "cell_type": "markdown",
   "metadata": {},
   "source": [
    "<H1>OVERLAY</h1>\n"
   ]
  },
  {
   "cell_type": "code",
   "execution_count": 9,
   "metadata": {},
   "outputs": [],
   "source": [
    "excel_dir = os.chdir(r\"D:\\Workstuff\\my-work-python-script\\Docref\")\n",
    "\n",
    "excel_file = \"bitly+ready.xlsx\"\n",
    "\n",
    "if excel_file in os.listdir():\n",
    "    with pd.ExcelWriter(excel_file, engine=\"openpyxl\", mode=\"a\", if_sheet_exists=\"overlay\") as file:\n",
    "        stockout_33.to_excel(file, sheet_name=\"33_BKK\", index=False, header=False, startrow=file.sheets[\"33_BKK\"].max_row)\n",
    "        stockout_33ins.to_excel(file, sheet_name=\"33_INS_BKK\", index=False, header=False,startrow=file.sheets[\"33_INS_BKK\"].max_row)\n",
    "        stockout_49ins.to_excel(file, sheet_name=\"49TradeBKK\", index=False, header=False, startrow=file.sheets[\"49TradeBKK\"].max_row)\n",
    "        stockout_49.to_excel(file, sheet_name=\"49RETURN+747+37-BKK\", index=False, header=False, startrow=file.sheets[\"49RETURN+747+37-BKK\"].max_row)"
   ]
  },
  {
   "cell_type": "code",
   "execution_count": null,
   "metadata": {},
   "outputs": [],
   "source": []
  }
 ],
 "metadata": {
  "kernelspec": {
   "display_name": "Python 3.10.6 64-bit",
   "language": "python",
   "name": "python3"
  },
  "language_info": {
   "codemirror_mode": {
    "name": "ipython",
    "version": 3
   },
   "file_extension": ".py",
   "mimetype": "text/x-python",
   "name": "python",
   "nbconvert_exporter": "python",
   "pygments_lexer": "ipython3",
   "version": "3.10.6"
  },
  "orig_nbformat": 4,
  "vscode": {
   "interpreter": {
    "hash": "1ef56a61dee2f6ac1a5ec28cfc093844d4b9ae4f3bee2866e0bdd69f097e7c38"
   }
  }
 },
 "nbformat": 4,
 "nbformat_minor": 2
}
