{
 "cells": [
  {
   "cell_type": "code",
   "execution_count": 1,
   "metadata": {},
   "outputs": [],
   "source": [
    "#import\n",
    "\n",
    "###############################\n",
    "# WHAT DAY IS TODAY?\n",
    "mydayis = 1 #0 = today or 1 = yesterday?\n",
    "###############################\n",
    "\n",
    "import pandas as pd\n",
    "from tkinter import *\n",
    "from tkinter import filedialog\n",
    "import datetime\n",
    "import openpyxl\n",
    "today = datetime.datetime.today().strftime(\"%d-%m-%y\")\n",
    "yesterday = datetime.datetime.today() - datetime.timedelta(days=1)\n",
    "yesterday = yesterday.strftime(\"%d-%m-%y\")"
   ]
  },
  {
   "cell_type": "code",
   "execution_count": null,
   "metadata": {},
   "outputs": [],
   "source": [
    "#Clean DHL Data\n",
    "\n",
    "root = Tk()\n",
    "root.excel = filedialog.askopenfilename(title='Open DHL file',filetypes=[('Excel Files', '*.xls'), ('All Files' , '*.*')])\n",
    "root.withdraw()\n",
    "sheet = pd.read_excel(root.excel)\n",
    "remove_word = sheet['CCN'].replace(['PHYIDINSURE','PHYID'],'', regex=True).str.split('-')\n",
    "rw_df = pd.DataFrame(remove_word)\n",
    "rw_df2 = rw_df[['ID','Branch','Box Num']] = pd.DataFrame(rw_df.CCN.to_list(), index=rw_df.index)"
   ]
  },
  {
   "cell_type": "code",
   "execution_count": 2,
   "metadata": {},
   "outputs": [],
   "source": [
    "df_33insure = pd.read_excel(rf\"D:\\Workstuff\\my-work-python-script\\Docref\\bitly+ready.xlsx\", sheet_name='33_INS-166',header=None, usecols=[0,1,2,3,4,5,6,7,8,9,10,11,12,13])\n",
    "df_33 = pd.read_excel(rf\"D:\\Workstuff\\my-work-python-script\\Docref\\bitly+ready.xlsx\", sheet_name='33',header=None, usecols=[0,1,2,3,4,5,6,7,8,9,10,11,12,13])\n",
    "df_49_tradein = pd.read_excel(rf\"D:\\Workstuff\\my-work-python-script\\Docref\\bitly+ready.xlsx\", sheet_name='49-Tradein',header=None, usecols=[0,1,2,3,4,5,6,7,8,9,10,11,12,13])\n",
    "df_49 = pd.read_excel(rf\"D:\\Workstuff\\my-work-python-script\\Docref\\bitly+ready.xlsx\", sheet_name='49-RETURN',header=None, usecols=[0,1,2,3,4,5,6,7,8,9,10,11,12,13])\n",
    "df_77 = pd.read_excel(rf\"D:\\Workstuff\\my-work-python-script\\Docref\\bitly+ready.xlsx\", sheet_name='77+747',header=None, usecols=[0,1,2,3,4,5,6,7,8,9,10,11,12,13])\n",
    "#df = pd.ExcelFile(rf\"D:\\Workstuff\\my-work-python-script\\Docref\\bitly+ready.xlsx\")"
   ]
  },
  {
   "cell_type": "code",
   "execution_count": 2,
   "metadata": {},
   "outputs": [],
   "source": [
    "#ID33 : คลังสินค้า Service Headoffice\n",
    "#ID49 : สินค้า Trade in\n",
    "#ID33 : คลังสินค้า Service ฝั่ง Insure\n",
    "#ID49 : สินค้าโยกเข้าคลัง (01/10/2008)\n",
    "\n",
    "source = Tk()\n",
    "source.excel = filedialog.askopenfilename(title='Open DHL file',filetypes=[('Excel Files', '*.xlsx'), ('All Files' , '*.*')])\n",
    "source.withdraw()\n",
    "\n",
    "\n",
    "df_source = pd.read_excel(source.excel, header=None)\n",
    "id33 = df_source[df_source[8] == 'ID33 : คลังสินค้า Service Headoffice']\n",
    "id49ins = df_source[df_source[8] == 'ID49 : สินค้า Trade in']\n",
    "id33ins = df_source[df_source[8] == 'ID33 : คลังสินค้า Service ฝั่ง Insure']\n",
    "id49 = df_source[df_source[8] == 'ID49 : สินค้าโยกเข้าคลัง (01/10/2008)']\n",
    "id77 = df_source[df_source[8] == 'ID77 : E-Commerce Warehouse']"
   ]
  },
  {
   "cell_type": "code",
   "execution_count": 3,
   "metadata": {},
   "outputs": [],
   "source": [
    "with pd.ExcelWriter(rf\"D:\\Workstuff\\my-work-python-script\\Docref\\bitly+ready.xlsx\",engine=\"openpyxl\",mode=\"a\", if_sheet_exists=\"replace\") as file:\n",
    "    id33ins.to_excel(file,sheet_name='33_INS-166',index=False)\n",
    "    id33.to_excel(file,sheet_name='33',index=False)\n",
    "    id49ins.to_excel(file, sheet_name='49-Tradein', index=False)\n",
    "    id49.to_excel(file, sheet_name='49-RETURN',index=False)\n",
    "    id77.to_excel(file, sheet_name='77+747',index=False)\n",
    "\n",
    "\n",
    "#=IFNA(VLOOKUP(M2,Data!C:G,5,0),\"\")\n"
   ]
  },
  {
   "cell_type": "code",
   "execution_count": null,
   "metadata": {},
   "outputs": [],
   "source": []
  },
  {
   "cell_type": "code",
   "execution_count": 56,
   "metadata": {},
   "outputs": [
    {
     "ename": "ValueError",
     "evalue": "Shape of passed values is (3, 1), indices imply (3, 3)",
     "output_type": "error",
     "traceback": [
      "\u001b[1;31m---------------------------------------------------------------------------\u001b[0m",
      "\u001b[1;31mValueError\u001b[0m                                Traceback (most recent call last)",
      "\u001b[1;32md:\\Workstuff\\my-work-python-script\\Database_in_pandas\\dhl.ipynb Cell 7\u001b[0m in \u001b[0;36m<cell line: 1>\u001b[1;34m()\u001b[0m\n\u001b[1;32m----> <a href='vscode-notebook-cell:/d%3A/Workstuff/my-work-python-script/Database_in_pandas/dhl.ipynb#X10sZmlsZQ%3D%3D?line=0'>1</a>\u001b[0m df1 \u001b[39m=\u001b[39m pd\u001b[39m.\u001b[39;49mDataFrame([\u001b[39m1\u001b[39;49m,\u001b[39m2\u001b[39;49m,\u001b[39m300\u001b[39;49m],columns\u001b[39m=\u001b[39;49m[\u001b[39m'\u001b[39;49m\u001b[39mA\u001b[39;49m\u001b[39m'\u001b[39;49m,\u001b[39m'\u001b[39;49m\u001b[39mB\u001b[39;49m\u001b[39m'\u001b[39;49m,\u001b[39m'\u001b[39;49m\u001b[39mC\u001b[39;49m\u001b[39m'\u001b[39;49m])\n\u001b[0;32m      <a href='vscode-notebook-cell:/d%3A/Workstuff/my-work-python-script/Database_in_pandas/dhl.ipynb#X10sZmlsZQ%3D%3D?line=1'>2</a>\u001b[0m df2 \u001b[39m=\u001b[39m pd\u001b[39m.\u001b[39mDataFrame([\u001b[39m4\u001b[39m,\u001b[39m5\u001b[39m,\u001b[39m9\u001b[39m],columns\u001b[39m=\u001b[39m[\u001b[39m'\u001b[39m\u001b[39mA\u001b[39m\u001b[39m'\u001b[39m,\u001b[39m'\u001b[39m\u001b[39mB\u001b[39m\u001b[39m'\u001b[39m,\u001b[39m'\u001b[39m\u001b[39mC\u001b[39m\u001b[39m'\u001b[39m])\n\u001b[0;32m      <a href='vscode-notebook-cell:/d%3A/Workstuff/my-work-python-script/Database_in_pandas/dhl.ipynb#X10sZmlsZQ%3D%3D?line=2'>3</a>\u001b[0m df2\n",
      "File \u001b[1;32mc:\\Users\\Comseven\\AppData\\Local\\Programs\\Python\\Python310\\lib\\site-packages\\pandas\\core\\frame.py:737\u001b[0m, in \u001b[0;36mDataFrame.__init__\u001b[1;34m(self, data, index, columns, dtype, copy)\u001b[0m\n\u001b[0;32m    729\u001b[0m         mgr \u001b[39m=\u001b[39m arrays_to_mgr(\n\u001b[0;32m    730\u001b[0m             arrays,\n\u001b[0;32m    731\u001b[0m             columns,\n\u001b[1;32m   (...)\u001b[0m\n\u001b[0;32m    734\u001b[0m             typ\u001b[39m=\u001b[39mmanager,\n\u001b[0;32m    735\u001b[0m         )\n\u001b[0;32m    736\u001b[0m     \u001b[39melse\u001b[39;00m:\n\u001b[1;32m--> 737\u001b[0m         mgr \u001b[39m=\u001b[39m ndarray_to_mgr(\n\u001b[0;32m    738\u001b[0m             data,\n\u001b[0;32m    739\u001b[0m             index,\n\u001b[0;32m    740\u001b[0m             columns,\n\u001b[0;32m    741\u001b[0m             dtype\u001b[39m=\u001b[39;49mdtype,\n\u001b[0;32m    742\u001b[0m             copy\u001b[39m=\u001b[39;49mcopy,\n\u001b[0;32m    743\u001b[0m             typ\u001b[39m=\u001b[39;49mmanager,\n\u001b[0;32m    744\u001b[0m         )\n\u001b[0;32m    745\u001b[0m \u001b[39melse\u001b[39;00m:\n\u001b[0;32m    746\u001b[0m     mgr \u001b[39m=\u001b[39m dict_to_mgr(\n\u001b[0;32m    747\u001b[0m         {},\n\u001b[0;32m    748\u001b[0m         index,\n\u001b[1;32m   (...)\u001b[0m\n\u001b[0;32m    751\u001b[0m         typ\u001b[39m=\u001b[39mmanager,\n\u001b[0;32m    752\u001b[0m     )\n",
      "File \u001b[1;32mc:\\Users\\Comseven\\AppData\\Local\\Programs\\Python\\Python310\\lib\\site-packages\\pandas\\core\\internals\\construction.py:351\u001b[0m, in \u001b[0;36mndarray_to_mgr\u001b[1;34m(values, index, columns, dtype, copy, typ)\u001b[0m\n\u001b[0;32m    346\u001b[0m \u001b[39m# _prep_ndarray ensures that values.ndim == 2 at this point\u001b[39;00m\n\u001b[0;32m    347\u001b[0m index, columns \u001b[39m=\u001b[39m _get_axes(\n\u001b[0;32m    348\u001b[0m     values\u001b[39m.\u001b[39mshape[\u001b[39m0\u001b[39m], values\u001b[39m.\u001b[39mshape[\u001b[39m1\u001b[39m], index\u001b[39m=\u001b[39mindex, columns\u001b[39m=\u001b[39mcolumns\n\u001b[0;32m    349\u001b[0m )\n\u001b[1;32m--> 351\u001b[0m _check_values_indices_shape_match(values, index, columns)\n\u001b[0;32m    353\u001b[0m \u001b[39mif\u001b[39;00m typ \u001b[39m==\u001b[39m \u001b[39m\"\u001b[39m\u001b[39marray\u001b[39m\u001b[39m\"\u001b[39m:\n\u001b[0;32m    355\u001b[0m     \u001b[39mif\u001b[39;00m \u001b[39missubclass\u001b[39m(values\u001b[39m.\u001b[39mdtype\u001b[39m.\u001b[39mtype, \u001b[39mstr\u001b[39m):\n",
      "File \u001b[1;32mc:\\Users\\Comseven\\AppData\\Local\\Programs\\Python\\Python310\\lib\\site-packages\\pandas\\core\\internals\\construction.py:422\u001b[0m, in \u001b[0;36m_check_values_indices_shape_match\u001b[1;34m(values, index, columns)\u001b[0m\n\u001b[0;32m    420\u001b[0m passed \u001b[39m=\u001b[39m values\u001b[39m.\u001b[39mshape\n\u001b[0;32m    421\u001b[0m implied \u001b[39m=\u001b[39m (\u001b[39mlen\u001b[39m(index), \u001b[39mlen\u001b[39m(columns))\n\u001b[1;32m--> 422\u001b[0m \u001b[39mraise\u001b[39;00m \u001b[39mValueError\u001b[39;00m(\u001b[39mf\u001b[39m\u001b[39m\"\u001b[39m\u001b[39mShape of passed values is \u001b[39m\u001b[39m{\u001b[39;00mpassed\u001b[39m}\u001b[39;00m\u001b[39m, indices imply \u001b[39m\u001b[39m{\u001b[39;00mimplied\u001b[39m}\u001b[39;00m\u001b[39m\"\u001b[39m)\n",
      "\u001b[1;31mValueError\u001b[0m: Shape of passed values is (3, 1), indices imply (3, 3)"
     ]
    }
   ],
   "source": []
  },
  {
   "cell_type": "code",
   "execution_count": null,
   "metadata": {},
   "outputs": [],
   "source": []
  }
 ],
 "metadata": {
  "kernelspec": {
   "display_name": "Python 3.10.6 64-bit",
   "language": "python",
   "name": "python3"
  },
  "language_info": {
   "codemirror_mode": {
    "name": "ipython",
    "version": 3
   },
   "file_extension": ".py",
   "mimetype": "text/x-python",
   "name": "python",
   "nbconvert_exporter": "python",
   "pygments_lexer": "ipython3",
   "version": "3.10.6"
  },
  "orig_nbformat": 4,
  "vscode": {
   "interpreter": {
    "hash": "1ef56a61dee2f6ac1a5ec28cfc093844d4b9ae4f3bee2866e0bdd69f097e7c38"
   }
  }
 },
 "nbformat": 4,
 "nbformat_minor": 2
}
