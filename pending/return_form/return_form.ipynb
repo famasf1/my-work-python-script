{
 "cells": [
  {
   "cell_type": "code",
   "execution_count": 4,
   "metadata": {},
   "outputs": [],
   "source": [
    "import tkinter as tk\n",
    "import openpyxl\n",
    "import pandas as pd\n",
    "import os\n",
    "from datetime import datetime\n",
    "\n",
    "today = datetime.today()\n",
    "main_test_path = r\"D:\\Workstuff\\my-work-python-script\\return_form\"\n",
    "excel_data_path = os.path.join(main_test_path, \"template.xlsx\")\n",
    "\n",
    "workbook = openpyxl.load_workbook(excel_data_path)\n",
    "worksheet_name = workbook.sheetnames\n",
    "worksheet = workbook[worksheet_name[1]]\n",
    "worksheet.title = \"เอกสารการส่งคืนสินค้า Supplier\"\n",
    "\n",
    "workbook.save(\"template_test.xlsx\") #todo : change it to supname"
   ]
  },
  {
   "cell_type": "code",
   "execution_count": 41,
   "metadata": {},
   "outputs": [],
   "source": [
    "data = pd.read_clipboard(sep='\\t')\n",
    "#with pd.ExcelWriter(fr'D:\\Workstuff\\my-work-python-script\\return_form\\template_test.xlsx',engine='openpyxl', mode='a', if_sheet_exists='overlay', ) as excel_file:\n",
    "#    data.to_excel(excel_file, sheet_name=\"เอกสารการส่งคืนสินค้า Supplier\", index=False,header=None, startrow=worksheet.max_row)\n",
    "\n"
   ]
  },
  {
   "cell_type": "code",
   "execution_count": null,
   "metadata": {},
   "outputs": [],
   "source": []
  },
  {
   "cell_type": "code",
   "execution_count": 35,
   "metadata": {},
   "outputs": [],
   "source": [
    "table_content = []\n",
    "\n",
    "for item in range(2, worksheet.max_row+1):\n",
    "    table_content.append({\n",
    "        'no' : item - 1,\n",
    "        'productcode' : worksheet.cell(item,1).value,\n",
    "        'productname' : worksheet.cell(item, 2).value,\n",
    "        'quantity' : worksheet.cell(item, 3).value,\n",
    "    })\n",
    "\n",
    "context = {\n",
    "    'com7rts' : 'RTSTEST0001',\n",
    "    'suppliercode' : 'RT0013',\n",
    "    'suppliername' : 'บริษัท อาร์ทีบี',\n",
    "    'date' : '31/3/2023',\n",
    "    'table_content' : table_content\n",
    "}\n",
    "\n",
    "template.render(context)\n",
    "template.save('Automated_Test.docx')"
   ]
  },
  {
   "cell_type": "code",
   "execution_count": null,
   "metadata": {},
   "outputs": [],
   "source": []
  }
 ],
 "metadata": {
  "kernelspec": {
   "display_name": "Python 3",
   "language": "python",
   "name": "python3"
  },
  "language_info": {
   "codemirror_mode": {
    "name": "ipython",
    "version": 3
   },
   "file_extension": ".py",
   "mimetype": "text/x-python",
   "name": "python",
   "nbconvert_exporter": "python",
   "pygments_lexer": "ipython3",
   "version": "3.10.6"
  },
  "orig_nbformat": 4,
  "vscode": {
   "interpreter": {
    "hash": "1ef56a61dee2f6ac1a5ec28cfc093844d4b9ae4f3bee2866e0bdd69f097e7c38"
   }
  }
 },
 "nbformat": 4,
 "nbformat_minor": 2
}
