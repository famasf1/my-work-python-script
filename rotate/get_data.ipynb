{
 "cells": [
  {
   "cell_type": "code",
   "execution_count": 8,
   "metadata": {},
   "outputs": [
    {
     "data": {
      "text/plain": [
       "''"
      ]
     },
     "execution_count": 8,
     "metadata": {},
     "output_type": "execute_result"
    }
   ],
   "source": [
    "import openpyxl\n",
    "from tkinter import filedialog\n",
    "from tkinter import *\n",
    "import pandas as pd\n",
    "import pyperclip as pc\n",
    "\n",
    " \n",
    "root = Tk()\n",
    "root.excel = filedialog.askopenfilename(title='Open Excel', filetypes=(('Excel Files','*.xlsx'),( 'All Files','*.*')))\n",
    "\n",
    "sheet = openpyxl.reader.excel.load_workbook(root.excel, data_only=True)\n",
    "root.withdraw()"
   ]
  },
  {
   "cell_type": "markdown",
   "metadata": {},
   "source": [
    "<h1>LOAD COMPLETE</h1>"
   ]
  },
  {
   "cell_type": "code",
   "execution_count": 9,
   "metadata": {},
   "outputs": [],
   "source": [
    "from dataclasses import replace\n",
    "\n",
    "\n",
    "head_as_Str = pd.read_excel(root.excel, sheet_name=1, dtype=pd.StringDtype())\n",
    "head_new = pd.read_excel(root.excel, sheet_name=1, dtype=object)\n",
    "new_head = head_as_Str[['Product Code','From Branch ID','Number Order']]\n",
    "\n",
    "df_new = head_new.groupby(['Product Code','From Branch ID'], as_index=False)['Number Order'].sum()\n",
    "df_new = df_new.astype(pd.StringDtype())\n",
    "with pd.ExcelWriter(rf'D:\\Workstuff\\my-work-python-script\\rotate\\result.xlsx', mode='a', engine='openpyxl',if_sheet_exists='replace') as file:\n",
    "    df_new.to_excel(file, sheet_name=\"Result_New\", index=False)"
   ]
  },
  {
   "cell_type": "code",
   "execution_count": null,
   "metadata": {},
   "outputs": [],
   "source": []
  }
 ],
 "metadata": {
  "kernelspec": {
   "display_name": "Python 3.10.6 64-bit",
   "language": "python",
   "name": "python3"
  },
  "language_info": {
   "codemirror_mode": {
    "name": "ipython",
    "version": 3
   },
   "file_extension": ".py",
   "mimetype": "text/x-python",
   "name": "python",
   "nbconvert_exporter": "python",
   "pygments_lexer": "ipython3",
   "version": "3.10.4"
  },
  "orig_nbformat": 4,
  "vscode": {
   "interpreter": {
    "hash": "1ef56a61dee2f6ac1a5ec28cfc093844d4b9ae4f3bee2866e0bdd69f097e7c38"
   }
  }
 },
 "nbformat": 4,
 "nbformat_minor": 2
}
