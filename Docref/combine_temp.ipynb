{
 "cells": [
  {
   "cell_type": "code",
   "execution_count": 3,
   "metadata": {},
   "outputs": [],
   "source": [
    "import openpyxl\n",
    "import pandas as pd\n",
    "import os"
   ]
  },
  {
   "cell_type": "code",
   "execution_count": 10,
   "metadata": {},
   "outputs": [
    {
     "name": "stdout",
     "output_type": "stream",
     "text": [
      "DHL 13-01-23_FCB_ONLY_1.xlsx\n",
      "DHL 14-01-23_FCB_ONLY_1.xlsx\n",
      "DHL 15-01-23_FCB_ONLY_1.xlsx\n",
      "DHL 17-01-23_FCB_ONLY_1.xlsx\n",
      "DHL 19-01-23_FCB_ONLY_1.xlsx\n",
      "DHL 20-01-23_FCB_ONLY_1.xlsx\n",
      "DHL 21-01-23_FCB_ONLY_1.xlsx\n",
      "DHL 22-01-23_FCB_ONLY_1.xlsx\n",
      "DHL 23-01-23_FCB_ONLY_1.xlsx\n",
      "DHL 24-01-23_FCB_ONLY_1.xlsx\n",
      "DHL 25-01-23_FCB_ONLY_1.xlsx\n"
     ]
    }
   ],
   "source": [
    "EXCEL_FILE_PATH = r'C:\\Users\\Comseven\\Documents\\DHL\\Completed\\1-66'\n",
    "\n",
    "#Combine all into one - FCB\n",
    "\n",
    "os.chdir(EXCEL_FILE_PATH)\n",
    "for file in os.listdir(EXCEL_FILE_PATH):\n",
    "    print(file)\n",
    "    data = pd.read_excel(file, dtype=object) ##turn excel into dataframe\n",
    "    with pd.ExcelWriter(r\"C:\\Users\\Comseven\\Documents\\DHL\\Completed\\Combine_INSURE.xlsx\", mode=\"a\", if_sheet_exists=\"overlay\", engine=\"openpyxl\") as excel_file:\n",
    "        excel_file.number_format = openpyxl.styles.numbers.FORMAT_TEXT\n",
    "        data.to_excel(excel_file, sheet_name=f\"All\", header=False, index=False, startrow=excel_file.sheets[f\"All\"].max_row)"
   ]
  },
  {
   "cell_type": "code",
   "execution_count": null,
   "metadata": {},
   "outputs": [],
   "source": []
  }
 ],
 "metadata": {
  "kernelspec": {
   "display_name": "Python 3",
   "language": "python",
   "name": "python3"
  },
  "language_info": {
   "codemirror_mode": {
    "name": "ipython",
    "version": 3
   },
   "file_extension": ".py",
   "mimetype": "text/x-python",
   "name": "python",
   "nbconvert_exporter": "python",
   "pygments_lexer": "ipython3",
   "version": "3.10.6"
  },
  "orig_nbformat": 4,
  "vscode": {
   "interpreter": {
    "hash": "1ef56a61dee2f6ac1a5ec28cfc093844d4b9ae4f3bee2866e0bdd69f097e7c38"
   }
  }
 },
 "nbformat": 4,
 "nbformat_minor": 2
}
