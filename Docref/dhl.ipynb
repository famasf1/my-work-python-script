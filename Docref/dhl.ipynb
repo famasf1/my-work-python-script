{
 "cells": [
  {
   "cell_type": "code",
   "execution_count": 2,
   "metadata": {},
   "outputs": [],
   "source": [
    "#import\n",
    "\n",
    "###############################\n",
    "# WHAT DAY IS TODAY?\n",
    "mydayis = 1 #0 = today or 1 = yesterday?\n",
    "###############################\n",
    "import pandas as pd\n",
    "from tkinter import *\n",
    "from tkinter import filedialog\n",
    "\n",
    "import datetime\n",
    "import openpyxl\n",
    "today = datetime.datetime.today().strftime(\"%d-%m-%y\")\n",
    "yesterday = datetime.datetime.today() - datetime.timedelta(days=1)\n",
    "yesterday = yesterday.strftime(\"%d-%m-%y\")"
   ]
  },
  {
   "attachments": {},
   "cell_type": "markdown",
   "metadata": {},
   "source": [
    "<h1>เริ่มตรงนี้</h1>"
   ]
  },
  {
   "cell_type": "code",
   "execution_count": 3,
   "metadata": {},
   "outputs": [
    {
     "name": "stdout",
     "output_type": "stream",
     "text": [
      "C:/Users/Comseven/Documents/DHL/Completed/DHL 21-06-23.xlsx\n"
     ]
    }
   ],
   "source": [
    "#ID33 : คลังสินค้า Service Headoffice\n",
    "#ID49 : สินค้า Trade in\n",
    "#ID33 : คลังสินค้า Service ฝั่ง Insure\n",
    "#ID49 : สินค้าโยกเข้าคลัง (01/10/2008)\n",
    "\n",
    "source = Tk()\n",
    "source.excel = filedialog.askopenfilename(title='Open DHL file',filetypes=[('Excel Files', '*.xlsx'), ('All Files' , '*.*')])\n",
    "print(source.excel)\n",
    "source.withdraw()\n",
    "\n",
    "\n",
    "\n",
    "df_source = pd.read_excel(source.excel, header=None, dtype=pd.StringDtype())\n",
    "##### COULD BE LEGACY\n",
    "#id33 = df_source[df_source[8] == 'ID33 : คลังสินค้า Service Headoffice']\n",
    "#id49ins = df_source[df_source[8] == 'ID49 : สินค้า Trade in']\n",
    "#id33ins = df_source[df_source[8] == 'ID33 : คลังสินค้า Service ฝั่ง Insure']\n",
    "#id49 = df_source[df_source[8] == 'ID49 : สินค้าโยกเข้าคลัง (01/10/2008)']\n",
    "#id747 = df_source[df_source[8] == 'ID747 : Wholesale-HQ']\n",
    "#id77 = df_source[df_source[8] == 'ID77 : E-Commerce Warehouse'].append(id747)\n",
    "#id37 = df_source[df_source[8] == 'ID37 : สินค้าโยกเข้าคลัง Write-off'].append(id77)\n"
   ]
  },
  {
   "attachments": {},
   "cell_type": "markdown",
   "metadata": {},
   "source": []
  },
  {
   "cell_type": "code",
   "execution_count": 4,
   "metadata": {},
   "outputs": [],
   "source": [
    "#separate between stockout and stockoutinsure\n",
    "stockout_insure = df_source[df_source[4].str.contains(\"PHYIDINSURE\",regex=True)]\n",
    "stockout = df_source[df_source[4].str.contains(\"[PHYID][\\d]\", regex=True)]\n"
   ]
  },
  {
   "attachments": {},
   "cell_type": "markdown",
   "metadata": {},
   "source": [
    "<h1>REPLACE (ใช้ทุกวัน)</h1>"
   ]
  },
  {
   "cell_type": "code",
   "execution_count": 5,
   "metadata": {},
   "outputs": [],
   "source": [
    "#write to excel\n",
    "#if_sheet_exists in ExcelWriter now have overlay method which will append Dataframe to last row instead\n",
    "\n",
    "with pd.ExcelWriter(rf\"D:\\Workstuff\\my-work-python-script\\Docref\\docref_ready.xlsx\",engine=\"openpyxl\",mode=\"a\", if_sheet_exists=\"replace\") as file:\n",
    "    stockout.to_excel(file, sheet_name='Stockout', index=False)\n",
    "    stockout_insure.to_excel(file, sheet_name='Stockout_Insure', index=False)\n",
    "#=IFNA(VLOOKUP(M2,Data!C:G,5,0),\"\")\n"
   ]
  },
  {
   "attachments": {},
   "cell_type": "markdown",
   "metadata": {},
   "source": [
    "<H1>INSERT FORMULA</H1>"
   ]
  },
  {
   "cell_type": "code",
   "execution_count": 6,
   "metadata": {},
   "outputs": [],
   "source": [
    "#wk = openpyxl.load_workbook(rf\"D:\\Workstuff\\my-work-python-script\\Docref\\bitly+ready.xlsx\", data_only=True)\n",
    "wk = openpyxl.load_workbook(rf\"D:\\Workstuff\\my-work-python-script\\Docref\\docref_ready.xlsx\", data_only=True)\n",
    "\n",
    "ws = wk.sheetnames\n",
    "stock = wk[ws[0]]\n",
    "stock_insure = wk[ws[1]]\n",
    "#id33ins_sheet = wk[ws[0]]\n",
    "#id33_sheet = wk[ws[1]]\n",
    "#id49trade_sheet = wk[ws[2]]\n",
    "#id49return_sheet = wk[ws[3]]\n",
    "#other_id_sheet = wk[ws[4]]\n",
    "\n",
    "for row in range(2, stock.max_row+1):\n",
    "    stock.cell(row=row, column=15).value = f'''=IFERROR(VLOOKUP({openpyxl.utils.quote_sheetname(stock.title)}!M{row},Data!C:G,5,0),\"\")'''\n",
    "\n",
    "for row in range(2, stock_insure.max_row+1):\n",
    "    stock_insure.cell(row=row, column=15).value = f'''=IFERROR(VLOOKUP({openpyxl.utils.quote_sheetname(stock_insure.title)}!M{row},Data!C:G,5,0),\"\")'''\n",
    "\n",
    "#for i in range(2,id33ins_sheet.max_row+1):\n",
    "#    id33ins_sheet.cell(row=i, column=15).value = f'''=IFERROR(VLOOKUP({openpyxl.utils.quote_sheetname(id33ins_sheet.title)}!M{i},Data!C:G,5,0),\"\")'''\n",
    "#\n",
    "#for i in range(2,id33_sheet.max_row+1):\n",
    "#    id33_sheet.cell(row=i, column=15).value = f'''=IFERROR(VLOOKUP({openpyxl.utils.quote_sheetname(id33_sheet.title)}!M{i},Data!C:G,5,0),\"\")'''\n",
    "#\n",
    "#for i in range(2,id49trade_sheet.max_row+1):\n",
    "#    id49trade_sheet.cell(row=i, column=15).value = f'''=IFERROR(VLOOKUP({openpyxl.utils.quote_sheetname(id49trade_sheet.title)}!M{i},Data!C:G,5,0),\"\")'''\n",
    "#\n",
    "#for i in range(2,id49return_sheet.max_row+1):\n",
    "#    id49return_sheet.cell(row=i, column=15).value = f'''=IFERROR(VLOOKUP({openpyxl.utils.quote_sheetname(id49return_sheet.title)}!M{i},Data!C:G,5,0),\"\")'''\n",
    "#\n",
    "#for i in range(2,other_id_sheet.max_row+1):\n",
    "#    other_id_sheet.cell(row=i, column=15).value = f'''=IFERROR(VLOOKUP({openpyxl.utils.quote_sheetname(other_id_sheet.title)}!M{i},Data!C:G,5,0),\"\")'''\n",
    "\n",
    "wk.save(rf\"D:\\Workstuff\\my-work-python-script\\Docref\\docref_ready.xlsx\")"
   ]
  },
  {
   "attachments": {},
   "cell_type": "markdown",
   "metadata": {},
   "source": [
    "<h1>ใช้เฉพาะวันจันทร์ (Overlay)</h1>"
   ]
  },
  {
   "cell_type": "code",
   "execution_count": null,
   "metadata": {},
   "outputs": [],
   "source": [
    "#write to excel\n",
    "#if_sheet_exists in ExcelWriter now have overlay method which will append Dataframe to last row instead\n",
    "\n",
    "with pd.ExcelWriter(rf\"D:\\Workstuff\\my-work-python-script\\Docref\\docref_ready.xlsx\",engine=\"openpyxl\",mode=\"a\", if_sheet_exists=\"overlay\") as file:\n",
    "    stockout.to_excel(file, sheet_name='Stockout', index=False, header=None, startrow=file.sheets['Stockout'].max_row)\n",
    "    stockout_insure.to_excel(file, sheet_name='Stockout_Insure', index=False, header=None, startrow=file.sheets['Stockout_Insure'].max_row)\n",
    "    #id33ins.to_excel(file,sheet_name='33_INS-166',index=False, startrow=file.sheets['33_INS-166'].max_row, header=None)\n",
    "    #id33.to_excel(file,sheet_name='33',index=False,startrow=file.sheets['33'].max_row, header=None)\n",
    "    #id49ins.to_excel(file, sheet_name='49-Tradein', index=False,startrow=file.sheets['49-Tradein'].max_row, header=None)\n",
    "    #id49.to_excel(file, sheet_name='49-RETURN',index=False,startrow=file.sheets['49-RETURN'].max_row, header=None)\n",
    "    #id37.to_excel(file, sheet_name='77+747',index=False,startrow=file.sheets['77+747'].max_row, header=None)\n",
    "\n",
    "\n",
    "#=IFNA(VLOOKUP(M2,Data!C:G,5,0),\"\")"
   ]
  },
  {
   "attachments": {},
   "cell_type": "markdown",
   "metadata": {},
   "source": [
    "<h1> LEGACY CODE </h1>"
   ]
  },
  {
   "cell_type": "code",
   "execution_count": null,
   "metadata": {},
   "outputs": [],
   "source": [
    "#Clean DHL Data\n",
    "\n",
    "root = Tk()\n",
    "root.excel = filedialog.askopenfilename(title='Open DHL file',filetypes=[('Excel Files', '*.xls'), ('All Files' , '*.*')])\n",
    "root.withdraw()\n",
    "sheet = pd.read_excel(root.excel)\n",
    "remove_word = sheet['CCN'].replace(['PHYIDINSURE','PHYID'],'', regex=True).str.split('-')\n",
    "rw_df = pd.DataFrame(remove_word)\n",
    "rw_df2 = rw_df[['ID','Branch','Box Num']] = pd.DataFrame(rw_df.CCN.to_list(), index=rw_df.index)"
   ]
  },
  {
   "cell_type": "code",
   "execution_count": null,
   "metadata": {},
   "outputs": [],
   "source": [
    "df_33insure = pd.read_excel(rf\"D:\\Workstuff\\my-work-python-script\\Docref\\bitly+ready.xlsx\", sheet_name='33_INS-166',header=None, usecols=[0,1,2,3,4,5,6,7,8,9,10,11,12,13])\n",
    "df_33 = pd.read_excel(rf\"D:\\Workstuff\\my-work-python-script\\Docref\\bitly+ready.xlsx\", sheet_name='33',header=None, usecols=[0,1,2,3,4,5,6,7,8,9,10,11,12,13])\n",
    "df_49_tradein = pd.read_excel(rf\"D:\\Workstuff\\my-work-python-script\\Docref\\bitly+ready.xlsx\", sheet_name='49-Tradein',header=None, usecols=[0,1,2,3,4,5,6,7,8,9,10,11,12,13])\n",
    "df_49 = pd.read_excel(rf\"D:\\Workstuff\\my-work-python-script\\Docref\\bitly+ready.xlsx\", sheet_name='49-RETURN',header=None, usecols=[0,1,2,3,4,5,6,7,8,9,10,11,12,13])\n",
    "df_77 = pd.read_excel(rf\"D:\\Workstuff\\my-work-python-script\\Docref\\bitly+ready.xlsx\", sheet_name='77+747',header=None, usecols=[0,1,2,3,4,5,6,7,8,9,10,11,12,13])\n",
    "#df = pd.ExcelFile(rf\"D:\\Workstuff\\my-work-python-script\\Docref\\bitly+ready.xlsx\")"
   ]
  }
 ],
 "metadata": {
  "kernelspec": {
   "display_name": "Python 3.10.6 64-bit",
   "language": "python",
   "name": "python3"
  },
  "language_info": {
   "codemirror_mode": {
    "name": "ipython",
    "version": 3
   },
   "file_extension": ".py",
   "mimetype": "text/x-python",
   "name": "python",
   "nbconvert_exporter": "python",
   "pygments_lexer": "ipython3",
   "version": "3.10.6"
  },
  "orig_nbformat": 4,
  "vscode": {
   "interpreter": {
    "hash": "1ef56a61dee2f6ac1a5ec28cfc093844d4b9ae4f3bee2866e0bdd69f097e7c38"
   }
  }
 },
 "nbformat": 4,
 "nbformat_minor": 2
}
