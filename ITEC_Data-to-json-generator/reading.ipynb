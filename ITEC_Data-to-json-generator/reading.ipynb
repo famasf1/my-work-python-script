{
 "cells": [
  {
   "cell_type": "code",
   "execution_count": 1,
   "metadata": {},
   "outputs": [],
   "source": [
    "#import\n",
    "\n",
    "import pandas as pd"
   ]
  },
  {
   "cell_type": "code",
   "execution_count": null,
   "metadata": {},
   "outputs": [],
   "source": [
    "#read clipboard\n",
    "\n",
    "clipboard = pd.read_clipboard(sep='\\t')\n",
    "clipboard"
   ]
  },
  {
   "cell_type": "code",
   "execution_count": 165,
   "metadata": {},
   "outputs": [
    {
     "data": {
      "text/plain": [
       "Index(['Doc No', 'Branch (ID)', 'Branch (Name)', 'Doc Ref', 'Doc Date',\n",
       "       'Product (Code)', 'Product (Name)', 'Serial', 'Category Name',\n",
       "       'Stock Zone', 'Number', 'Sum Number', 'ID', 'Stock In (ID)',\n",
       "       'Branch To (ID)', 'Finish Time', 'ราคาก่อน Vat', 'ราคาหลัง Vat',\n",
       "       'Officer (ID)', 'Officer (Name)', 'Comment', 'Status', 'Log In (ID)',\n",
       "       'Log In (Name)', 'Create Time', 'Update (ID)', 'Update (Name)',\n",
       "       'Update Time', 'Replicate Time', 'Counter', 'PHYID'],\n",
       "      dtype='object')"
      ]
     },
     "execution_count": 165,
     "metadata": {},
     "output_type": "execute_result"
    }
   ],
   "source": [
    "#### In case i don't have PHYID columns\n",
    "\n",
    "#new_Df = pd.DataFrame(clipboard['ID'].apply(str) + \"-\" + clipboard['Branch (ID)'].apply(str)).rename(columns={0 : 'PHYID'}, inplace=False)\n",
    "#new_Df = pd.concat([clipboard, new_Df], axis=1)\n",
    "\n",
    "\n",
    "#see column names (and confirmed it's working)\n",
    "clipboard.columns"
   ]
  },
  {
   "cell_type": "code",
   "execution_count": 185,
   "metadata": {},
   "outputs": [],
   "source": [
    "##set PHYID as index\n",
    "\n",
    "clipboard = clipboard[['PHYID','Product (Code)','Product (Name)','Serial','Number']]\n",
    "new_clipboard = clipboard.set_index('PHYID')\n"
   ]
  },
  {
   "cell_type": "code",
   "execution_count": 194,
   "metadata": {},
   "outputs": [
    {
     "data": {
      "text/plain": [
       "PHYID\n",
       "1525-1258    {'Product (Code)': '8859703403630', 'Product (...\n",
       "589-786      {'Product (Code)': '608119198887', 'Product (N...\n",
       "589-786      {'Product (Code)': '608119198887', 'Product (N...\n",
       "172285-33    {'Product (Code)': '6970344731684', 'Product (...\n",
       "172285-33    {'Product (Code)': '6970344731684', 'Product (...\n",
       "                                   ...                        \n",
       "74-1585      {'Product (Code)': '7630477854399', 'Product (...\n",
       "74-1585      {'Product (Code)': '7630477854412', 'Product (...\n",
       "74-1585      {'Product (Code)': '7630477884778', 'Product (...\n",
       "35-1577      {'Product (Code)': '7630311514885', 'Product (...\n",
       "35-1577      {'Product (Code)': '7630311514885', 'Product (...\n",
       "Length: 12118, dtype: object"
      ]
     },
     "execution_count": 194,
     "metadata": {},
     "output_type": "execute_result"
    }
   ],
   "source": [
    "##apply the dataframe into dictionary\n",
    "\n",
    "colasdict = new_clipboard.apply(dict, axis=1)\n",
    "colasdict"
   ]
  },
  {
   "cell_type": "code",
   "execution_count": 195,
   "metadata": {},
   "outputs": [],
   "source": [
    "##then take that dict and turn it into list of dictionary based on index\n",
    "##So easy but i cant figure it out because i'm bad\n",
    "\n",
    "result = colasdict.groupby(colasdict.index).apply(list)"
   ]
  },
  {
   "cell_type": "code",
   "execution_count": 197,
   "metadata": {},
   "outputs": [],
   "source": [
    "##Then convert into JSON and upload it to firebase\n",
    "\n",
    "with open('test.json','w+', encoding='utf-8',) as file:\n",
    "    result.to_json(file,orient='index',index=True, force_ascii=False, indent=2)"
   ]
  },
  {
   "cell_type": "code",
   "execution_count": 191,
   "metadata": {},
   "outputs": [
    {
     "data": {
      "text/plain": [
       "ID_city\n",
       "4300803                         [{'city': 'SAN', 'info': 5}]\n",
       "4314902    [{'city': 'POA', 'info': 10}, {'city': 'POA', ...\n",
       "dtype: object"
      ]
     },
     "execution_count": 191,
     "metadata": {},
     "output_type": "execute_result"
    }
   ],
   "source": []
  },
  {
   "cell_type": "code",
   "execution_count": null,
   "metadata": {},
   "outputs": [],
   "source": []
  }
 ],
 "metadata": {
  "kernelspec": {
   "display_name": "Python 3.10.5 64-bit",
   "language": "python",
   "name": "python3"
  },
  "language_info": {
   "codemirror_mode": {
    "name": "ipython",
    "version": 3
   },
   "file_extension": ".py",
   "mimetype": "text/x-python",
   "name": "python",
   "nbconvert_exporter": "python",
   "pygments_lexer": "ipython3",
   "version": "3.10.5"
  },
  "orig_nbformat": 4,
  "vscode": {
   "interpreter": {
    "hash": "bda2d7e1d8ce3e9d9eb4845ce2bf2d2cd8b95573ee5d31a32a74e85678cbafe3"
   }
  }
 },
 "nbformat": 4,
 "nbformat_minor": 2
}
