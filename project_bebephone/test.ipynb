{
 "cells": [
  {
   "cell_type": "code",
   "execution_count": 1,
   "metadata": {},
   "outputs": [],
   "source": [
    "import os\n",
    "import openpyxl\n",
    "from tkinter import Tk, filedialog\n"
   ]
  },
  {
   "cell_type": "code",
   "execution_count": 2,
   "metadata": {},
   "outputs": [],
   "source": [
    "asset_directory = os.path.join(os.getcwd(), r\"Asset\")\n",
    "\n",
    "root = Tk()\n"
   ]
  },
  {
   "cell_type": "code",
   "execution_count": 3,
   "metadata": {},
   "outputs": [],
   "source": [
    "#get asset\n",
    "asset_dir = os.path.join(asset_directory, r\"BARCODE.xlsx\")\n",
    "PRINT_dir = r\"D:\\Workstuff\\my-work-python-script\\project_bebephone\\PRINT\"\n",
    "workbook = openpyxl.load_workbook(asset_dir, data_only=True)\n",
    "worksheet = workbook.sheetnames\n",
    "block90_sheet = workbook[worksheet[0]]\n",
    "block117_sheet = workbook[worksheet[1]]\n",
    "block56_sheet = workbook[worksheet[2]]\n",
    "#get data\n",
    "get_wb = filedialog.askopenfilename(title=\"เลือกไฟล์ข้อมูล Excel\", filetypes=([(\"*Excel Files\", \"*.xlsx\"), (\"All Files\", \"*.*\")]))\n",
    "data_wb = openpyxl.load_workbook(get_wb, data_only=True)\n",
    "data_sheet = data_wb.sheetnames\n",
    "get_sheet = data_wb[data_sheet[0]]"
   ]
  },
  {
   "attachments": {},
   "cell_type": "markdown",
   "metadata": {},
   "source": [
    "<h1>BLOCK56</H1>"
   ]
  },
  {
   "cell_type": "code",
   "execution_count": 38,
   "metadata": {},
   "outputs": [
    {
     "name": "stdout",
     "output_type": "stream",
     "text": [
      "[8]\n",
      "[8]\n"
     ]
    }
   ],
   "source": [
    "total_print_list = [] #must under 56\n",
    "\n",
    "#bebe row\n",
    "bebe_start_row_number = 3\n",
    "\n",
    "#barcode row\n",
    "com7barcode_startrow = 4\n",
    "\n",
    "#barcode text\n",
    "com7barcodetext_startrow = 5\n",
    "\n",
    "#data\n",
    "data_startrow = 3\n",
    "\n",
    "ran = False\n",
    "col = 2\n",
    "\n",
    "\n",
    "\n",
    "for total_print_row in range(data_startrow,get_sheet.max_row+1):\n",
    "    \n",
    "    bebecode = get_sheet.cell(row=total_print_row,column = 2).value #0166\n",
    "    com7productcode = get_sheet.cell(row=total_print_row, column = 1).value #51691\n",
    "    total_print_data = get_sheet.cell(row=total_print_row, column = 4).value #8 #int\n",
    "\n",
    "\n",
    "    #define row\n",
    "    #block56\n",
    "    \n",
    "    #create list to determine whether it hits 56\n",
    "    total_print_list.append(total_print_data)\n",
    "    print(total_print_list)\n",
    "    if sum(total_print_list) <= 56:\n",
    "        print(total_print_list)\n",
    "        workbook.save(\"test.xlsx\")\n",
    "        break\n",
    "\n",
    "    for row_cell in range(1,total_print_data+1):\n",
    "        print(f\"loop : {row_cell}\")\n",
    "        for bebe_row in range(bebe_start_row_number,73,5):\n",
    "            for com7barcoderow in range(com7barcode_startrow, 74, 5):\n",
    "                for com7barcodetext_row in range(com7barcodetext_startrow, 75, 5):\n",
    "\n",
    "                    if col == 8:\n",
    "                        block56_sheet.cell(row=bebe_row, column=col).value = bebecode\n",
    "                        block56_sheet.cell(row=com7barcoderow, column=col).value = com7productcode\n",
    "                        block56_sheet.cell(row=com7barcodetext_row, column=col).value = com7productcode\n",
    "                        col = 2\n",
    "                        bebe_start_row_number = bebe_row + 5\n",
    "                        com7barcode_startrow = com7barcoderow + 5\n",
    "                        com7barcodetext_startrow = com7barcodetext_row + 5\n",
    "                    else:                            \n",
    "                        block56_sheet.cell(row=bebe_row, column=col).value = bebecode\n",
    "                        block56_sheet.cell(row=com7barcoderow, column=col).value = com7productcode\n",
    "                        block56_sheet.cell(row=com7barcodetext_row, column=col).value = com7productcode\n",
    "                        col += 2\n",
    "                        if row_cell == total_print_data+1:\n",
    "                            workbook.save(\"test.xlsx\")\n",
    "                    break\n",
    "                break\n",
    "            break        \n",
    "\n",
    "        \n",
    "            \n",
    "            \n",
    "\n",
    "\n",
    "\n"
   ]
  },
  {
   "attachments": {},
   "cell_type": "markdown",
   "metadata": {},
   "source": [
    "<h1>BLOCK 117</h1>"
   ]
  },
  {
   "cell_type": "code",
   "execution_count": null,
   "metadata": {},
   "outputs": [],
   "source": []
  },
  {
   "attachments": {},
   "cell_type": "markdown",
   "metadata": {},
   "source": [
    "<h1>BLOCK90</h1>"
   ]
  },
  {
   "cell_type": "code",
   "execution_count": null,
   "metadata": {},
   "outputs": [],
   "source": []
  },
  {
   "cell_type": "code",
   "execution_count": null,
   "metadata": {},
   "outputs": [],
   "source": [
    "for row_cell in range(1,total_print_data+1): #i want it to loop n times from the list value\n",
    "    for bebe_row in range(3,73,5):\n",
    "        for bebe_col in range(2,10,2):\n",
    "                block56_sheet.cell(row=bebe_row, column=bebe_col).value = bebecode\n",
    "    #barcode row\n",
    "    for barcode_row in range(4,74,5):\n",
    "        for barcode_col in range(2,10,2):\n",
    "            block56_sheet.cell(row=barcode_row, column=barcode_col).value = com7productcode\n",
    "    #barcode number row\n",
    "    for barcode_number_row in range(5,75,5):\n",
    "        for barcode_number_col in range(2,10,2):\n",
    "            block56_sheet.cell(row=barcode_number_row, column=barcode_number_row).value = com7productcode\n",
    "    workbook.save(\"test.xlsx\")\n",
    "if sum(total_print_list) >= 56:\n",
    "    workbook.save(\"test.xlsx\")\n",
    "    break"
   ]
  },
  {
   "cell_type": "code",
   "execution_count": 84,
   "metadata": {},
   "outputs": [],
   "source": [
    "def generate_barcode(data = '0'):\n",
    "    #get asset\n",
    "    asset_dir = os.path.join(asset_directory, r\"BARCODE.xlsx\")\n",
    "    PRINT_dir = r\"D:\\Workstuff\\my-work-python-script\\project_bebephone\\PRINT\"\n",
    "    workbook = openpyxl.load_workbook(asset_dir, data_only=True)\n",
    "    worksheet = workbook.sheetnames\n",
    "    block90_sheet = workbook[worksheet[0]]\n",
    "    block117_sheet = workbook[worksheet[1]]\n",
    "    block56_sheet = workbook[worksheet[2]]\n",
    "    #get data\n",
    "    get_wb = filedialog.askopenfilename(title=\"เลือกไฟล์ข้อมูล Excel\", filetypes=([(\"*Excel Files\", \"*.xlsx\"), (\"All Files\", \"*.*\")]))\n",
    "    data_wb = openpyxl.load_workbook(get_wb, data_only=True)\n",
    "    data_sheet = data_wb.sheetnames\n",
    "    get_sheet = data_wb[data_sheet[0]]\n",
    "\n",
    "    #loop create folder\n",
    "    #TODO\n",
    "\n",
    "    ####for folder_dir in range(3,141,2):\n",
    "    ####    folder_name = str(get_sheet.cell(row=2, column=folder_dir).value)\n",
    "    ####    os.mkdir(os.path.join(PRINT_dir,folder_name))\n",
    "\n",
    "    #loop data\n",
    "    #beberow\n",
    "\n",
    "    #this loop get just data to calculate\n",
    "    total_print_list = []\n",
    "    for total_print_row in range(3,get_sheet.max_row+1):\n",
    "        bebecode = get_sheet.cell(row=total_print_row,column=2).value\n",
    "        com7productcode = get_sheet.cell(row=total_print_row, column = 1).value\n",
    "        total_print_data = get_sheet.cell(row=total_print_row, column = 4).value #int\n",
    "\n",
    "        total_print_list.append(total_print_data)\n",
    "        for row_cell in range(1,total_print_data):\n",
    "            #total_print_list = [].append(total_print)\n",
    "            #            print(total_print_list)\n",
    "            #            if sum(total_print_list) == 56:\n",
    "            #                total_print_list = []\n",
    "            #                print(\"full\")\n",
    "\n",
    "            def block_56():\n",
    "                #bebecode row\n",
    "                for bebe_row in range(3,73,5):\n",
    "                    for bebe_col in range(2,10,2):\n",
    "                        block56_sheet.cell(row=bebe_row, column=bebe_col).value = bebecode\n",
    "                #barcode row\n",
    "                for barcode_row in range(4,74,5):\n",
    "                    for barcode_col in range(2,10,2):\n",
    "                        block56_sheet.cell(row=barcode_row, column=barcode_col).value = com7productcode\n",
    "                #barcode number row\n",
    "                for barcode_number_row in range(5,75,5):\n",
    "                    for barcode_number_col in range(2,10,2):\n",
    "                        block56_sheet.cell(row=barcode_number_row, column=barcode_number_row).value = com7productcode\n",
    "            block_56()\n",
    "            workbook.save(f\"ID:1832-{total_print_row - 2}.xlsx\")\n",
    "                \n",
    "\n",
    "\n",
    "\n",
    "            #TODO\n",
    "            def block_90():\n",
    "                for row2 in range(2,74,4):\n",
    "                    for colnum2 in range(2,15,3):\n",
    "                        pass\n",
    "                    #barcoderow\n",
    "                    for row3 in range(3,74,4):\n",
    "                        for colnum3 in range(2,15,3):\n",
    "                            pass\n",
    "                    #barcode number row\n",
    "                    for row4 in range(4,74,4):\n",
    "                        for colnum4 in range(2,15,3):\n",
    "                            pass\n",
    "                            #print(block90_sheet.cell(row=row4, column=colnum4).value)\n",
    "\n",
    "\n",
    "\n",
    "\n",
    "        if sum(total_print_list) >= 56:\n",
    "            total_print_list.clear()\n",
    "\n",
    "\n",
    "    "
   ]
  },
  {
   "cell_type": "code",
   "execution_count": 85,
   "metadata": {},
   "outputs": [
    {
     "ename": "KeyboardInterrupt",
     "evalue": "",
     "output_type": "error",
     "traceback": [
      "\u001b[1;31m---------------------------------------------------------------------------\u001b[0m",
      "\u001b[1;31mKeyboardInterrupt\u001b[0m                         Traceback (most recent call last)",
      "\u001b[1;32md:\\Workstuff\\my-work-python-script\\project_bebephone\\test.ipynb Cell 5\u001b[0m in \u001b[0;36m<cell line: 1>\u001b[1;34m()\u001b[0m\n\u001b[1;32m----> <a href='vscode-notebook-cell:/d%3A/Workstuff/my-work-python-script/project_bebephone/test.ipynb#W3sZmlsZQ%3D%3D?line=0'>1</a>\u001b[0m generate_barcode()\n",
      "\u001b[1;32md:\\Workstuff\\my-work-python-script\\project_bebephone\\test.ipynb Cell 5\u001b[0m in \u001b[0;36mgenerate_barcode\u001b[1;34m(data)\u001b[0m\n\u001b[0;32m     <a href='vscode-notebook-cell:/d%3A/Workstuff/my-work-python-script/project_bebephone/test.ipynb#W3sZmlsZQ%3D%3D?line=52'>53</a>\u001b[0m             block56_sheet\u001b[39m.\u001b[39mcell(row\u001b[39m=\u001b[39mbarcode_number_row, column\u001b[39m=\u001b[39mbarcode_number_row)\u001b[39m.\u001b[39mvalue \u001b[39m=\u001b[39m com7productcode\n\u001b[0;32m     <a href='vscode-notebook-cell:/d%3A/Workstuff/my-work-python-script/project_bebephone/test.ipynb#W3sZmlsZQ%3D%3D?line=53'>54</a>\u001b[0m block_56()\n\u001b[1;32m---> <a href='vscode-notebook-cell:/d%3A/Workstuff/my-work-python-script/project_bebephone/test.ipynb#W3sZmlsZQ%3D%3D?line=54'>55</a>\u001b[0m workbook\u001b[39m.\u001b[39;49msave(\u001b[39mf\u001b[39;49m\u001b[39m\"\u001b[39;49m\u001b[39mID:1832-\u001b[39;49m\u001b[39m{\u001b[39;49;00mtotal_print_row \u001b[39m-\u001b[39;49m \u001b[39m2\u001b[39;49m\u001b[39m}\u001b[39;49;00m\u001b[39m.xlsx\u001b[39;49m\u001b[39m\"\u001b[39;49m)\n\u001b[0;32m     <a href='vscode-notebook-cell:/d%3A/Workstuff/my-work-python-script/project_bebephone/test.ipynb#W3sZmlsZQ%3D%3D?line=59'>60</a>\u001b[0m \u001b[39m#TODO\u001b[39;00m\n\u001b[0;32m     <a href='vscode-notebook-cell:/d%3A/Workstuff/my-work-python-script/project_bebephone/test.ipynb#W3sZmlsZQ%3D%3D?line=60'>61</a>\u001b[0m \u001b[39mdef\u001b[39;00m \u001b[39mblock_90\u001b[39m():\n",
      "File \u001b[1;32mc:\\Users\\Comseven\\AppData\\Local\\Programs\\Python\\Python310\\lib\\site-packages\\openpyxl\\workbook\\workbook.py:407\u001b[0m, in \u001b[0;36mWorkbook.save\u001b[1;34m(self, filename)\u001b[0m\n\u001b[0;32m    405\u001b[0m \u001b[39mif\u001b[39;00m \u001b[39mself\u001b[39m\u001b[39m.\u001b[39mwrite_only \u001b[39mand\u001b[39;00m \u001b[39mnot\u001b[39;00m \u001b[39mself\u001b[39m\u001b[39m.\u001b[39mworksheets:\n\u001b[0;32m    406\u001b[0m     \u001b[39mself\u001b[39m\u001b[39m.\u001b[39mcreate_sheet()\n\u001b[1;32m--> 407\u001b[0m save_workbook(\u001b[39mself\u001b[39;49m, filename)\n",
      "File \u001b[1;32mc:\\Users\\Comseven\\AppData\\Local\\Programs\\Python\\Python310\\lib\\site-packages\\openpyxl\\writer\\excel.py:293\u001b[0m, in \u001b[0;36msave_workbook\u001b[1;34m(workbook, filename)\u001b[0m\n\u001b[0;32m    291\u001b[0m archive \u001b[39m=\u001b[39m ZipFile(filename, \u001b[39m'\u001b[39m\u001b[39mw\u001b[39m\u001b[39m'\u001b[39m, ZIP_DEFLATED, allowZip64\u001b[39m=\u001b[39m\u001b[39mTrue\u001b[39;00m)\n\u001b[0;32m    292\u001b[0m writer \u001b[39m=\u001b[39m ExcelWriter(workbook, archive)\n\u001b[1;32m--> 293\u001b[0m writer\u001b[39m.\u001b[39;49msave()\n\u001b[0;32m    294\u001b[0m \u001b[39mreturn\u001b[39;00m \u001b[39mTrue\u001b[39;00m\n",
      "File \u001b[1;32mc:\\Users\\Comseven\\AppData\\Local\\Programs\\Python\\Python310\\lib\\site-packages\\openpyxl\\writer\\excel.py:275\u001b[0m, in \u001b[0;36mExcelWriter.save\u001b[1;34m(self)\u001b[0m\n\u001b[0;32m    273\u001b[0m \u001b[39mdef\u001b[39;00m \u001b[39msave\u001b[39m(\u001b[39mself\u001b[39m):\n\u001b[0;32m    274\u001b[0m     \u001b[39m\"\"\"Write data into the archive.\"\"\"\u001b[39;00m\n\u001b[1;32m--> 275\u001b[0m     \u001b[39mself\u001b[39;49m\u001b[39m.\u001b[39;49mwrite_data()\n\u001b[0;32m    276\u001b[0m     \u001b[39mself\u001b[39m\u001b[39m.\u001b[39m_archive\u001b[39m.\u001b[39mclose()\n",
      "File \u001b[1;32mc:\\Users\\Comseven\\AppData\\Local\\Programs\\Python\\Python310\\lib\\site-packages\\openpyxl\\writer\\excel.py:75\u001b[0m, in \u001b[0;36mExcelWriter.write_data\u001b[1;34m(self)\u001b[0m\n\u001b[0;32m     72\u001b[0m \u001b[39melse\u001b[39;00m:\n\u001b[0;32m     73\u001b[0m     archive\u001b[39m.\u001b[39mwritestr(ARC_THEME, theme_xml)\n\u001b[1;32m---> 75\u001b[0m \u001b[39mself\u001b[39;49m\u001b[39m.\u001b[39;49m_write_worksheets()\n\u001b[0;32m     76\u001b[0m \u001b[39mself\u001b[39m\u001b[39m.\u001b[39m_write_chartsheets()\n\u001b[0;32m     77\u001b[0m \u001b[39mself\u001b[39m\u001b[39m.\u001b[39m_write_images()\n",
      "File \u001b[1;32mc:\\Users\\Comseven\\AppData\\Local\\Programs\\Python\\Python310\\lib\\site-packages\\openpyxl\\writer\\excel.py:215\u001b[0m, in \u001b[0;36mExcelWriter._write_worksheets\u001b[1;34m(self)\u001b[0m\n\u001b[0;32m    212\u001b[0m \u001b[39mfor\u001b[39;00m idx, ws \u001b[39min\u001b[39;00m \u001b[39menumerate\u001b[39m(\u001b[39mself\u001b[39m\u001b[39m.\u001b[39mworkbook\u001b[39m.\u001b[39mworksheets, \u001b[39m1\u001b[39m):\n\u001b[0;32m    214\u001b[0m     ws\u001b[39m.\u001b[39m_id \u001b[39m=\u001b[39m idx\n\u001b[1;32m--> 215\u001b[0m     \u001b[39mself\u001b[39;49m\u001b[39m.\u001b[39;49mwrite_worksheet(ws)\n\u001b[0;32m    217\u001b[0m     \u001b[39mif\u001b[39;00m ws\u001b[39m.\u001b[39m_drawing:\n\u001b[0;32m    218\u001b[0m         \u001b[39mself\u001b[39m\u001b[39m.\u001b[39m_write_drawing(ws\u001b[39m.\u001b[39m_drawing)\n",
      "File \u001b[1;32mc:\\Users\\Comseven\\AppData\\Local\\Programs\\Python\\Python310\\lib\\site-packages\\openpyxl\\writer\\excel.py:203\u001b[0m, in \u001b[0;36mExcelWriter.write_worksheet\u001b[1;34m(self, ws)\u001b[0m\n\u001b[0;32m    200\u001b[0m     writer\u001b[39m.\u001b[39mwrite()\n\u001b[0;32m    202\u001b[0m ws\u001b[39m.\u001b[39m_rels \u001b[39m=\u001b[39m writer\u001b[39m.\u001b[39m_rels\n\u001b[1;32m--> 203\u001b[0m \u001b[39mself\u001b[39;49m\u001b[39m.\u001b[39;49m_archive\u001b[39m.\u001b[39;49mwrite(writer\u001b[39m.\u001b[39;49mout, ws\u001b[39m.\u001b[39;49mpath[\u001b[39m1\u001b[39;49m:])\n\u001b[0;32m    204\u001b[0m \u001b[39mself\u001b[39m\u001b[39m.\u001b[39mmanifest\u001b[39m.\u001b[39mappend(ws)\n\u001b[0;32m    205\u001b[0m writer\u001b[39m.\u001b[39mcleanup()\n",
      "File \u001b[1;32m~\\AppData\\Local\\Programs\\Python\\Python310\\Lib\\zipfile.py:1773\u001b[0m, in \u001b[0;36mZipFile.write\u001b[1;34m(self, filename, arcname, compress_type, compresslevel)\u001b[0m\n\u001b[0;32m   1771\u001b[0m         \u001b[39mself\u001b[39m\u001b[39m.\u001b[39mstart_dir \u001b[39m=\u001b[39m \u001b[39mself\u001b[39m\u001b[39m.\u001b[39mfp\u001b[39m.\u001b[39mtell()\n\u001b[0;32m   1772\u001b[0m \u001b[39melse\u001b[39;00m:\n\u001b[1;32m-> 1773\u001b[0m     \u001b[39mwith\u001b[39;00m \u001b[39mopen\u001b[39m(filename, \u001b[39m\"\u001b[39m\u001b[39mrb\u001b[39m\u001b[39m\"\u001b[39m) \u001b[39mas\u001b[39;00m src, \u001b[39mself\u001b[39m\u001b[39m.\u001b[39mopen(zinfo, \u001b[39m'\u001b[39m\u001b[39mw\u001b[39m\u001b[39m'\u001b[39m) \u001b[39mas\u001b[39;00m dest:\n\u001b[0;32m   1774\u001b[0m         shutil\u001b[39m.\u001b[39mcopyfileobj(src, dest, \u001b[39m1024\u001b[39m\u001b[39m*\u001b[39m\u001b[39m8\u001b[39m)\n",
      "File \u001b[1;32m~\\AppData\\Local\\Programs\\Python\\Python310\\Lib\\zipfile.py:1149\u001b[0m, in \u001b[0;36m_ZipWriteFile.close\u001b[1;34m(self)\u001b[0m\n\u001b[0;32m   1147\u001b[0m \u001b[39m# Flush any data from the compressor, and update header info\u001b[39;00m\n\u001b[0;32m   1148\u001b[0m \u001b[39mif\u001b[39;00m \u001b[39mself\u001b[39m\u001b[39m.\u001b[39m_compressor:\n\u001b[1;32m-> 1149\u001b[0m     buf \u001b[39m=\u001b[39m \u001b[39mself\u001b[39;49m\u001b[39m.\u001b[39;49m_compressor\u001b[39m.\u001b[39;49mflush()\n\u001b[0;32m   1150\u001b[0m     \u001b[39mself\u001b[39m\u001b[39m.\u001b[39m_compress_size \u001b[39m+\u001b[39m\u001b[39m=\u001b[39m \u001b[39mlen\u001b[39m(buf)\n\u001b[0;32m   1151\u001b[0m     \u001b[39mself\u001b[39m\u001b[39m.\u001b[39m_fileobj\u001b[39m.\u001b[39mwrite(buf)\n",
      "\u001b[1;31mKeyboardInterrupt\u001b[0m: "
     ]
    }
   ],
   "source": [
    "generate_barcode()"
   ]
  },
  {
   "cell_type": "code",
   "execution_count": null,
   "metadata": {},
   "outputs": [],
   "source": []
  }
 ],
 "metadata": {
  "kernelspec": {
   "display_name": "Python 3",
   "language": "python",
   "name": "python3"
  },
  "language_info": {
   "codemirror_mode": {
    "name": "ipython",
    "version": 3
   },
   "file_extension": ".py",
   "mimetype": "text/x-python",
   "name": "python",
   "nbconvert_exporter": "python",
   "pygments_lexer": "ipython3",
   "version": "3.11.1"
  },
  "orig_nbformat": 4,
  "vscode": {
   "interpreter": {
    "hash": "3672012b071180481b77ee8fd472379332705efa88b9d514dfab8b651f9e1e0c"
   }
  }
 },
 "nbformat": 4,
 "nbformat_minor": 2
}
